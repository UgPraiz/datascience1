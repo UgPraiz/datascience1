{
 "cells": [
  {
   "cell_type": "code",
   "execution_count": 1,
   "id": "b57a9827",
   "metadata": {},
   "outputs": [],
   "source": [
    "# TUPLE\n",
    "# Tuple is unchangeable\n",
    "# Tuple must be ordered\n",
    "# Tuple is denoted with ()\n",
    "# To access any value from the tuple we use the index location starting from 0 from the front and -1 from the back"
   ]
  },
  {
   "cell_type": "code",
   "execution_count": 4,
   "id": "5c64622f",
   "metadata": {},
   "outputs": [
    {
     "name": "stdout",
     "output_type": "stream",
     "text": [
      "<class 'tuple'>\n"
     ]
    }
   ],
   "source": [
    "numbers = (45,25,58,25,80,78,96,35,62,45,20,23,20,52)\n",
    "print(type(numbers))"
   ]
  },
  {
   "cell_type": "code",
   "execution_count": 5,
   "id": "33f2d9b4",
   "metadata": {},
   "outputs": [
    {
     "name": "stdout",
     "output_type": "stream",
     "text": [
      "14\n"
     ]
    }
   ],
   "source": [
    "print(len(numbers))"
   ]
  },
  {
   "cell_type": "code",
   "execution_count": 6,
   "id": "068363b0",
   "metadata": {},
   "outputs": [
    {
     "name": "stdout",
     "output_type": "stream",
     "text": [
      "96\n"
     ]
    }
   ],
   "source": [
    "print(numbers[6])# retriving a value by it index location from the starting value"
   ]
  },
  {
   "cell_type": "code",
   "execution_count": 7,
   "id": "97d2043d",
   "metadata": {},
   "outputs": [
    {
     "name": "stdout",
     "output_type": "stream",
     "text": [
      "96\n"
     ]
    }
   ],
   "source": [
    "print(numbers[-8])#retriving a value by it index location from the stoping value"
   ]
  },
  {
   "cell_type": "code",
   "execution_count": 10,
   "id": "88e933da",
   "metadata": {},
   "outputs": [
    {
     "name": "stdout",
     "output_type": "stream",
     "text": [
      "(25, 80, 78, 96, 35, 62)\n"
     ]
    }
   ],
   "source": [
    "print(numbers[3:9])# ACCESSING RANGE OF VALUES FROM THE TUPLE"
   ]
  },
  {
   "cell_type": "code",
   "execution_count": 11,
   "id": "a75fd667",
   "metadata": {},
   "outputs": [
    {
     "name": "stdout",
     "output_type": "stream",
     "text": [
      "2\n"
     ]
    }
   ],
   "source": [
    "print(numbers.count(25))#CHECKING THE FREQUENCY OF A VALUE IN THE TUPLE"
   ]
  },
  {
   "cell_type": "code",
   "execution_count": 13,
   "id": "937fd29c",
   "metadata": {},
   "outputs": [
    {
     "name": "stdout",
     "output_type": "stream",
     "text": [
      "1\n"
     ]
    }
   ],
   "source": [
    "print(numbers.index(25))#ACCESSING THE INDEX LOCATION OF A VALUE IN THE TUPLE"
   ]
  },
  {
   "cell_type": "code",
   "execution_count": 14,
   "id": "4f4b2180",
   "metadata": {},
   "outputs": [
    {
     "name": "stdout",
     "output_type": "stream",
     "text": [
      "3\n"
     ]
    }
   ],
   "source": [
    "print(numbers.index(25,2,5))#ACCESSING THE INDEX LOCATION OF A VALUE IN THE TUPLE"
   ]
  },
  {
   "cell_type": "code",
   "execution_count": 15,
   "id": "670d2def",
   "metadata": {},
   "outputs": [],
   "source": [
    "#LIST\n",
    "#LIST IS CHANGEABLE\n",
    "#LIST CAN BE ORDERED OR UNORDERED\n",
    "#LIST IS DENOTED WITH []\n",
    "# To access any value from the LIST we use the index location starting from 0 from the front and -1 from the back"
   ]
  },
  {
   "cell_type": "code",
   "execution_count": 16,
   "id": "ad773195",
   "metadata": {},
   "outputs": [
    {
     "name": "stdout",
     "output_type": "stream",
     "text": [
      "['Cup', 'Plate', 'Cherry', 'Lemon', 'Cup', 'Pear']\n"
     ]
    }
   ],
   "source": [
    "items = ['Cup','Plate','Cherry','Lemon','Cup']\n",
    "items.append('Pear')#The append function will add the specified value to end of the existing list\n",
    "print(items)"
   ]
  },
  {
   "cell_type": "code",
   "execution_count": 17,
   "id": "ef55baf5",
   "metadata": {},
   "outputs": [
    {
     "name": "stdout",
     "output_type": "stream",
     "text": [
      "['Cup', 'Plate', 'Cherry', 'Lemon', 'Cup', 'Pear', 'Lemon', 'Pencil', 'Pen', 'Book']\n"
     ]
    }
   ],
   "source": [
    "items2 = ['Lemon','Pencil','Pen','Book']\n",
    "items.extend(items2)#The extend function will move all the values from one list to the specified list\n",
    "print(items)"
   ]
  },
  {
   "cell_type": "code",
   "execution_count": 18,
   "id": "b9d7908a",
   "metadata": {},
   "outputs": [
    {
     "name": "stdout",
     "output_type": "stream",
     "text": [
      "['Cup', 'Plate', 'Cherry', 'Flask', 'Lemon', 'Cup', 'Pear', 'Lemon', 'Pencil', 'Pen', 'Book']\n"
     ]
    }
   ],
   "source": [
    "items.insert(3,'Flask')#The insert function will add the new value at the specified location in the list\n",
    "print(items)"
   ]
  },
  {
   "cell_type": "code",
   "execution_count": 19,
   "id": "f7d6efdc",
   "metadata": {},
   "outputs": [
    {
     "name": "stdout",
     "output_type": "stream",
     "text": [
      "['Cup', 'Plate', 'Cherry', 'Flask', 'Lemon', 'Pear', 'Lemon', 'Pencil', 'Pen', 'Book']\n"
     ]
    }
   ],
   "source": [
    "items.pop(5)#Removing a value from the list by it index location\n",
    "print(items)"
   ]
  },
  {
   "cell_type": "code",
   "execution_count": 23,
   "id": "daeb5c49",
   "metadata": {},
   "outputs": [
    {
     "name": "stdout",
     "output_type": "stream",
     "text": [
      "['Cup', 'Plate', 'Cherry', 'Flask', 'Pencil', 'Pen', 'Book']\n"
     ]
    }
   ],
   "source": [
    "items.remove('Lemon') #Removing a value from the list by specifing the value\n",
    "print(items)"
   ]
  },
  {
   "cell_type": "code",
   "execution_count": 24,
   "id": "b6a5ece6",
   "metadata": {},
   "outputs": [
    {
     "name": "stdout",
     "output_type": "stream",
     "text": [
      "['Book', 'Cherry', 'Cup', 'Flask', 'Pen', 'Pencil', 'Plate']\n"
     ]
    }
   ],
   "source": [
    "items.sort()#The sort will arrange the values in ascending order\n",
    "print(items)"
   ]
  },
  {
   "cell_type": "code",
   "execution_count": 25,
   "id": "bedc8119",
   "metadata": {},
   "outputs": [
    {
     "name": "stdout",
     "output_type": "stream",
     "text": [
      "['Plate', 'Pencil', 'Pen', 'Flask', 'Cup', 'Cherry', 'Book']\n"
     ]
    }
   ],
   "source": [
    "items.reverse()#The reverse will arrange the values in descending order\n",
    "print(items)"
   ]
  },
  {
   "cell_type": "code",
   "execution_count": 26,
   "id": "f6457f1c",
   "metadata": {},
   "outputs": [
    {
     "name": "stdout",
     "output_type": "stream",
     "text": [
      "['Plate', 'Pencil', 'Pen', 'Flask', 'Cup', 'Cherry', 'Book']\n"
     ]
    }
   ],
   "source": [
    "items_copy = items.copy()\n",
    "print(items_copy)"
   ]
  },
  {
   "cell_type": "code",
   "execution_count": 27,
   "id": "32ab27f3",
   "metadata": {},
   "outputs": [
    {
     "name": "stdout",
     "output_type": "stream",
     "text": [
      "[]\n"
     ]
    }
   ],
   "source": [
    "items_copy.clear()\n",
    "print(items_copy)"
   ]
  },
  {
   "cell_type": "code",
   "execution_count": 28,
   "id": "e875a4cb",
   "metadata": {},
   "outputs": [
    {
     "ename": "NameError",
     "evalue": "name 'items_copy' is not defined",
     "output_type": "error",
     "traceback": [
      "\u001b[1;31m---------------------------------------------------------------------------\u001b[0m",
      "\u001b[1;31mNameError\u001b[0m                                 Traceback (most recent call last)",
      "Input \u001b[1;32mIn [28]\u001b[0m, in \u001b[0;36m<cell line: 2>\u001b[1;34m()\u001b[0m\n\u001b[0;32m      1\u001b[0m \u001b[38;5;28;01mdel\u001b[39;00m(items_copy)\n\u001b[1;32m----> 2\u001b[0m \u001b[38;5;28mprint\u001b[39m(\u001b[43mitems_copy\u001b[49m)\n",
      "\u001b[1;31mNameError\u001b[0m: name 'items_copy' is not defined"
     ]
    }
   ],
   "source": [
    "del(items_copy)\n",
    "print(items_copy)"
   ]
  },
  {
   "cell_type": "code",
   "execution_count": 30,
   "id": "1a7959ec",
   "metadata": {},
   "outputs": [
    {
     "name": "stdout",
     "output_type": "stream",
     "text": [
      "Male\n"
     ]
    }
   ],
   "source": [
    "details = {\n",
    "    'Name':'Adebisi',\n",
    "    'Age':45,\n",
    "    'Gender':'Male',\n",
    "    'Height':1.90\n",
    "}\n",
    "\n",
    "print(details['Gender'])"
   ]
  },
  {
   "cell_type": "code",
   "execution_count": 31,
   "id": "fab77a88",
   "metadata": {},
   "outputs": [
    {
     "name": "stdout",
     "output_type": "stream",
     "text": [
      "dict_keys(['Name', 'Age', 'Gender', 'Height'])\n"
     ]
    }
   ],
   "source": [
    "print(details.keys())"
   ]
  },
  {
   "cell_type": "code",
   "execution_count": 32,
   "id": "7c3cccad",
   "metadata": {},
   "outputs": [
    {
     "name": "stdout",
     "output_type": "stream",
     "text": [
      "dict_values(['Adebisi', 45, 'Male', 1.9])\n"
     ]
    }
   ],
   "source": [
    "print(details.values())"
   ]
  },
  {
   "cell_type": "code",
   "execution_count": 33,
   "id": "9ca8db17",
   "metadata": {},
   "outputs": [
    {
     "name": "stdout",
     "output_type": "stream",
     "text": [
      "dict_items([('Name', 'Adebisi'), ('Age', 45), ('Gender', 'Male'), ('Height', 1.9)])\n"
     ]
    }
   ],
   "source": [
    "print(details.items())"
   ]
  },
  {
   "cell_type": "code",
   "execution_count": 34,
   "id": "50fac54b",
   "metadata": {},
   "outputs": [
    {
     "name": "stdout",
     "output_type": "stream",
     "text": [
      "{'Name': 'Adebisi', 'Age': 45, 'Gender': 'Male', 'Height': 1.95}\n"
     ]
    }
   ],
   "source": [
    "r = {'Height':1.95}\n",
    "details.update(r)\n",
    "print(details)"
   ]
  },
  {
   "cell_type": "code",
   "execution_count": 35,
   "id": "aa2d95da",
   "metadata": {},
   "outputs": [
    {
     "name": "stdout",
     "output_type": "stream",
     "text": [
      "{'Name': 'Adebisi', 'Age': 45, 'Gender': 'Male', 'Height': 1.95, 'Weight': 85}\n"
     ]
    }
   ],
   "source": [
    "details['Weight'] = 85\n",
    "print(details)"
   ]
  },
  {
   "cell_type": "code",
   "execution_count": 36,
   "id": "d2900441",
   "metadata": {},
   "outputs": [
    {
     "name": "stdout",
     "output_type": "stream",
     "text": [
      "{'Name': 'Adebisi', 'Age': 45, 'Gender': 'Male', 'Height': 1.95}\n"
     ]
    }
   ],
   "source": [
    "details.popitem()\n",
    "print(details)"
   ]
  },
  {
   "cell_type": "code",
   "execution_count": 37,
   "id": "1261e7f0",
   "metadata": {},
   "outputs": [
    {
     "name": "stdout",
     "output_type": "stream",
     "text": [
      "{'Name': 'Adebisi', 'Gender': 'Male', 'Height': 1.95}\n"
     ]
    }
   ],
   "source": [
    "details.pop('Age')\n",
    "print(details)"
   ]
  },
  {
   "cell_type": "code",
   "execution_count": 38,
   "id": "29e92bab",
   "metadata": {},
   "outputs": [
    {
     "name": "stdout",
     "output_type": "stream",
     "text": [
      "Male\n"
     ]
    }
   ],
   "source": [
    "print(details.get('Gender'))"
   ]
  },
  {
   "cell_type": "code",
   "execution_count": 39,
   "id": "1eba7ddd",
   "metadata": {},
   "outputs": [
    {
     "name": "stdout",
     "output_type": "stream",
     "text": [
      "Janet\n"
     ]
    }
   ],
   "source": [
    "records = {\n",
    "    'Name':['Adebisi','Janet'],\n",
    "    'Age':[45,30],\n",
    "    'Gender':['Male','Female'],\n",
    "    'Height':[1.90,1.70]\n",
    "}\n",
    "print(records['Name'][1])"
   ]
  },
  {
   "cell_type": "code",
   "execution_count": 41,
   "id": "f1d19218",
   "metadata": {},
   "outputs": [
    {
     "name": "stdout",
     "output_type": "stream",
     "text": [
      "Janet\n"
     ]
    }
   ],
   "source": [
    "records = {\n",
    "    'Name':{'name1':'Adebisi','name2':'Janet'},\n",
    "    'Age':[45,30],\n",
    "    'Gender':['Male','Female'],\n",
    "    'Height':[1.90,1.70]\n",
    "}\n",
    "print(records['Name']['name2'])"
   ]
  },
  {
   "cell_type": "code",
   "execution_count": null,
   "id": "2dd54689",
   "metadata": {},
   "outputs": [],
   "source": []
  }
 ],
 "metadata": {
  "kernelspec": {
   "display_name": "Python 3 (ipykernel)",
   "language": "python",
   "name": "python3"
  },
  "language_info": {
   "codemirror_mode": {
    "name": "ipython",
    "version": 3
   },
   "file_extension": ".py",
   "mimetype": "text/x-python",
   "name": "python",
   "nbconvert_exporter": "python",
   "pygments_lexer": "ipython3",
   "version": "3.9.12"
  }
 },
 "nbformat": 4,
 "nbformat_minor": 5
}
