{
 "cells": [
  {
   "cell_type": "code",
   "execution_count": 42,
   "id": "fd9150ab",
   "metadata": {},
   "outputs": [
    {
     "name": "stdout",
     "output_type": "stream",
     "text": [
      "active customerTrue\n",
      "years of banking6\n",
      "congratulations, you have received free shopping voucher\n"
     ]
    }
   ],
   "source": [
    "eligibility_criteria = bool(input('active customer'))\n",
    "duration = float(input('years of banking'))\n",
    "reward = ['free card maintenance', 'free shopping voucher']\n",
    "if (eligibility_criteria == True and duration == 1):\n",
    "    print (f'congratulations, you have received {reward[0]}')\n",
    "elif  (eligibility_criteria == False and duration >=1):\n",
    "    print (f'sorry, you do not qualify')\n",
    "elif (eligibility_criteria == True and duration >=2):\n",
    "    print (f'congratulations, you have received {reward[1]}')"
   ]
  },
  {
   "cell_type": "code",
   "execution_count": 43,
   "id": "ce0d5dcb",
   "metadata": {},
   "outputs": [
    {
     "name": "stdout",
     "output_type": "stream",
     "text": [
      "['BPF', 'LOG4', 'NV_MAGICCONST', 'RECIP_BPF', 'Random', 'SG_MAGICCONST', 'SystemRandom', 'TWOPI', '_Sequence', '_Set', '__all__', '__builtins__', '__cached__', '__doc__', '__file__', '__loader__', '__name__', '__package__', '__spec__', '_accumulate', '_acos', '_bisect', '_ceil', '_cos', '_e', '_exp', '_floor', '_inst', '_log', '_os', '_pi', '_random', '_repeat', '_sha512', '_sin', '_sqrt', '_test', '_test_generator', '_urandom', '_warn', 'betavariate', 'choice', 'choices', 'expovariate', 'gammavariate', 'gauss', 'getrandbits', 'getstate', 'lognormvariate', 'normalvariate', 'paretovariate', 'randbytes', 'randint', 'random', 'randrange', 'sample', 'seed', 'setstate', 'shuffle', 'triangular', 'uniform', 'vonmisesvariate', 'weibullvariate']\n",
      "worth of goods7899\n",
      "congratulations, you have received None\n"
     ]
    }
   ],
   "source": [
    "import random\n",
    "print(dir(random))\n",
    "number_of_items_bought = int(input('worth of goods'))\n",
    "reward = ['10% discount', 'free gift', '5000 cash']\n",
    "if (number_of_items_bought > 3000):\n",
    "    print (f'congratulations, you have received {random.shuffle(reward)}')\n",
    "else: \n",
    "    print (f'sorry, you do not qualify')"
   ]
  },
  {
   "cell_type": "code",
   "execution_count": 20,
   "id": "841c722d",
   "metadata": {},
   "outputs": [
    {
     "name": "stdout",
     "output_type": "stream",
     "text": [
      "worth of goods8000\n"
     ]
    },
    {
     "ename": "TypeError",
     "evalue": "Random.random() takes no arguments (1 given)",
     "output_type": "error",
     "traceback": [
      "\u001b[1;31m---------------------------------------------------------------------------\u001b[0m",
      "\u001b[1;31mTypeError\u001b[0m                                 Traceback (most recent call last)",
      "Input \u001b[1;32mIn [20]\u001b[0m, in \u001b[0;36m<cell line: 3>\u001b[1;34m()\u001b[0m\n\u001b[0;32m      2\u001b[0m reward \u001b[38;5;241m=\u001b[39m [\u001b[38;5;124m'\u001b[39m\u001b[38;5;124m10\u001b[39m\u001b[38;5;132;01m% d\u001b[39;00m\u001b[38;5;124miscount\u001b[39m\u001b[38;5;124m'\u001b[39m, \u001b[38;5;124m'\u001b[39m\u001b[38;5;124mfree gift\u001b[39m\u001b[38;5;124m'\u001b[39m, \u001b[38;5;124m'\u001b[39m\u001b[38;5;124m5000 cash\u001b[39m\u001b[38;5;124m'\u001b[39m]\n\u001b[0;32m      3\u001b[0m \u001b[38;5;28;01mif\u001b[39;00m (number_of_items_bought \u001b[38;5;241m>\u001b[39m \u001b[38;5;241m3000\u001b[39m):\n\u001b[1;32m----> 4\u001b[0m     \u001b[38;5;28mprint\u001b[39m (\u001b[38;5;124mf\u001b[39m\u001b[38;5;124m'\u001b[39m\u001b[38;5;124mcongratulations, you have received \u001b[39m\u001b[38;5;132;01m{\u001b[39;00mrandom\u001b[38;5;241m.\u001b[39mrandom(reward)\u001b[38;5;132;01m}\u001b[39;00m\u001b[38;5;124m'\u001b[39m)\n\u001b[0;32m      5\u001b[0m \u001b[38;5;28;01melse\u001b[39;00m: \n\u001b[0;32m      6\u001b[0m     \u001b[38;5;28mprint\u001b[39m (\u001b[38;5;124mf\u001b[39m\u001b[38;5;124m'\u001b[39m\u001b[38;5;124msorry, you do not qualify\u001b[39m\u001b[38;5;124m'\u001b[39m)\n",
      "\u001b[1;31mTypeError\u001b[0m: Random.random() takes no arguments (1 given)"
     ]
    }
   ],
   "source": [
    "number_of_items_bought = int(input('worth of goods'))\n",
    "reward = ['10% discount', 'free gift', '5000 cash']\n",
    "if (number_of_items_bought > 3000):\n",
    "    print (f'congratulations, you have received {random.random(reward)}')\n",
    "else: \n",
    "    print (f'sorry, you do not qualify')"
   ]
  },
  {
   "cell_type": "code",
   "execution_count": 21,
   "id": "008b6ff9",
   "metadata": {},
   "outputs": [
    {
     "name": "stdout",
     "output_type": "stream",
     "text": [
      "worth of goods8990\n",
      "congratulations, you have received free gift\n"
     ]
    }
   ],
   "source": [
    "number_of_items_bought = int(input('worth of goods'))\n",
    "reward = ['10% discount', 'free gift', '5000 cash']\n",
    "if (number_of_items_bought > 3000):\n",
    "    print (f'congratulations, you have received {random.choice(reward)}')\n",
    "else: \n",
    "    print (f'sorry, you do not qualify')"
   ]
  },
  {
   "cell_type": "code",
   "execution_count": 8,
   "id": "f7e6721f",
   "metadata": {},
   "outputs": [
    {
     "name": "stdout",
     "output_type": "stream",
     "text": [
      "['BPF', 'LOG4', 'NV_MAGICCONST', 'RECIP_BPF', 'Random', 'SG_MAGICCONST', 'SystemRandom', 'TWOPI', '_Sequence', '_Set', '__all__', '__builtins__', '__cached__', '__doc__', '__file__', '__loader__', '__name__', '__package__', '__spec__', '_accumulate', '_acos', '_bisect', '_ceil', '_cos', '_e', '_exp', '_floor', '_inst', '_log', '_os', '_pi', '_random', '_repeat', '_sha512', '_sin', '_sqrt', '_test', '_test_generator', '_urandom', '_warn', 'betavariate', 'choice', 'choices', 'expovariate', 'gammavariate', 'gauss', 'getrandbits', 'getstate', 'lognormvariate', 'normalvariate', 'paretovariate', 'randbytes', 'randint', 'random', 'randrange', 'sample', 'seed', 'setstate', 'shuffle', 'triangular', 'uniform', 'vonmisesvariate', 'weibullvariate']\n"
     ]
    }
   ],
   "source": [
    "import random\n",
    "print(dir(random))"
   ]
  },
  {
   "cell_type": "code",
   "execution_count": 19,
   "id": "9c18d932",
   "metadata": {},
   "outputs": [
    {
     "name": "stdout",
     "output_type": "stream",
     "text": [
      "number of nights:4\n",
      "congratulations you qualify for ['free breakfast']\n"
     ]
    }
   ],
   "source": [
    "eligibility = int(input('number of nights:'))\n",
    "reward = ['complimentary room upgrade', 'free breakfast', 'free laundry service']\n",
    "if (eligibility ==4):\n",
    "    print (f'congratulations you qualify for {random.choices(reward)}')"
   ]
  },
  {
   "cell_type": "code",
   "execution_count": null,
   "id": "557c88f7",
   "metadata": {},
   "outputs": [],
   "source": []
  }
 ],
 "metadata": {
  "kernelspec": {
   "display_name": "Python 3 (ipykernel)",
   "language": "python",
   "name": "python3"
  },
  "language_info": {
   "codemirror_mode": {
    "name": "ipython",
    "version": 3
   },
   "file_extension": ".py",
   "mimetype": "text/x-python",
   "name": "python",
   "nbconvert_exporter": "python",
   "pygments_lexer": "ipython3",
   "version": "3.9.12"
  }
 },
 "nbformat": 4,
 "nbformat_minor": 5
}
