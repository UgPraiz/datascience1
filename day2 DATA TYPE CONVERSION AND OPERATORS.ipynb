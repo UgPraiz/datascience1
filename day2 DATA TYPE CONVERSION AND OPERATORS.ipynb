{
 "cells": [
  {
   "cell_type": "markdown",
   "id": "10b95474",
   "metadata": {},
   "source": [
    "# DATA TYPES CONVERSION"
   ]
  },
  {
   "cell_type": "code",
   "execution_count": 1,
   "id": "9cc75b12",
   "metadata": {},
   "outputs": [
    {
     "name": "stdout",
     "output_type": "stream",
     "text": [
      "14\n"
     ]
    }
   ],
   "source": [
    "num1 = int(14.5)\n",
    "print(num1)"
   ]
  },
  {
   "cell_type": "code",
   "execution_count": 2,
   "id": "e3afb4e0",
   "metadata": {},
   "outputs": [],
   "source": [
    "#FLOAT VALUES CAN BE CONVERTED TO INTEGER"
   ]
  },
  {
   "cell_type": "code",
   "execution_count": 3,
   "id": "2a57314d",
   "metadata": {},
   "outputs": [
    {
     "name": "stdout",
     "output_type": "stream",
     "text": [
      "14.0\n"
     ]
    }
   ],
   "source": [
    "print(float(num1))"
   ]
  },
  {
   "cell_type": "code",
   "execution_count": 4,
   "id": "dfe4546e",
   "metadata": {},
   "outputs": [],
   "source": [
    "#INTEGER VALUES CAN BE CONVERTED TO FLOAT"
   ]
  },
  {
   "cell_type": "code",
   "execution_count": 5,
   "id": "13bcc69e",
   "metadata": {},
   "outputs": [
    {
     "name": "stdout",
     "output_type": "stream",
     "text": [
      "14\n"
     ]
    }
   ],
   "source": [
    "print(str(num1))"
   ]
  },
  {
   "cell_type": "code",
   "execution_count": 6,
   "id": "ec2e5175",
   "metadata": {},
   "outputs": [],
   "source": [
    "# integer values can be converted to string "
   ]
  },
  {
   "cell_type": "code",
   "execution_count": 7,
   "id": "b478c785",
   "metadata": {},
   "outputs": [
    {
     "name": "stdout",
     "output_type": "stream",
     "text": [
      "12.36\n"
     ]
    }
   ],
   "source": [
    "print(str(12.36))"
   ]
  },
  {
   "cell_type": "code",
   "execution_count": 8,
   "id": "922f403d",
   "metadata": {},
   "outputs": [],
   "source": [
    "#float values can be converted to string"
   ]
  },
  {
   "cell_type": "code",
   "execution_count": 12,
   "id": "a8b47c83",
   "metadata": {},
   "outputs": [
    {
     "name": "stdout",
     "output_type": "stream",
     "text": [
      "85\n"
     ]
    }
   ],
   "source": [
    "word = '85'\n",
    "print(int(word))"
   ]
  },
  {
   "cell_type": "markdown",
   "id": "606f0e92",
   "metadata": {},
   "source": [
    "# DECLEAR THREE VARIABLES ONE TO HOLD AN INTEGER VALUE, THE SECOND TO HOLD A FLOAT VALUE AND THE LAST ONE TO HOLD A STING \n",
    "# PERFORM ALL THE DIFFERENT CONVERSION WE HAVE LOOK AT ON THOSE VARIABLES"
   ]
  },
  {
   "cell_type": "code",
   "execution_count": 16,
   "id": "40ff4870",
   "metadata": {},
   "outputs": [
    {
     "name": "stdout",
     "output_type": "stream",
     "text": [
      "Enter Your Age45\n"
     ]
    }
   ],
   "source": [
    "age = input('Enter Your Age')"
   ]
  },
  {
   "cell_type": "code",
   "execution_count": 17,
   "id": "866a3497",
   "metadata": {},
   "outputs": [
    {
     "name": "stdout",
     "output_type": "stream",
     "text": [
      "45\n"
     ]
    }
   ],
   "source": [
    "print(age)"
   ]
  },
  {
   "cell_type": "code",
   "execution_count": 18,
   "id": "4e204ec4",
   "metadata": {},
   "outputs": [
    {
     "name": "stdout",
     "output_type": "stream",
     "text": [
      "<class 'str'>\n"
     ]
    }
   ],
   "source": [
    "print(type(age))"
   ]
  },
  {
   "cell_type": "code",
   "execution_count": 23,
   "id": "facb8c04",
   "metadata": {},
   "outputs": [
    {
     "name": "stdout",
     "output_type": "stream",
     "text": [
      "Enter your age:15\n",
      "<class 'int'>\n"
     ]
    }
   ],
   "source": [
    "age2 = int(input('Enter your age:'))\n",
    "print(type(age2))"
   ]
  },
  {
   "cell_type": "code",
   "execution_count": 22,
   "id": "4a9fe640",
   "metadata": {},
   "outputs": [
    {
     "name": "stdout",
     "output_type": "stream",
     "text": [
      "Enter your name:Adebisi\n"
     ]
    }
   ],
   "source": [
    "name = input('Enter your name:')"
   ]
  },
  {
   "cell_type": "markdown",
   "id": "47843e2a",
   "metadata": {},
   "source": [
    "# OPERATORS"
   ]
  },
  {
   "cell_type": "code",
   "execution_count": 24,
   "id": "ba7ea136",
   "metadata": {},
   "outputs": [],
   "source": [
    "### ARITHEMETIC OPERATORS"
   ]
  },
  {
   "cell_type": "code",
   "execution_count": 27,
   "id": "650ffc57",
   "metadata": {},
   "outputs": [
    {
     "name": "stdout",
     "output_type": "stream",
     "text": [
      "Enter first number:40\n",
      "Enter second number:20\n",
      "40 + 20 = 60\n",
      "40 - 20 = 20\n",
      "40 / 20 = 2.0\n",
      "40 * 20 = 800\n",
      "40 % 20 = 0\n",
      "40 // 20 = 2\n",
      "40 ** 20 = 109951162777600000000000000000000\n"
     ]
    }
   ],
   "source": [
    "num1 = int(input('Enter first number:'))\n",
    "num2 = int(input('Enter second number:'))\n",
    "print(f'{num1} + {num2} = {num1 + num2}')\n",
    "print(f'{num1} - {num2} = {num1 - num2}')\n",
    "print(f'{num1} / {num2} = {num1 / num2}')\n",
    "print(f'{num1} * {num2} = {num1 * num2}')\n",
    "print(f'{num1} % {num2} = {num1 % num2}')\n",
    "print(f'{num1} // {num2} = {num1 // num2}')\n",
    "print(f'{num1} ** {num2} = {num1 ** num2}')"
   ]
  },
  {
   "cell_type": "code",
   "execution_count": 28,
   "id": "ad544e9f",
   "metadata": {},
   "outputs": [
    {
     "name": "stdout",
     "output_type": "stream",
     "text": [
      "Enter first number:15\n",
      "Enter second number:7\n",
      "15 > 7 = True\n",
      "15 < 7 = False\n",
      "15 >= 7 = True\n",
      "15 <= 7 = False\n",
      "15 == 7 = False\n",
      "15 != 7 = True\n"
     ]
    }
   ],
   "source": [
    "# COMPARISM OPERATORS\n",
    "num1 = int(input('Enter first number:'))\n",
    "num2 = int(input('Enter second number:'))\n",
    "print(f'{num1} > {num2} = {num1 > num2}')\n",
    "print(f'{num1} < {num2} = {num1 < num2}')\n",
    "print(f'{num1} >= {num2} = {num1 >= num2}')\n",
    "print(f'{num1} <= {num2} = {num1 <= num2}')\n",
    "print(f'{num1} == {num2} = {num1 == num2}')\n",
    "print(f'{num1} != {num2} = {num1 != num2}')\n"
   ]
  },
  {
   "cell_type": "code",
   "execution_count": 29,
   "id": "f3ce03e9",
   "metadata": {},
   "outputs": [
    {
     "name": "stdout",
     "output_type": "stream",
     "text": [
      "Enter first number:15\n",
      "Enter second number:15\n",
      "False\n",
      "True\n",
      "False\n"
     ]
    }
   ],
   "source": [
    "# LoGICAL OPERATORS\n",
    "num1 = int(input('Enter first number:'))\n",
    "num2 = int(input('Enter second number:'))\n",
    "print(num1 > num2 and num2 != num1)\n",
    "print(num1 > num2 or num1 == num2)\n",
    "print(not num1)"
   ]
  },
  {
   "cell_type": "code",
   "execution_count": 33,
   "id": "654074f1",
   "metadata": {},
   "outputs": [
    {
     "name": "stdout",
     "output_type": "stream",
     "text": [
      "True\n",
      "False\n"
     ]
    }
   ],
   "source": [
    "# MEMBERSHIP OPERATORS\n",
    "word = 'python'\n",
    "print('p' in word)\n",
    "print('ho'  not in word)"
   ]
  },
  {
   "cell_type": "code",
   "execution_count": 34,
   "id": "2e9eed61",
   "metadata": {},
   "outputs": [
    {
     "name": "stdout",
     "output_type": "stream",
     "text": [
      "True\n",
      "False\n"
     ]
    }
   ],
   "source": [
    "# IDENTITY OPERATORS\n",
    "print(num1 is num2)\n",
    "print(num1 is not num2)"
   ]
  },
  {
   "cell_type": "markdown",
   "id": "ff6bf57a",
   "metadata": {},
   "source": [
    "# ADE BOUGHT N PEN FOR S PRICE  AND SOLD EACH PEN AT THE RATE OF P PRICE\n",
    "# CALCULATE THE PROFIT OF ADE"
   ]
  },
  {
   "cell_type": "code",
   "execution_count": 35,
   "id": "2c1719ca",
   "metadata": {},
   "outputs": [
    {
     "name": "stdout",
     "output_type": "stream",
     "text": [
      "Provide the numbers pen bought:50\n",
      "Provide the cost price:45\n",
      "Provide the selling price:70\n",
      "The profit of Mr ade on 50 bought at the rate of 2250.0 and sold at the rate of 3500.0 is 1250.0\n"
     ]
    }
   ],
   "source": [
    "nopen = int(input('Provide the numbers pen bought:'))\n",
    "costprice = float(input('Provide the cost price:'))\n",
    "totalcp = nopen * costprice\n",
    "sellingprice = float(input('Provide the selling price:'))\n",
    "totalsp = nopen * sellingprice\n",
    "profit =totalsp -totalcp\n",
    "print(f'The profit of Mr ade on {nopen} pen bought at the rate of {totalcp} and sold at the rate of {totalsp} is {profit}')"
   ]
  },
  {
   "cell_type": "code",
   "execution_count": null,
   "id": "b58f6678",
   "metadata": {},
   "outputs": [],
   "source": []
  }
 ],
 "metadata": {
  "kernelspec": {
   "display_name": "Python 3 (ipykernel)",
   "language": "python",
   "name": "python3"
  },
  "language_info": {
   "codemirror_mode": {
    "name": "ipython",
    "version": 3
   },
   "file_extension": ".py",
   "mimetype": "text/x-python",
   "name": "python",
   "nbconvert_exporter": "python",
   "pygments_lexer": "ipython3",
   "version": "3.9.12"
  }
 },
 "nbformat": 4,
 "nbformat_minor": 5
}
