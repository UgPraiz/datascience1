{
 "cells": [
  {
   "cell_type": "code",
   "execution_count": 3,
   "id": "1cacd5df",
   "metadata": {},
   "outputs": [
    {
     "name": "stdout",
     "output_type": "stream",
     "text": [
      "\n"
     ]
    }
   ],
   "source": [
    "file = open('SACRAMENTO.doc', 'r')\n",
    "print(file.read())"
   ]
  },
  {
   "cell_type": "code",
   "execution_count": 1,
   "id": "645405a0",
   "metadata": {},
   "outputs": [
    {
     "ename": "ValueError",
     "evalue": "max() arg is an empty sequence",
     "output_type": "error",
     "traceback": [
      "\u001b[1;31m---------------------------------------------------------------------------\u001b[0m",
      "\u001b[1;31mValueError\u001b[0m                                Traceback (most recent call last)",
      "Input \u001b[1;32mIn [1]\u001b[0m, in \u001b[0;36m<cell line: 1>\u001b[1;34m()\u001b[0m\n\u001b[0;32m      6\u001b[0m     \u001b[38;5;28mprint\u001b[39m(\u001b[38;5;124m'\u001b[39m\u001b[38;5;124mthe file you are trying to trying to read does not exist in this directory\u001b[39m\u001b[38;5;124m'\u001b[39m)\n\u001b[0;32m      7\u001b[0m \u001b[38;5;28;01melse\u001b[39;00m:\n\u001b[1;32m----> 8\u001b[0m     highest \u001b[38;5;241m=\u001b[39m \u001b[38;5;28;43mmax\u001b[39;49m\u001b[43m(\u001b[49m\u001b[43mword\u001b[49m\u001b[43m,\u001b[49m\u001b[43m \u001b[49m\u001b[43mkey\u001b[49m\u001b[38;5;241;43m=\u001b[39;49m\u001b[38;5;28;43mlen\u001b[39;49m\u001b[43m)\u001b[49m\n\u001b[0;32m      9\u001b[0m     lowest \u001b[38;5;241m=\u001b[39m \u001b[38;5;28mmin\u001b[39m(word, key\u001b[38;5;241m=\u001b[39m \u001b[38;5;28mlen\u001b[39m)\n",
      "\u001b[1;31mValueError\u001b[0m: max() arg is an empty sequence"
     ]
    }
   ],
   "source": [
    "try:\n",
    "    file = open('SACRAMENTO.doc', 'r', encoding = 'utf-8')\n",
    "    content = file.read()\n",
    "    word = content.split()\n",
    "except FileNotFoundError:\n",
    "    print('the file you are trying to trying to read does not exist in this directory')\n",
    "else:\n",
    "    highest = max(word, key=len)\n",
    "    lowest = min(word, key= len)\n"
   ]
  },
  {
   "cell_type": "code",
   "execution_count": 2,
   "id": "7a670c25",
   "metadata": {},
   "outputs": [
    {
     "data": {
      "text/plain": [
       "[]"
      ]
     },
     "execution_count": 2,
     "metadata": {},
     "output_type": "execute_result"
    }
   ],
   "source": [
    "word"
   ]
  },
  {
   "cell_type": "code",
   "execution_count": 10,
   "id": "53063565",
   "metadata": {},
   "outputs": [
    {
     "name": "stdout",
     "output_type": "stream",
     "text": [
      " the word count for points is 0\n",
      "end of program\n"
     ]
    }
   ],
   "source": [
    "try:\n",
    "    file = open('SACRAMENTO.doc', 'r', encoding = 'utf-8')\n",
    "    content = file.read()\n",
    "    word = content.split()\n",
    "except FileNotFoundError:\n",
    "    print('the file you are trying to trying to read does not exist in this directory')\n",
    "else:\n",
    "    countoutcome = word.count ('points')\n",
    "finally:\n",
    "    print(f' the word count for points is {countoutcome}')\n",
    "    print ('end of program')"
   ]
  },
  {
   "cell_type": "code",
   "execution_count": 11,
   "id": "c38d3f27",
   "metadata": {},
   "outputs": [
    {
     "name": "stdout",
     "output_type": "stream",
     "text": [
      " the word count for Conference is 0\n",
      "end of program\n"
     ]
    }
   ],
   "source": [
    "try:\n",
    "    file = open('SACRAMENTO.doc', 'r', encoding = 'utf-8')\n",
    "    content = file.read()\n",
    "    word = content.split()\n",
    "except FileNotFoundError:\n",
    "    print('the file you are trying to trying to read does not exist in this directory')\n",
    "else:\n",
    "    countoutcome = word.count ('Conference')\n",
    "finally:\n",
    "    print(f' the word count for Conference is {countoutcome}')\n",
    "    print ('end of program')"
   ]
  },
  {
   "cell_type": "code",
   "execution_count": 12,
   "id": "6c3791e8",
   "metadata": {},
   "outputs": [
    {
     "name": "stdout",
     "output_type": "stream",
     "text": [
      " the word count for Celtics is 0\n",
      "end of program\n"
     ]
    }
   ],
   "source": [
    "try:\n",
    "    file = open('SACRAMENTO.doc', 'r', encoding = 'utf-8')\n",
    "    content = file.read()\n",
    "    word = content.split()\n",
    "except FileNotFoundError:\n",
    "    print('the file you are trying to trying to read does not exist in this directory')\n",
    "else:\n",
    "    countoutcome = word.count ('Celtics')\n",
    "finally:\n",
    "    print(f' the word count for Celtics is {countoutcome}')\n",
    "    print ('end of program')"
   ]
  },
  {
   "cell_type": "code",
   "execution_count": 13,
   "id": "46df0e67",
   "metadata": {},
   "outputs": [
    {
     "name": "stdout",
     "output_type": "stream",
     "text": [
      " the word count for behind is 0\n",
      "end of program\n"
     ]
    }
   ],
   "source": [
    "try:\n",
    "    file = open('SACRAMENTO.doc', 'r', encoding = 'utf-8')\n",
    "    content = file.read()\n",
    "    word = content.split()\n",
    "except FileNotFoundError:\n",
    "    print('the file you are trying to trying to read does not exist in this directory')\n",
    "else:\n",
    "    countoutcome = word.count ('behind')\n",
    "finally:\n",
    "    print(f' the word count for behind is {countoutcome}')\n",
    "    print ('end of program')"
   ]
  },
  {
   "cell_type": "code",
   "execution_count": null,
   "id": "f81e2dd0",
   "metadata": {},
   "outputs": [],
   "source": []
  }
 ],
 "metadata": {
  "kernelspec": {
   "display_name": "Python 3 (ipykernel)",
   "language": "python",
   "name": "python3"
  },
  "language_info": {
   "codemirror_mode": {
    "name": "ipython",
    "version": 3
   },
   "file_extension": ".py",
   "mimetype": "text/x-python",
   "name": "python",
   "nbconvert_exporter": "python",
   "pygments_lexer": "ipython3",
   "version": "3.9.12"
  }
 },
 "nbformat": 4,
 "nbformat_minor": 5
}
