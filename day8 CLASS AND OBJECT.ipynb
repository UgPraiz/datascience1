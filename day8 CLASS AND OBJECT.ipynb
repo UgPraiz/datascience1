{
 "cells": [
  {
   "cell_type": "markdown",
   "id": "ddbec551",
   "metadata": {},
   "source": [
    "CLASS AND OBJECT(OOP)\n",
    "class is a user defined blueprint or prototype\n",
    "object is the instance of a class i.e the copy of a class. the object performs the fxn of the class.\n",
    "class has 2 properties -- attributes and methods"
   ]
  },
  {
   "cell_type": "code",
   "execution_count": 2,
   "id": "085d349b",
   "metadata": {},
   "outputs": [],
   "source": [
    "#class with a simple attribute\n",
    "#you have to run this cell for the object variable to be defined\n",
    "#the object name can be called any name you want\n",
    "class pet:\n",
    "    attr1 = 'dog'\n",
    "    attr2 = 'bark'\n",
    "ob = pet()\n",
    "sd = pet()\n",
    "    "
   ]
  },
  {
   "cell_type": "code",
   "execution_count": 4,
   "id": "774a9c3d",
   "metadata": {},
   "outputs": [
    {
     "data": {
      "text/plain": [
       "'dog'"
      ]
     },
     "execution_count": 4,
     "metadata": {},
     "output_type": "execute_result"
    }
   ],
   "source": [
    "ob.attr1"
   ]
  },
  {
   "cell_type": "code",
   "execution_count": 5,
   "id": "d2cecc2f",
   "metadata": {},
   "outputs": [
    {
     "data": {
      "text/plain": [
       "'dog'"
      ]
     },
     "execution_count": 5,
     "metadata": {},
     "output_type": "execute_result"
    }
   ],
   "source": [
    "sd.attr1"
   ]
  },
  {
   "cell_type": "code",
   "execution_count": 11,
   "id": "79768284",
   "metadata": {},
   "outputs": [],
   "source": [
    "#method is usually defined as a function\n",
    "#the self keyword is constant, it cannot be changed\n",
    "class pet:\n",
    "    attr1 = 'dog'\n",
    "    attr2 = 'bark'\n",
    "\n",
    "    def getdetails(self):\n",
    "        print (f'the animal name is {self.attr1} and the animal sound is {self.attr2}')\n",
    "ob=pet()\n",
    "sd=pet()"
   ]
  },
  {
   "cell_type": "code",
   "execution_count": 12,
   "id": "f64d188e",
   "metadata": {},
   "outputs": [
    {
     "name": "stdout",
     "output_type": "stream",
     "text": [
      "the animal name is dog and the animal sound is bark\n"
     ]
    }
   ],
   "source": [
    "ob.getdetails()"
   ]
  },
  {
   "cell_type": "markdown",
   "id": "7546ca0c",
   "metadata": {},
   "source": [
    "using class and object, write a simple bank program that would deposit, withdraw, buy airtime, transfer and show balance"
   ]
  },
  {
   "cell_type": "code",
   "execution_count": 23,
   "id": "0a30aa8d",
   "metadata": {},
   "outputs": [],
   "source": [
    "class banksystem:\n",
    "    def __init__(self):\n",
    "        self.balance = 0\n",
    "    def deposit(self):\n",
    "        amount = float(input('enter deposit amount'))\n",
    "        self.balance = self.balance + amount\n",
    "        print('transaction successful')\n",
    "    def withdraw(self):\n",
    "        amount = float(input('enter withdrawal amount'))\n",
    "        if amount > self.balance:\n",
    "            print('''insufficient fund\n",
    "transaction declined''')\n",
    "        else:\n",
    "            self.balance = self.balance - amount\n",
    "            print('transaction successful')\n",
    "    def transfer(self):\n",
    "        amount = float(input('enter transfer amount'))\n",
    "        destination = input('enter destination acct number')\n",
    "        if amount > self.balance:\n",
    "            print('''insufficient fund\n",
    "transaction declined''')\n",
    "        else:\n",
    "            self.balance = self.balance - amount\n",
    "            print('transaction successful')\n",
    "    def buyairtime(self):\n",
    "        amount = float(input('enter airtime amount'))\n",
    "        destination = input('enter destination phone number')\n",
    "        self.balance = self.balance - amount\n",
    "        print('transaction successful')\n",
    "    def getbalance(self):\n",
    "        print(f'your available balance is {self.balance}')\n",
    "program = banksystem()"
   ]
  },
  {
   "cell_type": "code",
   "execution_count": 21,
   "id": "dcc10b26",
   "metadata": {},
   "outputs": [
    {
     "name": "stdout",
     "output_type": "stream",
     "text": [
      "enter deposit amount4000\n",
      "transaction successful\n"
     ]
    }
   ],
   "source": [
    "program.deposit()"
   ]
  },
  {
   "cell_type": "code",
   "execution_count": 24,
   "id": "64f86860",
   "metadata": {},
   "outputs": [
    {
     "name": "stdout",
     "output_type": "stream",
     "text": [
      "enter transfer amount5000\n",
      "enter destination acct number3243\n",
      "insufficient fund\n",
      "transaction declined\n"
     ]
    }
   ],
   "source": [
    "program.transfer()"
   ]
  },
  {
   "cell_type": "code",
   "execution_count": 2,
   "id": "17420c2c",
   "metadata": {},
   "outputs": [
    {
     "name": "stdout",
     "output_type": "stream",
     "text": [
      "welcome to prime max bank\n",
      "enter pin to perform transaction and end to quit3535\n",
      "operations\n",
      "1. deposit\n",
      "2. withdraw\n",
      "3. transfer\n",
      "4. buy airtime\n",
      "5. get balance\n",
      "deposit\n",
      "enter deposit amount400\n",
      "transaction successful\n",
      "enter pin to perform transaction and end to quit4040\n",
      "invalid pin\n"
     ]
    }
   ],
   "source": [
    "#how to add while loop to the program\n",
    "class banksystem:\n",
    "    def __init__(self):\n",
    "        self.balance = 0\n",
    "    def deposit(self):\n",
    "        amount = float(input('enter deposit amount'))\n",
    "        self.balance = self.balance + amount\n",
    "        print('transaction successful')\n",
    "    def withdraw(self):\n",
    "        amount = float(input('enter withdrawal amount'))\n",
    "        if amount > self.balance:\n",
    "            print('''insufficient fund\n",
    "transaction declined''')\n",
    "        else:\n",
    "            self.balance = self.balance - amount\n",
    "            print('transaction successful')\n",
    "    def transfer(self):\n",
    "        amount = float(input('enter transfer amount'))\n",
    "        destination = input('enter destination acct number')\n",
    "        if amount > self.balance:\n",
    "            print('''insufficient fund\n",
    "transaction declined''')\n",
    "        else:\n",
    "            self.balance = self.balance - amount\n",
    "            print('transaction successful')\n",
    "    def buyairtime(self):\n",
    "        amount = float(input('enter airtime amount'))\n",
    "        destination = input('enter destination phone number')\n",
    "        self.balance = self.balance - amount\n",
    "        print('transaction successful')\n",
    "    def getbalance(self):\n",
    "        print(f'your available balance is {self.balance}')\n",
    "program = banksystem()\n",
    "print('welcome to prime max bank')\n",
    "list_pin = ['2285', '3030', '3535']\n",
    "pin = input('enter pin to perform transaction and end to quit')\n",
    "counter = 0\n",
    "while pin in list_pin:\n",
    "    option = input('''operations\n",
    "1. deposit\n",
    "2. withdraw\n",
    "3. transfer\n",
    "4. buy airtime\n",
    "5. get balance\n",
    "''')\n",
    "    if option =='deposit':\n",
    "        program.deposit()\n",
    "    elif option == 'withdraw':\n",
    "        program.withdraw()\n",
    "    elif option == 'transfer':\n",
    "        program.transfer()\n",
    "    elif option == 'buyairtime':\n",
    "        program.buyairtime()\n",
    "    elif option == 'get balance':\n",
    "        program.getbalance()\n",
    "    counter = counter + 1 #this last counter is to continue the loop\n",
    "    pin = input('enter pin to perform transaction and end to quit')\n",
    "else:\n",
    "    print('invalid pin')"
   ]
  },
  {
   "cell_type": "code",
   "execution_count": null,
   "id": "dba7eb81",
   "metadata": {},
   "outputs": [],
   "source": []
  }
 ],
 "metadata": {
  "kernelspec": {
   "display_name": "Python 3 (ipykernel)",
   "language": "python",
   "name": "python3"
  },
  "language_info": {
   "codemirror_mode": {
    "name": "ipython",
    "version": 3
   },
   "file_extension": ".py",
   "mimetype": "text/x-python",
   "name": "python",
   "nbconvert_exporter": "python",
   "pygments_lexer": "ipython3",
   "version": "3.9.12"
  }
 },
 "nbformat": 4,
 "nbformat_minor": 5
}
