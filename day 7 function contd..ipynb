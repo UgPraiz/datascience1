{
 "cells": [
  {
   "cell_type": "markdown",
   "id": "19ee8903",
   "metadata": {},
   "source": [
    "variable length functions"
   ]
  },
  {
   "cell_type": "code",
   "execution_count": 1,
   "id": "f543bbe0",
   "metadata": {},
   "outputs": [
    {
     "data": {
      "text/plain": [
       "41.17"
      ]
     },
     "execution_count": 1,
     "metadata": {},
     "output_type": "execute_result"
    }
   ],
   "source": [
    "# 1 asterick (*)denotes function variable length of non-key word values\n",
    "\n",
    "def mean(*numbers):\n",
    "    average= round(sum(numbers)/len(numbers),2) #this 2 rounds the final result to 2 d.p\n",
    "    return average\n",
    "mean(34,54,56,24,23,56)\n"
   ]
  },
  {
   "cell_type": "code",
   "execution_count": 7,
   "id": "34c2ed24",
   "metadata": {},
   "outputs": [
    {
     "name": "stdout",
     "output_type": "stream",
     "text": [
      "enter student namePraise\n",
      "enter student classss3\n",
      "congratulations your average score is 83.14 and your grade is A\n"
     ]
    }
   ],
   "source": [
    "#write a program to calculate students score\n",
    "def studentgrade(*score):\n",
    "    student_name = input('enter student name')\n",
    "    student_class = input('enter student class')\n",
    "    average= round(sum(score)/len(score),2)\n",
    "    if average>=70 and average<=100:\n",
    "        print(f'congratulations your average score is {average} and your grade is A')\n",
    "    elif average >=60 and average<=69.99:\n",
    "        print(f'congratulations your average score is {average} and your grade is B')\n",
    "    elif average >=50 and average<=59.99:\n",
    "        print(f'congratulations your average score is {average} and your grade is C')\n",
    "    elif average >=40 and average<=49.99:\n",
    "        print(f'congratulations your average score is {average} and your grade is D')\n",
    "    elif average >=30 and average<=39.99:\n",
    "        print(f'congratulations your average score is {average} and your grade is E')\n",
    "    else:\n",
    "        print(f'congratulations your average score is {average} and your grade is F')\n",
    "studentgrade(80,75,90,78,98,76,85)"
   ]
  },
  {
   "cell_type": "markdown",
   "id": "26c72641",
   "metadata": {},
   "source": [
    "keyword argument"
   ]
  },
  {
   "cell_type": "code",
   "execution_count": 8,
   "id": "e235910a",
   "metadata": {},
   "outputs": [
    {
     "name": "stdout",
     "output_type": "stream",
     "text": [
      "num1 : 14\n",
      "num2 : 45\n"
     ]
    }
   ],
   "source": [
    "def records(**details):\n",
    "    for key, value in details.items():\n",
    "        print(key, ':', value)\n",
    "records(num1=14, num2=45)"
   ]
  },
  {
   "cell_type": "code",
   "execution_count": 16,
   "id": "c1831ac4",
   "metadata": {},
   "outputs": [
    {
     "name": "stdout",
     "output_type": "stream",
     "text": [
      "name : john\n",
      "age : 12\n",
      "gender : male\n",
      "enter student namepraise\n",
      "enter student classjss2\n",
      "congratulations your average score is 83.14 and your grade is A\n"
     ]
    }
   ],
   "source": [
    "def studentgrade(*score):\n",
    "    student_name = input('enter student name')\n",
    "    student_class = input('enter student class')\n",
    "    average= round(sum(score)/len(score),2)\n",
    "    if average>=70 and average<=100:\n",
    "        print(f'congratulations your average score is {average} and your grade is A')\n",
    "    elif average >=60 and average<=69.99:\n",
    "        print(f'congratulations your average score is {average} and your grade is B')\n",
    "    elif average >=50 and average<=59.99:\n",
    "        print(f'congratulations your average score is {average} and your grade is C')\n",
    "    elif average >=40 and average<=49.99:\n",
    "        print(f'congratulations your average score is {average} and your grade is D')\n",
    "    elif average >=30 and average<=39.99:\n",
    "        print(f'congratulations your average score is {average} and your grade is E')\n",
    "    else:\n",
    "        print(f'congratulations your average score is {average} and your grade is F')\n",
    "def studentdetails(**details):\n",
    "        for key, value in details.items():\n",
    "            print(key, ':', value)\n",
    "studentdetails(name='john', age=12, gender='male')\n",
    "studentgrade(80,75,90,78,98,76,85)\n",
    "#here the program ran 2 code functions"
   ]
  },
  {
   "cell_type": "code",
   "execution_count": 17,
   "id": "33be2015",
   "metadata": {},
   "outputs": [
    {
     "name": "stdout",
     "output_type": "stream",
     "text": [
      "name : john\n",
      "age : 12\n",
      "gender : male\n",
      "congratulations your average score is 83.14 and your grade is A\n"
     ]
    }
   ],
   "source": [
    "def studentgrade(*score):\n",
    "    average= round(sum(score)/len(score),2)\n",
    "    if average>=70 and average<=100:\n",
    "        print(f'congratulations your average score is {average} and your grade is A')\n",
    "    elif average >=60 and average<=69.99:\n",
    "        print(f'congratulations your average score is {average} and your grade is B')\n",
    "    elif average >=50 and average<=59.99:\n",
    "        print(f'congratulations your average score is {average} and your grade is C')\n",
    "    elif average >=40 and average<=49.99:\n",
    "        print(f'congratulations your average score is {average} and your grade is D')\n",
    "    elif average >=30 and average<=39.99:\n",
    "        print(f'congratulations your average score is {average} and your grade is E')\n",
    "    else:\n",
    "        print(f'congratulations your average score is {average} and your grade is F')\n",
    "def studentdetails(**details):\n",
    "        for key, value in details.items():\n",
    "            print(key, ':', value)\n",
    "studentdetails(name='john', age=12, gender='male')\n",
    "studentgrade(80,75,90,78,98,76,85)"
   ]
  },
  {
   "cell_type": "code",
   "execution_count": null,
   "id": "4c0186aa",
   "metadata": {},
   "outputs": [],
   "source": [
    "#lambda function\n",
    "#lambda is used for short and specific tasks and it only takes if and else conditions\n",
    "#n/b: any other function you want to use must be in a parenthesis"
   ]
  },
  {
   "cell_type": "code",
   "execution_count": 18,
   "id": "ea32126c",
   "metadata": {},
   "outputs": [
    {
     "name": "stdout",
     "output_type": "stream",
     "text": [
      "enter name:Praise\n"
     ]
    },
    {
     "data": {
      "text/plain": [
       "'Praise starts with uppercase letter'"
      ]
     },
     "execution_count": 18,
     "metadata": {},
     "output_type": "execute_result"
    }
   ],
   "source": [
    "(lambda name:f'{name} starts with uppercase letter' if name[0] == name[0].upper()\n",
    "else f'{name} does not start with uppercase letter') (input('enter name:'))"
   ]
  },
  {
   "cell_type": "code",
   "execution_count": 19,
   "id": "8de1ff5e",
   "metadata": {},
   "outputs": [
    {
     "data": {
      "text/plain": [
       "6.708203932499369"
      ]
     },
     "execution_count": 19,
     "metadata": {},
     "output_type": "execute_result"
    }
   ],
   "source": [
    "import math\n",
    "(lambda x:math.sqrt(x))(45)"
   ]
  },
  {
   "cell_type": "code",
   "execution_count": 22,
   "id": "04ace7a6",
   "metadata": {},
   "outputs": [
    {
     "name": "stdout",
     "output_type": "stream",
     "text": [
      "['PUS-PUS', 'SCARLET', 'STAR', 'GINGER', 'GALAXY', 'NALA', 'KION']\n"
     ]
    }
   ],
   "source": [
    "#map and filter\n",
    "#map indicates that the operation is a modification operation\n",
    "#map and filter works for list, tuple and string only\n",
    "cats = ['pus-pus', 'scarlet','star', 'ginger', 'galaxy', 'nala', 'kion']\n",
    "updatecatnames = list(map(lambda x:x.upper(),cats))\n",
    "print(updatecatnames)"
   ]
  },
  {
   "cell_type": "code",
   "execution_count": 24,
   "id": "6dd9f45a",
   "metadata": {},
   "outputs": [
    {
     "name": "stdout",
     "output_type": "stream",
     "text": [
      "['scarlet', 'star']\n"
     ]
    }
   ],
   "source": [
    "cats = ['pus-pus', 'scarlet','star', 'ginger', 'galaxy', 'nala', 'kion']\n",
    "updatecatnames = list(filter(lambda x:x.startswith('s'),cats))\n",
    "print(updatecatnames)"
   ]
  },
  {
   "cell_type": "code",
   "execution_count": null,
   "id": "7ca8b88a",
   "metadata": {},
   "outputs": [],
   "source": []
  }
 ],
 "metadata": {
  "kernelspec": {
   "display_name": "Python 3 (ipykernel)",
   "language": "python",
   "name": "python3"
  },
  "language_info": {
   "codemirror_mode": {
    "name": "ipython",
    "version": 3
   },
   "file_extension": ".py",
   "mimetype": "text/x-python",
   "name": "python",
   "nbconvert_exporter": "python",
   "pygments_lexer": "ipython3",
   "version": "3.9.12"
  }
 },
 "nbformat": 4,
 "nbformat_minor": 5
}
