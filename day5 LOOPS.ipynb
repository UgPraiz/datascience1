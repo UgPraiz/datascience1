{
 "cells": [
  {
   "cell_type": "markdown",
   "id": "f0b02bac",
   "metadata": {},
   "source": [
    "LOOPS\n",
    "(for loop)"
   ]
  },
  {
   "cell_type": "code",
   "execution_count": 1,
   "id": "a16cb2d9",
   "metadata": {},
   "outputs": [
    {
     "name": "stdout",
     "output_type": "stream",
     "text": [
      "ppp\n",
      "yyy\n",
      "ttt\n",
      "hhh\n",
      "ooo\n",
      "nnn\n"
     ]
    }
   ],
   "source": [
    "word = 'python' #for loop is used when the values are available\n",
    "for char in word:\n",
    "    print(char*3)"
   ]
  },
  {
   "cell_type": "code",
   "execution_count": 2,
   "id": "4c015f74",
   "metadata": {},
   "outputs": [
    {
     "name": "stdout",
     "output_type": "stream",
     "text": [
      "ppp::yyy::ttt::hhh::ooo::nnn::"
     ]
    }
   ],
   "source": [
    "word = 'python'\n",
    "for char in word:\n",
    "    print(char*3, end='::')"
   ]
  },
  {
   "cell_type": "markdown",
   "id": "ad74d77f",
   "metadata": {},
   "source": [
    "in a school, how can you use a for loop to iterate over a list of students and perform a specific action for each student, such as printing out their grades or generating a report card?"
   ]
  },
  {
   "cell_type": "code",
   "execution_count": 5,
   "id": "8049186c",
   "metadata": {},
   "outputs": [
    {
     "name": "stdout",
     "output_type": "stream",
     "text": [
      "student grades for alice are as follows {'maths': 95, 'english': 82, 'biology': 75, 'physics': 78}\n",
      "student grades for bob are as follows {'maths': 80, 'english': 77, 'biology': 85, 'physics': 85}\n",
      "student grades for mary are as follows {'maths': 75, 'english': 92, 'biology': 70, 'physics': 60}\n",
      "student grades for hope are as follows {'maths': 79, 'english': 52, 'biology': 76, 'physics': 55}\n",
      "student grades for samuel are as follows {'maths': 90, 'english': 62, 'biology': 75, 'physics': 90}\n"
     ]
    }
   ],
   "source": [
    "students = ['alice', 'bob', 'mary', 'hope', 'samuel']\n",
    "grades ={\n",
    "    'alice':{'maths': 95, 'english': 82, 'biology': 75, 'physics':78}, \n",
    "    'bob':{'maths': 80, 'english': 77, 'biology': 85, 'physics':85}, \n",
    "    'mary':{'maths': 75, 'english': 92, 'biology': 70, 'physics':60}, \n",
    "    'hope':{'maths': 79, 'english': 52, 'biology': 76, 'physics':55}, \n",
    "    'samuel':{'maths': 90, 'english': 62, 'biology': 75, 'physics':90}, \n",
    "}\n",
    "for student in students:\n",
    "    print(f'student grades for {student} are as follows {grades[student]}')"
   ]
  },
  {
   "cell_type": "code",
   "execution_count": 7,
   "id": "1c6f2264",
   "metadata": {},
   "outputs": [
    {
     "name": "stdout",
     "output_type": "stream",
     "text": [
      "student report card\n",
      "name:alice\n",
      "math score:95\n",
      "english score:82\n",
      "biology score:75\n",
      "physics score:78\n",
      "average score: 271.5\n",
      "\n",
      "student report card\n",
      "name:bob\n",
      "math score:80\n",
      "english score:77\n",
      "biology score:85\n",
      "physics score:85\n",
      "average score: 263.25\n",
      "\n",
      "student report card\n",
      "name:mary\n",
      "math score:75\n",
      "english score:92\n",
      "biology score:70\n",
      "physics score:60\n",
      "average score: 252.0\n",
      "\n",
      "student report card\n",
      "name:hope\n",
      "math score:79\n",
      "english score:52\n",
      "biology score:76\n",
      "physics score:55\n",
      "average score: 220.75\n",
      "\n",
      "student report card\n",
      "name:samuel\n",
      "math score:90\n",
      "english score:62\n",
      "biology score:75\n",
      "physics score:90\n",
      "average score: 249.5\n",
      "\n"
     ]
    }
   ],
   "source": [
    "students = ['alice', 'bob', 'mary', 'hope', 'samuel']\n",
    "grades ={\n",
    "    'alice':{'maths': 95, 'english': 82, 'biology': 75, 'physics':78}, \n",
    "    'bob':{'maths': 80, 'english': 77, 'biology': 85, 'physics':85}, \n",
    "    'mary':{'maths': 75, 'english': 92, 'biology': 70, 'physics':60}, \n",
    "    'hope':{'maths': 79, 'english': 52, 'biology': 76, 'physics':55}, \n",
    "    'samuel':{'maths': 90, 'english': 62, 'biology': 75, 'physics':90}, \n",
    "}\n",
    "for student in students:\n",
    "    print(f'''student report card\n",
    "name:{student}\n",
    "math score:{grades[student]['maths']}\n",
    "english score:{grades[student]['english']}\n",
    "biology score:{grades[student]['biology']}\n",
    "physics score:{grades[student]['physics']}\n",
    "average score: {grades[student]['maths']+grades[student]['english']+grades[student]['biology']+grades[student]['physics']/4}\n",
    "''')"
   ]
  },
  {
   "cell_type": "code",
   "execution_count": 3,
   "id": "a0581209",
   "metadata": {},
   "outputs": [
    {
     "name": "stdout",
     "output_type": "stream",
     "text": [
      "please enter student namehope\n",
      "student report card\n",
      "name:hope\n",
      "math score:79\n",
      "english score:52\n",
      "biology score:76\n",
      "physics score:55\n",
      "average score: 220.75\n",
      "\n"
     ]
    }
   ],
   "source": [
    "students = ['alice', 'bob', 'mary', 'hope', 'samuel']\n",
    "grades ={\n",
    "    'alice':{'maths': 95, 'english': 82, 'biology': 75, 'physics':78}, \n",
    "    'bob':{'maths': 80, 'english': 77, 'biology': 85, 'physics':85}, \n",
    "    'mary':{'maths': 75, 'english': 92, 'biology': 70, 'physics':60}, \n",
    "    'hope':{'maths': 79, 'english': 52, 'biology': 76, 'physics':55}, \n",
    "    'samuel':{'maths': 90, 'english': 62, 'biology': 75, 'physics':90}, \n",
    "}\n",
    "student_name = input('please enter student name')\n",
    "for student in students:\n",
    "    if student == student_name:\n",
    "        print(f'''student report card\n",
    "name:{student}\n",
    "math score:{grades[student]['maths']}\n",
    "english score:{grades[student]['english']}\n",
    "biology score:{grades[student]['biology']}\n",
    "physics score:{grades[student]['physics']}\n",
    "average score: {grades[student]['maths']+grades[student]['english']+grades[student]['biology']+grades[student]['physics']/4}\n",
    "''')"
   ]
  },
  {
   "cell_type": "code",
   "execution_count": 5,
   "id": "045d5879",
   "metadata": {},
   "outputs": [
    {
     "name": "stdout",
     "output_type": "stream",
     "text": [
      "please enter student namesade\n",
      "record not found\n",
      "record not found\n",
      "record not found\n",
      "record not found\n",
      "record not found\n"
     ]
    }
   ],
   "source": [
    "students = ['alice', 'bob', 'mary', 'hope', 'samuel']\n",
    "grades ={\n",
    "    'alice':{'maths': 95, 'english': 82, 'biology': 75, 'physics':78}, \n",
    "    'bob':{'maths': 80, 'english': 77, 'biology': 85, 'physics':85}, \n",
    "    'mary':{'maths': 75, 'english': 92, 'biology': 70, 'physics':60}, \n",
    "    'hope':{'maths': 79, 'english': 52, 'biology': 76, 'physics':55}, \n",
    "    'samuel':{'maths': 90, 'english': 62, 'biology': 75, 'physics':90}, \n",
    "}\n",
    "student_name = input('please enter student name')\n",
    "for student in students:\n",
    "    if student == student_name:\n",
    "        print(f'''student report card\n",
    "name:{student}\n",
    "math score:{grades[student]['maths']}\n",
    "english score:{grades[student]['english']}\n",
    "biology score:{grades[student]['biology']}\n",
    "physics score:{grades[student]['physics']}\n",
    "average score: {grades[student]['maths']+grades[student]['english']+grades[student]['biology']+grades[student]['physics']/4}\n",
    "''')\n",
    "    else:\n",
    "            print('record not found')"
   ]
  },
  {
   "cell_type": "code",
   "execution_count": 6,
   "id": "3b89ce3c",
   "metadata": {},
   "outputs": [
    {
     "name": "stdout",
     "output_type": "stream",
     "text": [
      "please enter student namejohn\n",
      "record not found\n"
     ]
    }
   ],
   "source": [
    "students = ['alice', 'bob', 'mary', 'hope', 'samuel']\n",
    "grades ={\n",
    "    'alice':{'maths': 95, 'english': 82, 'biology': 75, 'physics':78}, \n",
    "    'bob':{'maths': 80, 'english': 77, 'biology': 85, 'physics':85}, \n",
    "    'mary':{'maths': 75, 'english': 92, 'biology': 70, 'physics':60}, \n",
    "    'hope':{'maths': 79, 'english': 52, 'biology': 76, 'physics':55}, \n",
    "    'samuel':{'maths': 90, 'english': 62, 'biology': 75, 'physics':90}, \n",
    "}\n",
    "student_name = input('please enter student name')\n",
    "for student in students:\n",
    "    if student == student_name:\n",
    "        print(f'''student report card\n",
    "name:{student}\n",
    "math score:{grades[student]['maths']}\n",
    "english score:{grades[student]['english']}\n",
    "biology score:{grades[student]['biology']}\n",
    "physics score:{grades[student]['physics']}\n",
    "average score: {grades[student]['maths']+grades[student]['english']+grades[student]['biology']+grades[student]['physics']/4}\n",
    "''')\n",
    "else:\n",
    "    print('record not found')\n",
    "    #here the else command is for the 'for loop' that was why it iterated once."
   ]
  },
  {
   "cell_type": "markdown",
   "id": "de96f86e",
   "metadata": {},
   "source": [
    "while loop"
   ]
  },
  {
   "cell_type": "code",
   "execution_count": 10,
   "id": "ceda999e",
   "metadata": {},
   "outputs": [
    {
     "name": "stdout",
     "output_type": "stream",
     "text": [
      "enter ur guess btw 1 -20:20\n",
      "guess is high\n",
      "enter ur guess btw 1 -20:18\n",
      "guess is high\n",
      "enter ur guess btw 1 -20:3\n",
      "guess is low\n",
      "enter ur guess btw 1 -20:13\n",
      "guess is high\n",
      "enter ur guess btw 1 -20:6\n",
      "guess is high\n",
      "enter ur guess btw 1 -20:4\n",
      "guess is correct\n"
     ]
    }
   ],
   "source": [
    "import random\n",
    "outcome = random.randint(1,20)\n",
    "counter = 1\n",
    "guess = int(input('enter ur guess btw 1 -20:'))\n",
    "while guess!= outcome:\n",
    "    if guess > outcome:\n",
    "        print('guess is high')\n",
    "    elif guess < outcome:\n",
    "        print('guess is low')\n",
    "    guess = int(input('enter ur guess btw 1 -20:'))\n",
    "    counter = counter + 1\n",
    "else:\n",
    "    print('guess is correct')"
   ]
  },
  {
   "cell_type": "code",
   "execution_count": 1,
   "id": "b4f309ee",
   "metadata": {},
   "outputs": [
    {
     "name": "stdout",
     "output_type": "stream",
     "text": [
      "enter ur guess btw 1 -20:7\n",
      "guess is low\n",
      "enter ur guess btw 1 -20:19\n",
      "Guess is high\n",
      "enter ur guess btw 1 -20:5\n",
      "guess is low\n",
      "enter ur guess btw 1 -20:12\n",
      "guess is low\n",
      "sorry you lost\n"
     ]
    }
   ],
   "source": [
    "import random\n",
    "outcome = random.randint(1,20)\n",
    "counter = 1\n",
    "limit = 5\n",
    "while counter < limit: \n",
    "    guess = int(input('enter ur guess btw 1 -20:'))\n",
    "    counter = counter + 1\n",
    "    if guess == outcome:\n",
    "        print('guess is correct')\n",
    "        break #break means that you dont want the program to iterate again\n",
    "    elif guess < outcome:\n",
    "        print('guess is low')\n",
    "    elif guess > outcome:\n",
    "        print('Guess is high')\n",
    "\n",
    "else:\n",
    "    print('sorry you lost')\n",
    "#anytime you want to add while loop, you have to put the counter first before the while condition"
   ]
  },
  {
   "cell_type": "code",
   "execution_count": null,
   "id": "c55adcc8",
   "metadata": {},
   "outputs": [],
   "source": []
  }
 ],
 "metadata": {
  "kernelspec": {
   "display_name": "Python 3 (ipykernel)",
   "language": "python",
   "name": "python3"
  },
  "language_info": {
   "codemirror_mode": {
    "name": "ipython",
    "version": 3
   },
   "file_extension": ".py",
   "mimetype": "text/x-python",
   "name": "python",
   "nbconvert_exporter": "python",
   "pygments_lexer": "ipython3",
   "version": "3.9.12"
  }
 },
 "nbformat": 4,
 "nbformat_minor": 5
}
