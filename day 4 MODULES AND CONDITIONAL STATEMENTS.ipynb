{
 "cells": [
  {
   "cell_type": "markdown",
   "id": "eaf84af8",
   "metadata": {},
   "source": [
    "# MODULES\n"
   ]
  },
  {
   "cell_type": "code",
   "execution_count": 2,
   "id": "d7d77717",
   "metadata": {},
   "outputs": [
    {
     "name": "stdout",
     "output_type": "stream",
     "text": [
      "['__doc__', '__loader__', '__name__', '__package__', '__spec__', 'acos', 'acosh', 'asin', 'asinh', 'atan', 'atan2', 'atanh', 'ceil', 'comb', 'copysign', 'cos', 'cosh', 'degrees', 'dist', 'e', 'erf', 'erfc', 'exp', 'expm1', 'fabs', 'factorial', 'floor', 'fmod', 'frexp', 'fsum', 'gamma', 'gcd', 'hypot', 'inf', 'isclose', 'isfinite', 'isinf', 'isnan', 'isqrt', 'lcm', 'ldexp', 'lgamma', 'log', 'log10', 'log1p', 'log2', 'modf', 'nan', 'nextafter', 'perm', 'pi', 'pow', 'prod', 'radians', 'remainder', 'sin', 'sinh', 'sqrt', 'tan', 'tanh', 'tau', 'trunc', 'ulp']\n"
     ]
    }
   ],
   "source": [
    "import math\n",
    "print(dir(math))"
   ]
  },
  {
   "cell_type": "code",
   "execution_count": 4,
   "id": "706f6e2e",
   "metadata": {},
   "outputs": [
    {
     "name": "stdout",
     "output_type": "stream",
     "text": [
      "2.749192144433385\n",
      "15.63\n",
      "-0.07812161357459668\n"
     ]
    }
   ],
   "source": [
    "num = 15.63\n",
    "print(math.log(num))\n",
    "print(math.hypot(num))\n",
    "print(math.tan(num))"
   ]
  },
  {
   "cell_type": "code",
   "execution_count": 5,
   "id": "8ffff529",
   "metadata": {},
   "outputs": [
    {
     "name": "stdout",
     "output_type": "stream",
     "text": [
      "['Counter', 'Decimal', 'Fraction', 'NormalDist', 'StatisticsError', '__all__', '__builtins__', '__cached__', '__doc__', '__file__', '__loader__', '__name__', '__package__', '__spec__', '_coerce', '_convert', '_exact_ratio', '_fail_neg', '_find_lteq', '_find_rteq', '_isfinite', '_normal_dist_inv_cdf', '_ss', '_sum', 'bisect_left', 'bisect_right', 'erf', 'exp', 'fabs', 'fmean', 'fsum', 'geometric_mean', 'groupby', 'harmonic_mean', 'hypot', 'itemgetter', 'log', 'math', 'mean', 'median', 'median_grouped', 'median_high', 'median_low', 'mode', 'multimode', 'numbers', 'pstdev', 'pvariance', 'quantiles', 'random', 'sqrt', 'stdev', 'tau', 'variance']\n"
     ]
    }
   ],
   "source": [
    "import statistics as stat\n",
    "print (dir(stat))"
   ]
  },
  {
   "cell_type": "code",
   "execution_count": 7,
   "id": "73c2cbf3",
   "metadata": {},
   "outputs": [
    {
     "name": "stdout",
     "output_type": "stream",
     "text": [
      "466.6666666666667\n",
      "40\n"
     ]
    }
   ],
   "source": [
    "numbers =[10, 20, 30, 40, 50, 60, 70]\n",
    "print(stat.variance(numbers))\n",
    "print(stat.median(numbers))"
   ]
  },
  {
   "cell_type": "code",
   "execution_count": 8,
   "id": "737a5a78",
   "metadata": {},
   "outputs": [
    {
     "name": "stdout",
     "output_type": "stream",
     "text": [
      "['BPF', 'LOG4', 'NV_MAGICCONST', 'RECIP_BPF', 'Random', 'SG_MAGICCONST', 'SystemRandom', 'TWOPI', '_Sequence', '_Set', '__all__', '__builtins__', '__cached__', '__doc__', '__file__', '__loader__', '__name__', '__package__', '__spec__', '_accumulate', '_acos', '_bisect', '_ceil', '_cos', '_e', '_exp', '_floor', '_inst', '_log', '_os', '_pi', '_random', '_repeat', '_sha512', '_sin', '_sqrt', '_test', '_test_generator', '_urandom', '_warn', 'betavariate', 'choice', 'choices', 'expovariate', 'gammavariate', 'gauss', 'getrandbits', 'getstate', 'lognormvariate', 'normalvariate', 'paretovariate', 'randbytes', 'randint', 'random', 'randrange', 'sample', 'seed', 'setstate', 'shuffle', 'triangular', 'uniform', 'vonmisesvariate', 'weibullvariate']\n"
     ]
    }
   ],
   "source": [
    "import random\n",
    "print(dir(random))"
   ]
  },
  {
   "cell_type": "code",
   "execution_count": 37,
   "id": "6bfa503e",
   "metadata": {},
   "outputs": [
    {
     "name": "stdout",
     "output_type": "stream",
     "text": [
      "[50, 10, 30, 70, 20, 40, 60]\n",
      "[70, 50, 10, 30, 40, 60, 20]\n"
     ]
    }
   ],
   "source": [
    "random.choice(numbers)\n",
    "print(numbers)\n",
    "random.shuffle(numbers)\n",
    "print(numbers)"
   ]
  },
  {
   "cell_type": "markdown",
   "id": "40358af5",
   "metadata": {},
   "source": [
    "# CONDITIONAL STATEMENT\n",
    "Q: how can a resturant use a conditional statement to determine if a customer's bill exceeds a certain amount, and offer them a discount or reward accordingly?"
   ]
  },
  {
   "cell_type": "code",
   "execution_count": 54,
   "id": "695d1731",
   "metadata": {},
   "outputs": [
    {
     "name": "stdout",
     "output_type": "stream",
     "text": [
      "CUSTOMER BiLL:5500\n",
      "congratulations you are eligible for extra plate\n"
     ]
    }
   ],
   "source": [
    "customerbill = float(input('CUSTOMER BiLL:'))\n",
    "reward = ['extra plate', 'free drinks', '10% discount', '25% discount' ]\n",
    "if customerbill >5000:\n",
    "    print(f'congratulations you are eligible for {random.choice(reward)}')\n",
    "else: \n",
    "    print('sorry you are not eligible for our reward')"
   ]
  },
  {
   "cell_type": "code",
   "execution_count": 55,
   "id": "9c2fc3f6",
   "metadata": {},
   "outputs": [
    {
     "name": "stdout",
     "output_type": "stream",
     "text": [
      "CUSTOMER BiLL:500000\n",
      "Customer shopping duration:6\n",
      "sorry youre not eligible for our reward program\n"
     ]
    }
   ],
   "source": [
    "#nested if condition => make use of if, and else\n",
    "customerbill = float(input('CUSTOMER BiLL:'))\n",
    "duration = float(input('Customer shopping duration:')) \n",
    "reward = ['extra plate', 'free drinks', '10% discount', '25% discount' ]\n",
    "if (customerbill>=200000 and customerbill<400000) and (duration>=5 and duration<10): \n",
    "    print (f'congratulations you are eligible for {reward[1]}')\n",
    "else: \n",
    "    if (customerbill== 400000 and customerbill <600000) and (duration >=10 and duration <20): \n",
    "        print('congratulations you are eligible for {reward[2]}')\n",
    "    else:\n",
    "        print('sorry youre not eligible for our reward program')"
   ]
  },
  {
   "cell_type": "code",
   "execution_count": 53,
   "id": "4edcc9d5",
   "metadata": {},
   "outputs": [
    {
     "name": "stdout",
     "output_type": "stream",
     "text": [
      "CUSTOMER BiLL:1500000\n",
      "Customer shopping duration:25\n",
      "congratulations you are eligible for 25% discount\n"
     ]
    }
   ],
   "source": [
    "#multiple condition => makes use of elif\n",
    "customerbill = float(input('CUSTOMER BiLL:'))\n",
    "duration = float(input('Customer shopping duration:')) \n",
    "reward = ['extra plate', 'free drinks', '10% discount', '25% discount' ]\n",
    "if (customerbill>=200000 and customerbill<400000) and (duration>=5): \n",
    "     print(f'congratulations you are eligible for {random.choice(reward)}')\n",
    "elif (customerbill>=400000 and customerbill<400000) and (duration>=5): \n",
    "     print(f'congratulations you are eligible for {random.choice(reward)}')\n",
    "elif (customerbill>=600000 and customerbill<1000000) and (duration>=5): \n",
    "     print(f'congratulations you are eligible for {random.choice(reward)}')\n",
    "elif (customerbill>=1000000) and (duration>=5): \n",
    "     print(f'congratulations you are eligible for {random.choice(reward)}')\n",
    "else: \n",
    "     print('sorry youre not eligible for our reward program')"
   ]
  },
  {
   "cell_type": "code",
   "execution_count": null,
   "id": "976783a9",
   "metadata": {},
   "outputs": [],
   "source": []
  }
 ],
 "metadata": {
  "kernelspec": {
   "display_name": "Python 3 (ipykernel)",
   "language": "python",
   "name": "python3"
  },
  "language_info": {
   "codemirror_mode": {
    "name": "ipython",
    "version": 3
   },
   "file_extension": ".py",
   "mimetype": "text/x-python",
   "name": "python",
   "nbconvert_exporter": "python",
   "pygments_lexer": "ipython3",
   "version": "3.9.12"
  }
 },
 "nbformat": 4,
 "nbformat_minor": 5
}
