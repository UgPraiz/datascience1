{
 "cells": [
  {
   "cell_type": "code",
   "execution_count": 1,
   "id": "06c1bf52",
   "metadata": {},
   "outputs": [],
   "source": [
    "import datetime"
   ]
  },
  {
   "cell_type": "code",
   "execution_count": 2,
   "id": "729af7c3",
   "metadata": {},
   "outputs": [
    {
     "name": "stdout",
     "output_type": "stream",
     "text": [
      "['MAXYEAR', 'MINYEAR', '__all__', '__builtins__', '__cached__', '__doc__', '__file__', '__loader__', '__name__', '__package__', '__spec__', 'date', 'datetime', 'datetime_CAPI', 'sys', 'time', 'timedelta', 'timezone', 'tzinfo']\n"
     ]
    }
   ],
   "source": [
    "print(dir(datetime))"
   ]
  },
  {
   "cell_type": "code",
   "execution_count": 3,
   "id": "1dab9fc1",
   "metadata": {},
   "outputs": [
    {
     "data": {
      "text/plain": [
       "datetime.date(2023, 2, 22)"
      ]
     },
     "execution_count": 3,
     "metadata": {},
     "output_type": "execute_result"
    }
   ],
   "source": [
    "date1 = datetime.date(2023, 2, 22)\n",
    "date1"
   ]
  },
  {
   "cell_type": "code",
   "execution_count": 5,
   "id": "ae8d674f",
   "metadata": {},
   "outputs": [
    {
     "name": "stdout",
     "output_type": "stream",
     "text": [
      "2023\n",
      "2\n",
      "22\n",
      "2\n",
      "3\n"
     ]
    }
   ],
   "source": [
    "print (date1.year)\n",
    "print(date1.month)\n",
    "print(date1.day)\n",
    "print(date1.weekday()) #python's date starts from zero\n",
    "print(date1.isoweekday()) #this one's for normal calendar weekday"
   ]
  },
  {
   "cell_type": "code",
   "execution_count": 7,
   "id": "bfd37d23",
   "metadata": {},
   "outputs": [
    {
     "name": "stdout",
     "output_type": "stream",
     "text": [
      "2023-03-25\n"
     ]
    }
   ],
   "source": [
    "currentdate = datetime.date.today()\n",
    "print(currentdate)"
   ]
  },
  {
   "cell_type": "code",
   "execution_count": 9,
   "id": "06c64122",
   "metadata": {},
   "outputs": [
    {
     "name": "stdout",
     "output_type": "stream",
     "text": [
      "Saturday\n",
      "Sat\n",
      "March\n",
      "Mar\n",
      "25\n",
      "03\n",
      "2023\n",
      "23\n",
      "\n"
     ]
    }
   ],
   "source": [
    "#strftime == used to modify date and time\n",
    "print(currentdate.strftime('''%A\n",
    "%a\n",
    "%B\n",
    "%b\n",
    "%d\n",
    "%m\n",
    "%Y\n",
    "%y\n",
    "'''),\n",
    ")"
   ]
  },
  {
   "cell_type": "code",
   "execution_count": 13,
   "id": "17fc13c3",
   "metadata": {},
   "outputs": [
    {
     "data": {
      "text/plain": [
       "'25th of March, 2023'"
      ]
     },
     "execution_count": 13,
     "metadata": {},
     "output_type": "execute_result"
    }
   ],
   "source": [
    "currentdate.strftime('%dth of %B, %Y')"
   ]
  },
  {
   "cell_type": "code",
   "execution_count": 14,
   "id": "1e4f0097",
   "metadata": {},
   "outputs": [
    {
     "data": {
      "text/plain": [
       "datetime.time(17, 1, 20, 453420)"
      ]
     },
     "execution_count": 14,
     "metadata": {},
     "output_type": "execute_result"
    }
   ],
   "source": [
    "currenttime = datetime.datetime.now().time()\n",
    "currenttime\n",
    "#hour, minute, secs, microsecs"
   ]
  },
  {
   "cell_type": "code",
   "execution_count": 16,
   "id": "e3b77e23",
   "metadata": {},
   "outputs": [
    {
     "name": "stdout",
     "output_type": "stream",
     "text": [
      "05, 01, 20, 453420, PM, 17\n"
     ]
    }
   ],
   "source": [
    "print(currenttime.strftime('''%I, %M, %S, %f, %p, %H'''))"
   ]
  },
  {
   "cell_type": "code",
   "execution_count": 18,
   "id": "4e581c8a",
   "metadata": {},
   "outputs": [
    {
     "name": "stdout",
     "output_type": "stream",
     "text": [
      "enter tour date in this format[d/m/y:]25/3/2023\n",
      "2023-03-25\n"
     ]
    }
   ],
   "source": [
    "#strptime - converts any date or time collected in string to datetime format\n",
    "cdate = input('enter tour date in this format[d/m/y:]')\n",
    "condate = datetime.datetime.strptime(cdate,'%d/%m/%Y'). date()\n",
    "print(condate)"
   ]
  },
  {
   "cell_type": "code",
   "execution_count": 19,
   "id": "fdac8cba",
   "metadata": {},
   "outputs": [
    {
     "data": {
      "text/plain": [
       "datetime.timedelta(days=31)"
      ]
     },
     "execution_count": 19,
     "metadata": {},
     "output_type": "execute_result"
    }
   ],
   "source": [
    "currentdate - date1"
   ]
  },
  {
   "cell_type": "code",
   "execution_count": 20,
   "id": "b3677b91",
   "metadata": {},
   "outputs": [
    {
     "data": {
      "text/plain": [
       "datetime.date(2026, 2, 7)"
      ]
     },
     "execution_count": 20,
     "metadata": {},
     "output_type": "execute_result"
    }
   ],
   "source": [
    "currentdate + datetime.timedelta(weeks =150)"
   ]
  },
  {
   "cell_type": "code",
   "execution_count": 22,
   "id": "8eb3d1c2",
   "metadata": {},
   "outputs": [
    {
     "data": {
      "text/plain": [
       "datetime.date(2020, 5, 9)"
      ]
     },
     "execution_count": 22,
     "metadata": {},
     "output_type": "execute_result"
    }
   ],
   "source": [
    "currentdate - datetime.timedelta(weeks =150)"
   ]
  },
  {
   "cell_type": "code",
   "execution_count": 23,
   "id": "c22e5b48",
   "metadata": {},
   "outputs": [
    {
     "data": {
      "text/plain": [
       "datetime.datetime(2023, 3, 25, 17, 17, 59, 209299)"
      ]
     },
     "execution_count": 23,
     "metadata": {},
     "output_type": "execute_result"
    }
   ],
   "source": [
    "ctimedate = datetime.datetime.now()\n",
    "ctimedate + datetime.timedelta(minutes = 2)"
   ]
  },
  {
   "cell_type": "code",
   "execution_count": 28,
   "id": "61971de3",
   "metadata": {},
   "outputs": [
    {
     "name": "stdout",
     "output_type": "stream",
     "text": [
      "enter yoyr appointment date in this format [dd/mm/yy]25/05/2023\n",
      "your next appointment date is in 8 weeks and 5 days\n"
     ]
    }
   ],
   "source": [
    "#classwork\n",
    "appointment = input ('enter your appointment date in this format [dd/mm/yy]')\n",
    "appdate1 = datetime.datetime.strptime(appointment,'%d/%m/%Y').date()\n",
    "todaysdate = datetime.date.today()\n",
    "nextappdate = appdate1 - todaysdate\n",
    "no_of_weeks = nextappdate.days // 7\n",
    "no_of_days = nextappdate.days % 7\n",
    "print (f'your next appointment date is in {no_of_weeks} weeks and {no_of_days} days')"
   ]
  },
  {
   "cell_type": "code",
   "execution_count": null,
   "id": "c30460f4",
   "metadata": {},
   "outputs": [],
   "source": []
  }
 ],
 "metadata": {
  "kernelspec": {
   "display_name": "Python 3 (ipykernel)",
   "language": "python",
   "name": "python3"
  },
  "language_info": {
   "codemirror_mode": {
    "name": "ipython",
    "version": 3
   },
   "file_extension": ".py",
   "mimetype": "text/x-python",
   "name": "python",
   "nbconvert_exporter": "python",
   "pygments_lexer": "ipython3",
   "version": "3.9.12"
  }
 },
 "nbformat": 4,
 "nbformat_minor": 5
}
