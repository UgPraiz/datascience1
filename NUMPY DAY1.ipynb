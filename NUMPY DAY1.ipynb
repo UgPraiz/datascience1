{
 "cells": [
  {
   "cell_type": "code",
   "execution_count": 1,
   "id": "a9583687",
   "metadata": {},
   "outputs": [
    {
     "name": "stdout",
     "output_type": "stream",
     "text": [
      "['ALLOW_THREADS', 'AxisError', 'BUFSIZE', 'Bytes0', 'CLIP', 'ComplexWarning', 'DataSource', 'Datetime64', 'ERR_CALL', 'ERR_DEFAULT', 'ERR_IGNORE', 'ERR_LOG', 'ERR_PRINT', 'ERR_RAISE', 'ERR_WARN', 'FLOATING_POINT_SUPPORT', 'FPE_DIVIDEBYZERO', 'FPE_INVALID', 'FPE_OVERFLOW', 'FPE_UNDERFLOW', 'False_', 'Inf', 'Infinity', 'MAXDIMS', 'MAY_SHARE_BOUNDS', 'MAY_SHARE_EXACT', 'MachAr', 'ModuleDeprecationWarning', 'NAN', 'NINF', 'NZERO', 'NaN', 'PINF', 'PZERO', 'RAISE', 'RankWarning', 'SHIFT_DIVIDEBYZERO', 'SHIFT_INVALID', 'SHIFT_OVERFLOW', 'SHIFT_UNDERFLOW', 'ScalarType', 'Str0', 'Tester', 'TooHardError', 'True_', 'UFUNC_BUFSIZE_DEFAULT', 'UFUNC_PYVALS_NAME', 'Uint64', 'VisibleDeprecationWarning', 'WRAP', '_NoValue', '_UFUNC_API', '__NUMPY_SETUP__', '__all__', '__builtins__', '__cached__', '__config__', '__deprecated_attrs__', '__dir__', '__doc__', '__expired_functions__', '__file__', '__getattr__', '__git_version__', '__loader__', '__mkl_version__', '__name__', '__package__', '__path__', '__spec__', '__version__', '_add_newdoc_ufunc', '_distributor_init', '_financial_names', '_globals', '_mat', '_pytesttester', '_version', 'abs', 'absolute', 'add', 'add_docstring', 'add_newdoc', 'add_newdoc_ufunc', 'alen', 'all', 'allclose', 'alltrue', 'amax', 'amin', 'angle', 'any', 'append', 'apply_along_axis', 'apply_over_axes', 'arange', 'arccos', 'arccosh', 'arcsin', 'arcsinh', 'arctan', 'arctan2', 'arctanh', 'argmax', 'argmin', 'argpartition', 'argsort', 'argwhere', 'around', 'array', 'array2string', 'array_equal', 'array_equiv', 'array_repr', 'array_split', 'array_str', 'asanyarray', 'asarray', 'asarray_chkfinite', 'ascontiguousarray', 'asfarray', 'asfortranarray', 'asmatrix', 'asscalar', 'atleast_1d', 'atleast_2d', 'atleast_3d', 'average', 'bartlett', 'base_repr', 'binary_repr', 'bincount', 'bitwise_and', 'bitwise_not', 'bitwise_or', 'bitwise_xor', 'blackman', 'block', 'bmat', 'bool8', 'bool_', 'broadcast', 'broadcast_arrays', 'broadcast_shapes', 'broadcast_to', 'busday_count', 'busday_offset', 'busdaycalendar', 'byte', 'byte_bounds', 'bytes0', 'bytes_', 'c_', 'can_cast', 'cast', 'cbrt', 'cdouble', 'ceil', 'cfloat', 'char', 'character', 'chararray', 'choose', 'clip', 'clongdouble', 'clongfloat', 'column_stack', 'common_type', 'compare_chararrays', 'compat', 'complex128', 'complex64', 'complex_', 'complexfloating', 'compress', 'concatenate', 'conj', 'conjugate', 'convolve', 'copy', 'copysign', 'copyto', 'core', 'corrcoef', 'correlate', 'cos', 'cosh', 'count_nonzero', 'cov', 'cross', 'csingle', 'ctypeslib', 'cumprod', 'cumproduct', 'cumsum', 'datetime64', 'datetime_as_string', 'datetime_data', 'deg2rad', 'degrees', 'delete', 'deprecate', 'deprecate_with_doc', 'diag', 'diag_indices', 'diag_indices_from', 'diagflat', 'diagonal', 'diff', 'digitize', 'disp', 'divide', 'divmod', 'dot', 'double', 'dsplit', 'dstack', 'dtype', 'e', 'ediff1d', 'einsum', 'einsum_path', 'emath', 'empty', 'empty_like', 'equal', 'errstate', 'euler_gamma', 'exp', 'exp2', 'expand_dims', 'expm1', 'extract', 'eye', 'fabs', 'fastCopyAndTranspose', 'fft', 'fill_diagonal', 'find_common_type', 'finfo', 'fix', 'flatiter', 'flatnonzero', 'flexible', 'flip', 'fliplr', 'flipud', 'float16', 'float32', 'float64', 'float_', 'float_power', 'floating', 'floor', 'floor_divide', 'fmax', 'fmin', 'fmod', 'format_float_positional', 'format_float_scientific', 'format_parser', 'frexp', 'frombuffer', 'fromfile', 'fromfunction', 'fromiter', 'frompyfunc', 'fromregex', 'fromstring', 'full', 'full_like', 'gcd', 'generic', 'genfromtxt', 'geomspace', 'get_array_wrap', 'get_include', 'get_printoptions', 'getbufsize', 'geterr', 'geterrcall', 'geterrobj', 'gradient', 'greater', 'greater_equal', 'half', 'hamming', 'hanning', 'heaviside', 'histogram', 'histogram2d', 'histogram_bin_edges', 'histogramdd', 'hsplit', 'hstack', 'hypot', 'i0', 'identity', 'iinfo', 'imag', 'in1d', 'index_exp', 'indices', 'inexact', 'inf', 'info', 'infty', 'inner', 'insert', 'int0', 'int16', 'int32', 'int64', 'int8', 'int_', 'intc', 'integer', 'interp', 'intersect1d', 'intp', 'invert', 'is_busday', 'isclose', 'iscomplex', 'iscomplexobj', 'isfinite', 'isfortran', 'isin', 'isinf', 'isnan', 'isnat', 'isneginf', 'isposinf', 'isreal', 'isrealobj', 'isscalar', 'issctype', 'issubclass_', 'issubdtype', 'issubsctype', 'iterable', 'ix_', 'kaiser', 'kron', 'lcm', 'ldexp', 'left_shift', 'less', 'less_equal', 'lexsort', 'lib', 'linalg', 'linspace', 'little_endian', 'load', 'loads', 'loadtxt', 'log', 'log10', 'log1p', 'log2', 'logaddexp', 'logaddexp2', 'logical_and', 'logical_not', 'logical_or', 'logical_xor', 'logspace', 'longcomplex', 'longdouble', 'longfloat', 'longlong', 'lookfor', 'ma', 'mafromtxt', 'mask_indices', 'mat', 'math', 'matmul', 'matrix', 'matrixlib', 'max', 'maximum', 'maximum_sctype', 'may_share_memory', 'mean', 'median', 'memmap', 'meshgrid', 'mgrid', 'min', 'min_scalar_type', 'minimum', 'mintypecode', 'mkl', 'mod', 'modf', 'moveaxis', 'msort', 'multiply', 'nan', 'nan_to_num', 'nanargmax', 'nanargmin', 'nancumprod', 'nancumsum', 'nanmax', 'nanmean', 'nanmedian', 'nanmin', 'nanpercentile', 'nanprod', 'nanquantile', 'nanstd', 'nansum', 'nanvar', 'nbytes', 'ndarray', 'ndenumerate', 'ndfromtxt', 'ndim', 'ndindex', 'nditer', 'negative', 'nested_iters', 'newaxis', 'nextafter', 'nonzero', 'not_equal', 'numarray', 'number', 'obj2sctype', 'object0', 'object_', 'ogrid', 'oldnumeric', 'ones', 'ones_like', 'os', 'outer', 'packbits', 'pad', 'partition', 'percentile', 'pi', 'piecewise', 'place', 'poly', 'poly1d', 'polyadd', 'polyder', 'polydiv', 'polyfit', 'polyint', 'polymul', 'polynomial', 'polysub', 'polyval', 'positive', 'power', 'printoptions', 'prod', 'product', 'promote_types', 'ptp', 'put', 'put_along_axis', 'putmask', 'quantile', 'r_', 'rad2deg', 'radians', 'random', 'ravel', 'ravel_multi_index', 'real', 'real_if_close', 'rec', 'recarray', 'recfromcsv', 'recfromtxt', 'reciprocal', 'record', 'remainder', 'repeat', 'require', 'reshape', 'resize', 'result_type', 'right_shift', 'rint', 'roll', 'rollaxis', 'roots', 'rot90', 'round', 'round_', 'row_stack', 's_', 'safe_eval', 'save', 'savetxt', 'savez', 'savez_compressed', 'sctype2char', 'sctypeDict', 'sctypes', 'searchsorted', 'select', 'set_numeric_ops', 'set_printoptions', 'set_string_function', 'setbufsize', 'setdiff1d', 'seterr', 'seterrcall', 'seterrobj', 'setxor1d', 'shape', 'shares_memory', 'short', 'show_config', 'sign', 'signbit', 'signedinteger', 'sin', 'sinc', 'single', 'singlecomplex', 'sinh', 'size', 'sometrue', 'sort', 'sort_complex', 'source', 'spacing', 'split', 'sqrt', 'square', 'squeeze', 'stack', 'std', 'str0', 'str_', 'string_', 'subtract', 'sum', 'swapaxes', 'sys', 'take', 'take_along_axis', 'tan', 'tanh', 'tensordot', 'test', 'testing', 'tile', 'timedelta64', 'trace', 'tracemalloc_domain', 'transpose', 'trapz', 'tri', 'tril', 'tril_indices', 'tril_indices_from', 'trim_zeros', 'triu', 'triu_indices', 'triu_indices_from', 'true_divide', 'trunc', 'typecodes', 'typename', 'ubyte', 'ufunc', 'uint', 'uint0', 'uint16', 'uint32', 'uint64', 'uint8', 'uintc', 'uintp', 'ulonglong', 'unicode_', 'union1d', 'unique', 'unpackbits', 'unravel_index', 'unsignedinteger', 'unwrap', 'use_hugepage', 'ushort', 'vander', 'var', 'vdot', 'vectorize', 'version', 'void', 'void0', 'vsplit', 'vstack', 'warnings', 'where', 'who', 'zeros', 'zeros_like']\n"
     ]
    }
   ],
   "source": [
    "import numpy as np\n",
    "print (dir(np))"
   ]
  },
  {
   "cell_type": "code",
   "execution_count": 4,
   "id": "e219c7db",
   "metadata": {},
   "outputs": [
    {
     "data": {
      "text/plain": [
       "array([21, 22, 23, 24])"
      ]
     },
     "execution_count": 4,
     "metadata": {},
     "output_type": "execute_result"
    }
   ],
   "source": [
    "arr1 = np.array ([21,22, 23, 24]) #one dimension array\n",
    "arr1"
   ]
  },
  {
   "cell_type": "code",
   "execution_count": 5,
   "id": "24f15f52",
   "metadata": {},
   "outputs": [
    {
     "data": {
      "text/plain": [
       "dtype('int32')"
      ]
     },
     "execution_count": 5,
     "metadata": {},
     "output_type": "execute_result"
    }
   ],
   "source": [
    "arr1.dtype"
   ]
  },
  {
   "cell_type": "code",
   "execution_count": 6,
   "id": "e5c95723",
   "metadata": {},
   "outputs": [
    {
     "data": {
      "text/plain": [
       "1"
      ]
     },
     "execution_count": 6,
     "metadata": {},
     "output_type": "execute_result"
    }
   ],
   "source": [
    "arr1.ndim"
   ]
  },
  {
   "cell_type": "code",
   "execution_count": 7,
   "id": "03a65ff9",
   "metadata": {},
   "outputs": [
    {
     "data": {
      "text/plain": [
       "(4,)"
      ]
     },
     "execution_count": 7,
     "metadata": {},
     "output_type": "execute_result"
    }
   ],
   "source": [
    "arr1.shape"
   ]
  },
  {
   "cell_type": "code",
   "execution_count": 9,
   "id": "098c3b81",
   "metadata": {},
   "outputs": [
    {
     "data": {
      "text/plain": [
       "array([[21, 22, 23, 24],\n",
       "       [25, 26, 27, 28]])"
      ]
     },
     "execution_count": 9,
     "metadata": {},
     "output_type": "execute_result"
    }
   ],
   "source": [
    "arr2 = np.array ([[21,22, 23, 24], [25, 26, 27, 28]]) #two dimension array(matrix)\n",
    "arr2"
   ]
  },
  {
   "cell_type": "code",
   "execution_count": 11,
   "id": "29a54dc0",
   "metadata": {},
   "outputs": [
    {
     "data": {
      "text/plain": [
       "dtype('int32')"
      ]
     },
     "execution_count": 11,
     "metadata": {},
     "output_type": "execute_result"
    }
   ],
   "source": [
    "arr2 = np.array ([[21,22, 23, 24], [25, 26, 27, 28]], dtype = 'int32') #changing the integer data type, bcos the higher the number, the lesser the storage space on python \n",
    "arr2\n",
    "arr2.dtype"
   ]
  },
  {
   "cell_type": "code",
   "execution_count": 13,
   "id": "bf1560e6",
   "metadata": {},
   "outputs": [
    {
     "data": {
      "text/plain": [
       "array([1., 1., 1., 1., 1., 1., 1., 1., 1., 1., 1., 1., 1., 1., 1.])"
      ]
     },
     "execution_count": 13,
     "metadata": {},
     "output_type": "execute_result"
    }
   ],
   "source": [
    "np.ones(15) #on default, it is float"
   ]
  },
  {
   "cell_type": "code",
   "execution_count": 14,
   "id": "fa337b83",
   "metadata": {},
   "outputs": [
    {
     "data": {
      "text/plain": [
       "array([1, 1, 1, 1, 1, 1, 1, 1, 1, 1, 1, 1, 1, 1, 1])"
      ]
     },
     "execution_count": 14,
     "metadata": {},
     "output_type": "execute_result"
    }
   ],
   "source": [
    "np.ones(15, dtype=int) #unless otherwise changed "
   ]
  },
  {
   "cell_type": "code",
   "execution_count": 15,
   "id": "c923b7de",
   "metadata": {},
   "outputs": [
    {
     "data": {
      "text/plain": [
       "array([0., 0., 0., 0., 0., 0., 0., 0., 0., 0., 0., 0., 0., 0., 0.])"
      ]
     },
     "execution_count": 15,
     "metadata": {},
     "output_type": "execute_result"
    }
   ],
   "source": [
    "np.zeros(15)"
   ]
  },
  {
   "cell_type": "code",
   "execution_count": 16,
   "id": "7ff02970",
   "metadata": {},
   "outputs": [
    {
     "data": {
      "text/plain": [
       "array([ 15.        ,  16.73469388,  18.46938776,  20.20408163,\n",
       "        21.93877551,  23.67346939,  25.40816327,  27.14285714,\n",
       "        28.87755102,  30.6122449 ,  32.34693878,  34.08163265,\n",
       "        35.81632653,  37.55102041,  39.28571429,  41.02040816,\n",
       "        42.75510204,  44.48979592,  46.2244898 ,  47.95918367,\n",
       "        49.69387755,  51.42857143,  53.16326531,  54.89795918,\n",
       "        56.63265306,  58.36734694,  60.10204082,  61.83673469,\n",
       "        63.57142857,  65.30612245,  67.04081633,  68.7755102 ,\n",
       "        70.51020408,  72.24489796,  73.97959184,  75.71428571,\n",
       "        77.44897959,  79.18367347,  80.91836735,  82.65306122,\n",
       "        84.3877551 ,  86.12244898,  87.85714286,  89.59183673,\n",
       "        91.32653061,  93.06122449,  94.79591837,  96.53061224,\n",
       "        98.26530612, 100.        ])"
      ]
     },
     "execution_count": 16,
     "metadata": {},
     "output_type": "execute_result"
    }
   ],
   "source": [
    "np.linspace(15,100) #default is 50 output\n"
   ]
  },
  {
   "cell_type": "code",
   "execution_count": 17,
   "id": "622774ae",
   "metadata": {},
   "outputs": [
    {
     "data": {
      "text/plain": [
       "array([ 15.        ,  21.07142857,  27.14285714,  33.21428571,\n",
       "        39.28571429,  45.35714286,  51.42857143,  57.5       ,\n",
       "        63.57142857,  69.64285714,  75.71428571,  81.78571429,\n",
       "        87.85714286,  93.92857143, 100.        ])"
      ]
     },
     "execution_count": 17,
     "metadata": {},
     "output_type": "execute_result"
    }
   ],
   "source": [
    "np.linspace(15,100,15) #default is 50 output, but you can specify. that is the reason for the other 15"
   ]
  },
  {
   "cell_type": "code",
   "execution_count": 18,
   "id": "6d39c38b",
   "metadata": {},
   "outputs": [
    {
     "data": {
      "text/plain": [
       "array([[1., 0., 0., 0., 0.],\n",
       "       [0., 1., 0., 0., 0.],\n",
       "       [0., 0., 1., 0., 0.],\n",
       "       [0., 0., 0., 1., 0.],\n",
       "       [0., 0., 0., 0., 1.]])"
      ]
     },
     "execution_count": 18,
     "metadata": {},
     "output_type": "execute_result"
    }
   ],
   "source": [
    "np.eye(5)"
   ]
  },
  {
   "cell_type": "code",
   "execution_count": 20,
   "id": "c385e283",
   "metadata": {},
   "outputs": [
    {
     "data": {
      "text/plain": [
       "array([  1,   2,   3,   4,   5,   6,   7,   8,   9,  10,  11,  12,  13,\n",
       "        14,  15,  16,  17,  18,  19,  20,  21,  22,  23,  24,  25,  26,\n",
       "        27,  28,  29,  30,  31,  32,  33,  34,  35,  36,  37,  38,  39,\n",
       "        40,  41,  42,  43,  44,  45,  46,  47,  48,  49,  50,  51,  52,\n",
       "        53,  54,  55,  56,  57,  58,  59,  60,  61,  62,  63,  64,  65,\n",
       "        66,  67,  68,  69,  70,  71,  72,  73,  74,  75,  76,  77,  78,\n",
       "        79,  80,  81,  82,  83,  84,  85,  86,  87,  88,  89,  90,  91,\n",
       "        92,  93,  94,  95,  96,  97,  98,  99, 100])"
      ]
     },
     "execution_count": 20,
     "metadata": {},
     "output_type": "execute_result"
    }
   ],
   "source": [
    "arr3 = np.arange(1,101)\n",
    "arr3"
   ]
  },
  {
   "cell_type": "code",
   "execution_count": 21,
   "id": "1a3cdd91",
   "metadata": {},
   "outputs": [
    {
     "data": {
      "text/plain": [
       "array([  1,   4,   7,  10,  13,  16,  19,  22,  25,  28,  31,  34,  37,\n",
       "        40,  43,  46,  49,  52,  55,  58,  61,  64,  67,  70,  73,  76,\n",
       "        79,  82,  85,  88,  91,  94,  97, 100])"
      ]
     },
     "execution_count": 21,
     "metadata": {},
     "output_type": "execute_result"
    }
   ],
   "source": [
    "arr3 = np.arange(1,101,3)\n",
    "arr3"
   ]
  },
  {
   "cell_type": "code",
   "execution_count": 22,
   "id": "43ffb342",
   "metadata": {},
   "outputs": [
    {
     "data": {
      "text/plain": [
       "array([  1,   4,   7,  10,  13,  16,  19,  22,  25,  28,  31,  34,  37,\n",
       "        40,  43,  46,  49,  52,  55,  58,  61,  64,  67,  70,  73,  76,\n",
       "        79,  82,  85,  88,  91,  94,  97, 100])"
      ]
     },
     "execution_count": 22,
     "metadata": {},
     "output_type": "execute_result"
    }
   ],
   "source": [
    "#orrrr\n",
    "arr3 = np.arange(1,101, step=3)\n",
    "arr3"
   ]
  },
  {
   "cell_type": "code",
   "execution_count": 24,
   "id": "ca36ecb4",
   "metadata": {},
   "outputs": [
    {
     "data": {
      "text/plain": [
       "38"
      ]
     },
     "execution_count": 24,
     "metadata": {},
     "output_type": "execute_result"
    }
   ],
   "source": [
    "arr4 = np.random.randint(14,85)\n",
    "arr4"
   ]
  },
  {
   "cell_type": "code",
   "execution_count": 25,
   "id": "6f8c438a",
   "metadata": {},
   "outputs": [
    {
     "data": {
      "text/plain": [
       "array([54, 67, 28, 14, 39, 46, 66, 69, 38, 30, 58, 57, 31, 57, 80, 52, 39,\n",
       "       14, 67, 80, 81, 76, 28, 59, 38, 81, 35, 67, 44, 26, 51, 79, 61, 45,\n",
       "       70, 46, 61, 81, 81, 41, 77, 78, 27, 24, 33, 44, 57, 81, 23, 63, 27,\n",
       "       33, 38, 36, 39, 25, 23, 30, 54, 30, 47, 26, 21, 33, 53, 70, 35, 79,\n",
       "       84, 71, 79, 50, 51, 35, 15, 24, 34, 30, 38, 57, 49, 71, 18, 55, 68,\n",
       "       65, 73, 16, 46, 60, 84, 14, 71, 77, 69, 69, 28, 58, 17, 58])"
      ]
     },
     "execution_count": 25,
     "metadata": {},
     "output_type": "execute_result"
    }
   ],
   "source": [
    "arr4 = np.random.randint(14,85, size = 100)\n",
    "arr4"
   ]
  },
  {
   "cell_type": "code",
   "execution_count": 26,
   "id": "bc322b60",
   "metadata": {},
   "outputs": [
    {
     "data": {
      "text/plain": [
       "array([51, 26, 23, 19, 78, 30, 15, 20, 39, 64, 34, 32, 25, 42, 43, 28, 64,\n",
       "       82, 27, 23, 21, 77, 75, 36, 71, 15, 14, 74, 22, 27, 61, 44, 17, 84,\n",
       "       35, 63, 71, 17, 82, 38, 57, 40, 66, 55, 29, 78, 82, 39, 21, 40, 39,\n",
       "       36, 23, 81, 37, 41, 51, 71, 52, 22, 46, 48, 24, 37, 29, 39, 76, 60,\n",
       "       46, 37, 69, 79, 17, 14, 20, 66, 84, 16, 35, 21, 57, 34, 44, 50, 21,\n",
       "       59, 82, 71, 27, 24, 37, 21, 38, 34, 46, 26, 79, 74, 38, 16])"
      ]
     },
     "execution_count": 26,
     "metadata": {},
     "output_type": "execute_result"
    }
   ],
   "source": [
    "np.random.seed(1)\n",
    "arr4 = np.random.randint(14,85, size =100)\n",
    "arr4"
   ]
  },
  {
   "cell_type": "code",
   "execution_count": 27,
   "id": "68d65988",
   "metadata": {},
   "outputs": [
    {
     "data": {
      "text/plain": [
       "array([[51, 26, 23, 19, 78, 30, 15, 20, 39, 64],\n",
       "       [34, 32, 25, 42, 43, 28, 64, 82, 27, 23],\n",
       "       [21, 77, 75, 36, 71, 15, 14, 74, 22, 27],\n",
       "       [61, 44, 17, 84, 35, 63, 71, 17, 82, 38],\n",
       "       [57, 40, 66, 55, 29, 78, 82, 39, 21, 40],\n",
       "       [39, 36, 23, 81, 37, 41, 51, 71, 52, 22],\n",
       "       [46, 48, 24, 37, 29, 39, 76, 60, 46, 37],\n",
       "       [69, 79, 17, 14, 20, 66, 84, 16, 35, 21],\n",
       "       [57, 34, 44, 50, 21, 59, 82, 71, 27, 24],\n",
       "       [37, 21, 38, 34, 46, 26, 79, 74, 38, 16]])"
      ]
     },
     "execution_count": 27,
     "metadata": {},
     "output_type": "execute_result"
    }
   ],
   "source": [
    "arr4 = arr4.reshape(10,10)\n",
    "arr4"
   ]
  },
  {
   "cell_type": "code",
   "execution_count": 28,
   "id": "092665d4",
   "metadata": {},
   "outputs": [
    {
     "data": {
      "text/plain": [
       "78"
      ]
     },
     "execution_count": 28,
     "metadata": {},
     "output_type": "execute_result"
    }
   ],
   "source": [
    "arr4[4,5] \n",
    "#anytime you have to pick a particular value, you have to go thru the location on the row and on the column"
   ]
  },
  {
   "cell_type": "code",
   "execution_count": 29,
   "id": "a13936fd",
   "metadata": {},
   "outputs": [
    {
     "data": {
      "text/plain": [
       "array([[84, 35, 63, 71],\n",
       "       [55, 29, 78, 82],\n",
       "       [81, 37, 41, 51],\n",
       "       [37, 29, 39, 76],\n",
       "       [14, 20, 66, 84]])"
      ]
     },
     "execution_count": 29,
     "metadata": {},
     "output_type": "execute_result"
    }
   ],
   "source": [
    "#selecting chunk of values, don't forget that the rules of range applies\n",
    "arr4[3:8, 3:7]"
   ]
  },
  {
   "cell_type": "code",
   "execution_count": 31,
   "id": "b0fbf4c5",
   "metadata": {},
   "outputs": [
    {
     "data": {
      "text/plain": [
       "array([[51, 26, 23, 19, 78, 30, 15, 20, 39, 64],\n",
       "       [34, 32, 25, 42, 43, 28, 64, 82, 27, 23],\n",
       "       [21, 77, 75, 36, 71, 15, 14, 74, 22, 27],\n",
       "       [61, 44, 17, 50, 50, 50, 50, 17, 82, 38],\n",
       "       [57, 40, 66, 50, 50, 50, 50, 39, 21, 40],\n",
       "       [39, 36, 23, 50, 50, 50, 50, 71, 52, 22],\n",
       "       [46, 48, 24, 50, 50, 50, 50, 60, 46, 37],\n",
       "       [69, 79, 17, 50, 50, 50, 50, 16, 35, 21],\n",
       "       [57, 34, 44, 50, 21, 59, 82, 71, 27, 24],\n",
       "       [37, 21, 38, 34, 46, 26, 79, 74, 38, 16]])"
      ]
     },
     "execution_count": 31,
     "metadata": {},
     "output_type": "execute_result"
    }
   ],
   "source": [
    "#broadcasting\n",
    "arr4[3:8, 3:7] = 50\n",
    "arr4"
   ]
  },
  {
   "cell_type": "code",
   "execution_count": 32,
   "id": "8ba904b5",
   "metadata": {},
   "outputs": [
    {
     "data": {
      "text/plain": [
       "array([51, 26, 23, 19, 78, 30, 15, 20, 39, 64, 34, 32, 25, 42, 43, 28, 64,\n",
       "       82, 27, 23, 21, 77, 75, 36, 71, 15, 14, 74, 22, 27, 61, 44, 17, 50,\n",
       "       50, 50, 50, 17, 82, 38, 57, 40, 66, 50, 50, 50, 50, 39, 21, 40, 39,\n",
       "       36, 23, 50, 50, 50, 50, 71, 52, 22, 46, 48, 24, 50, 50, 50, 50, 60,\n",
       "       46, 37, 69, 79, 17, 50, 50, 50, 50, 16, 35, 21, 57, 34, 44, 50, 21,\n",
       "       59, 82, 71, 27, 24, 37, 21, 38, 34, 46, 26, 79, 74, 38, 16])"
      ]
     },
     "execution_count": 32,
     "metadata": {},
     "output_type": "execute_result"
    }
   ],
   "source": [
    "arr4 = arr4.flatten()\n",
    "arr4"
   ]
  },
  {
   "cell_type": "code",
   "execution_count": 34,
   "id": "abdcf92c",
   "metadata": {},
   "outputs": [
    {
     "data": {
      "text/plain": [
       "4338"
      ]
     },
     "execution_count": 34,
     "metadata": {},
     "output_type": "execute_result"
    }
   ],
   "source": [
    "np.sum(arr4)"
   ]
  },
  {
   "cell_type": "code",
   "execution_count": 35,
   "id": "840597f9",
   "metadata": {},
   "outputs": [
    {
     "data": {
      "text/plain": [
       "43.38"
      ]
     },
     "execution_count": 35,
     "metadata": {},
     "output_type": "execute_result"
    }
   ],
   "source": [
    "np.mean(arr4)"
   ]
  },
  {
   "cell_type": "code",
   "execution_count": 36,
   "id": "8178d902",
   "metadata": {},
   "outputs": [
    {
     "data": {
      "text/plain": [
       "44.0"
      ]
     },
     "execution_count": 36,
     "metadata": {},
     "output_type": "execute_result"
    }
   ],
   "source": [
    "np.median(arr4)"
   ]
  },
  {
   "cell_type": "code",
   "execution_count": 37,
   "id": "df174be4",
   "metadata": {},
   "outputs": [
    {
     "data": {
      "text/plain": [
       "82"
      ]
     },
     "execution_count": 37,
     "metadata": {},
     "output_type": "execute_result"
    }
   ],
   "source": [
    "np.max(arr4)"
   ]
  },
  {
   "cell_type": "code",
   "execution_count": 38,
   "id": "54077d82",
   "metadata": {},
   "outputs": [
    {
     "data": {
      "text/plain": [
       "14"
      ]
     },
     "execution_count": 38,
     "metadata": {},
     "output_type": "execute_result"
    }
   ],
   "source": [
    "np.min(arr4)"
   ]
  },
  {
   "cell_type": "code",
   "execution_count": 40,
   "id": "ebe59bf2",
   "metadata": {},
   "outputs": [
    {
     "data": {
      "text/plain": [
       "44.0"
      ]
     },
     "execution_count": 40,
     "metadata": {},
     "output_type": "execute_result"
    }
   ],
   "source": [
    "np.percentile(arr4,50)"
   ]
  },
  {
   "cell_type": "code",
   "execution_count": 41,
   "id": "7c04dbfb",
   "metadata": {},
   "outputs": [
    {
     "data": {
      "text/plain": [
       "44.0"
      ]
     },
     "execution_count": 41,
     "metadata": {},
     "output_type": "execute_result"
    }
   ],
   "source": [
    "np.quantile(arr4,0.5)"
   ]
  },
  {
   "cell_type": "code",
   "execution_count": 42,
   "id": "636f24db",
   "metadata": {},
   "outputs": [
    {
     "data": {
      "text/plain": [
       "array([7.14142843, 5.09901951, 4.79583152, 4.35889894, 8.83176087,\n",
       "       5.47722558, 3.87298335, 4.47213595, 6.244998  , 8.        ,\n",
       "       5.83095189, 5.65685425, 5.        , 6.4807407 , 6.55743852,\n",
       "       5.29150262, 8.        , 9.05538514, 5.19615242, 4.79583152,\n",
       "       4.58257569, 8.77496439, 8.66025404, 6.        , 8.42614977,\n",
       "       3.87298335, 3.74165739, 8.60232527, 4.69041576, 5.19615242,\n",
       "       7.81024968, 6.63324958, 4.12310563, 7.07106781, 7.07106781,\n",
       "       7.07106781, 7.07106781, 4.12310563, 9.05538514, 6.164414  ,\n",
       "       7.54983444, 6.32455532, 8.1240384 , 7.07106781, 7.07106781,\n",
       "       7.07106781, 7.07106781, 6.244998  , 4.58257569, 6.32455532,\n",
       "       6.244998  , 6.        , 4.79583152, 7.07106781, 7.07106781,\n",
       "       7.07106781, 7.07106781, 8.42614977, 7.21110255, 4.69041576,\n",
       "       6.78232998, 6.92820323, 4.89897949, 7.07106781, 7.07106781,\n",
       "       7.07106781, 7.07106781, 7.74596669, 6.78232998, 6.08276253,\n",
       "       8.30662386, 8.88819442, 4.12310563, 7.07106781, 7.07106781,\n",
       "       7.07106781, 7.07106781, 4.        , 5.91607978, 4.58257569,\n",
       "       7.54983444, 5.83095189, 6.63324958, 7.07106781, 4.58257569,\n",
       "       7.68114575, 9.05538514, 8.42614977, 5.19615242, 4.89897949,\n",
       "       6.08276253, 4.58257569, 6.164414  , 5.83095189, 6.78232998,\n",
       "       5.09901951, 8.88819442, 8.60232527, 6.164414  , 4.        ])"
      ]
     },
     "execution_count": 42,
     "metadata": {},
     "output_type": "execute_result"
    }
   ],
   "source": [
    "np.sqrt(arr4)"
   ]
  },
  {
   "cell_type": "code",
   "execution_count": 43,
   "id": "278331ec",
   "metadata": {},
   "outputs": [
    {
     "data": {
      "text/plain": [
       "array([ 0.67022918,  0.76255845, -0.8462204 ,  0.14987721,  0.51397846,\n",
       "       -0.98803162,  0.65028784,  0.91294525,  0.96379539,  0.92002604,\n",
       "        0.52908269,  0.55142668, -0.13235175, -0.91652155, -0.83177474,\n",
       "        0.27090579,  0.92002604,  0.31322878,  0.95637593, -0.8462204 ,\n",
       "        0.83665564,  0.99952016, -0.38778164, -0.99177885,  0.95105465,\n",
       "        0.65028784,  0.99060736, -0.98514626, -0.00885131,  0.95637593,\n",
       "       -0.96611777,  0.01770193, -0.96139749, -0.26237485, -0.26237485,\n",
       "       -0.26237485, -0.26237485, -0.96139749,  0.31322878,  0.29636858,\n",
       "        0.43616476,  0.74511316, -0.02655115, -0.26237485, -0.26237485,\n",
       "       -0.26237485, -0.26237485,  0.96379539,  0.83665564,  0.74511316,\n",
       "        0.96379539, -0.99177885, -0.8462204 , -0.26237485, -0.26237485,\n",
       "       -0.26237485, -0.26237485,  0.95105465,  0.98662759, -0.00885131,\n",
       "        0.90178835, -0.76825466, -0.90557836, -0.26237485, -0.26237485,\n",
       "       -0.26237485, -0.26237485, -0.30481062,  0.90178835, -0.64353813,\n",
       "       -0.11478481, -0.44411267, -0.96139749, -0.26237485, -0.26237485,\n",
       "       -0.26237485, -0.26237485, -0.28790332, -0.42818267,  0.83665564,\n",
       "        0.43616476,  0.52908269,  0.01770193, -0.26237485,  0.83665564,\n",
       "        0.63673801,  0.31322878,  0.95105465,  0.95637593, -0.90557836,\n",
       "       -0.64353813,  0.83665564,  0.29636858,  0.52908269,  0.90178835,\n",
       "        0.76255845, -0.44411267, -0.98514626,  0.29636858, -0.28790332])"
      ]
     },
     "execution_count": 43,
     "metadata": {},
     "output_type": "execute_result"
    }
   ],
   "source": [
    "np.sin(arr4)"
   ]
  },
  {
   "cell_type": "code",
   "execution_count": 44,
   "id": "5d3d329a",
   "metadata": {},
   "outputs": [
    {
     "data": {
      "text/plain": [
       "array([ 0.7421542 ,  0.64691932, -0.53283302,  0.98870462, -0.85780309,\n",
       "        0.15425145, -0.75968791,  0.40808206,  0.26664293,  0.39185723,\n",
       "       -0.84857027,  0.83422336,  0.99120281, -0.39998531,  0.5551133 ,\n",
       "       -0.96260587,  0.39185723,  0.9496777 , -0.29213881, -0.53283302,\n",
       "       -0.54772926, -0.03097503,  0.92175127, -0.12796369, -0.30902273,\n",
       "       -0.75968791,  0.13673722,  0.17171734, -0.99996083, -0.29213881,\n",
       "       -0.25810164,  0.99984331, -0.27516334,  0.96496603,  0.96496603,\n",
       "        0.96496603,  0.96496603, -0.27516334,  0.9496777 ,  0.95507364,\n",
       "        0.89986683, -0.66693806, -0.99964746,  0.96496603,  0.96496603,\n",
       "        0.96496603,  0.96496603,  0.26664293, -0.54772926, -0.66693806,\n",
       "        0.26664293, -0.12796369, -0.53283302,  0.96496603,  0.96496603,\n",
       "        0.96496603,  0.96496603, -0.30902273, -0.16299078, -0.99996083,\n",
       "       -0.43217794, -0.64014434,  0.42417901,  0.96496603,  0.96496603,\n",
       "        0.96496603,  0.96496603, -0.95241298, -0.43217794,  0.76541405,\n",
       "        0.99339038, -0.89597095, -0.27516334,  0.96496603,  0.96496603,\n",
       "        0.96496603,  0.96496603, -0.95765948, -0.90369221, -0.54772926,\n",
       "        0.89986683, -0.84857027,  0.99984331,  0.96496603, -0.54772926,\n",
       "       -0.77108022,  0.9496777 , -0.30902273, -0.29213881,  0.42417901,\n",
       "        0.76541405, -0.54772926,  0.95507364, -0.84857027, -0.43217794,\n",
       "        0.64691932, -0.89597095,  0.17171734,  0.95507364, -0.95765948])"
      ]
     },
     "execution_count": 44,
     "metadata": {},
     "output_type": "execute_result"
    }
   ],
   "source": [
    "np.cos(arr4)"
   ]
  },
  {
   "cell_type": "code",
   "execution_count": 45,
   "id": "8719f775",
   "metadata": {},
   "outputs": [
    {
     "data": {
      "text/plain": [
       "array([ 9.03086149e-01,  1.17875355e+00,  1.58815308e+00,  1.51589471e-01,\n",
       "       -5.99179998e-01, -6.40533120e+00, -8.55993401e-01,  2.23716094e+00,\n",
       "        3.61455441e+00,  2.34786031e+00, -6.23498963e-01,  6.61006041e-01,\n",
       "       -1.33526407e-01,  2.29138799e+00, -1.49838734e+00, -2.81429605e-01,\n",
       "        2.34786031e+00,  3.29826407e-01, -3.27370380e+00,  1.58815308e+00,\n",
       "       -1.52749853e+00, -3.22685758e+01, -4.20700951e-01,  7.75047091e+00,\n",
       "       -3.07762040e+00, -8.55993401e-01,  7.24460662e+00, -5.73702254e+00,\n",
       "        8.85165604e-03, -3.27370380e+00,  3.74316794e+00,  1.77046993e-02,\n",
       "        3.49391565e+00, -2.71900612e-01, -2.71900612e-01, -2.71900612e-01,\n",
       "       -2.71900612e-01,  3.49391565e+00,  3.29826407e-01,  3.10309661e-01,\n",
       "        4.84699227e-01, -1.11721493e+00,  2.65605178e-02, -2.71900612e-01,\n",
       "       -2.71900612e-01, -2.71900612e-01, -2.71900612e-01,  3.61455441e+00,\n",
       "       -1.52749853e+00, -1.11721493e+00,  3.61455441e+00,  7.75047091e+00,\n",
       "        1.58815308e+00, -2.71900612e-01, -2.71900612e-01, -2.71900612e-01,\n",
       "       -2.71900612e-01, -3.07762040e+00, -6.05327238e+00,  8.85165604e-03,\n",
       "       -2.08661353e+00,  1.20012724e+00, -2.13489670e+00, -2.71900612e-01,\n",
       "       -2.71900612e-01, -2.71900612e-01, -2.71900612e-01,  3.20040389e-01,\n",
       "       -2.08661353e+00, -8.40771255e-01, -1.15548546e-01,  4.95677533e-01,\n",
       "        3.49391565e+00, -2.71900612e-01, -2.71900612e-01, -2.71900612e-01,\n",
       "       -2.71900612e-01,  3.00632242e-01,  4.73814720e-01, -1.52749853e+00,\n",
       "        4.84699227e-01, -6.23498963e-01,  1.77046993e-02, -2.71900612e-01,\n",
       "       -1.52749853e+00, -8.25774009e-01,  3.29826407e-01, -3.07762040e+00,\n",
       "       -3.27370380e+00, -2.13489670e+00, -8.40771255e-01, -1.52749853e+00,\n",
       "        3.10309661e-01, -6.23498963e-01, -2.08661353e+00,  1.17875355e+00,\n",
       "        4.95677533e-01, -5.73702254e+00,  3.10309661e-01,  3.00632242e-01])"
      ]
     },
     "execution_count": 45,
     "metadata": {},
     "output_type": "execute_result"
    }
   ],
   "source": [
    "np.tan(arr4)"
   ]
  },
  {
   "cell_type": "code",
   "execution_count": 46,
   "id": "9d0002f0",
   "metadata": {},
   "outputs": [
    {
     "data": {
      "text/plain": [
       "array([3.93182563, 3.25809654, 3.13549422, 2.94443898, 4.35670883,\n",
       "       3.40119738, 2.7080502 , 2.99573227, 3.66356165, 4.15888308,\n",
       "       3.52636052, 3.4657359 , 3.21887582, 3.73766962, 3.76120012,\n",
       "       3.33220451, 4.15888308, 4.40671925, 3.29583687, 3.13549422,\n",
       "       3.04452244, 4.34380542, 4.31748811, 3.58351894, 4.26267988,\n",
       "       2.7080502 , 2.63905733, 4.30406509, 3.09104245, 3.29583687,\n",
       "       4.11087386, 3.78418963, 2.83321334, 3.91202301, 3.91202301,\n",
       "       3.91202301, 3.91202301, 2.83321334, 4.40671925, 3.63758616,\n",
       "       4.04305127, 3.68887945, 4.18965474, 3.91202301, 3.91202301,\n",
       "       3.91202301, 3.91202301, 3.66356165, 3.04452244, 3.68887945,\n",
       "       3.66356165, 3.58351894, 3.13549422, 3.91202301, 3.91202301,\n",
       "       3.91202301, 3.91202301, 4.26267988, 3.95124372, 3.09104245,\n",
       "       3.8286414 , 3.87120101, 3.17805383, 3.91202301, 3.91202301,\n",
       "       3.91202301, 3.91202301, 4.09434456, 3.8286414 , 3.61091791,\n",
       "       4.2341065 , 4.36944785, 2.83321334, 3.91202301, 3.91202301,\n",
       "       3.91202301, 3.91202301, 2.77258872, 3.55534806, 3.04452244,\n",
       "       4.04305127, 3.52636052, 3.78418963, 3.91202301, 3.04452244,\n",
       "       4.07753744, 4.40671925, 4.26267988, 3.29583687, 3.17805383,\n",
       "       3.61091791, 3.04452244, 3.63758616, 3.52636052, 3.8286414 ,\n",
       "       3.25809654, 4.36944785, 4.30406509, 3.63758616, 2.77258872])"
      ]
     },
     "execution_count": 46,
     "metadata": {},
     "output_type": "execute_result"
    }
   ],
   "source": [
    "np.log(arr4)"
   ]
  },
  {
   "cell_type": "code",
   "execution_count": 47,
   "id": "bd0d8b20",
   "metadata": {},
   "outputs": [
    {
     "data": {
      "text/plain": [
       "344.23560000000003"
      ]
     },
     "execution_count": 47,
     "metadata": {},
     "output_type": "execute_result"
    }
   ],
   "source": [
    "np.var(arr4)"
   ]
  },
  {
   "cell_type": "code",
   "execution_count": 48,
   "id": "db529c2d",
   "metadata": {},
   "outputs": [
    {
     "data": {
      "text/plain": [
       "18.553587254221217"
      ]
     },
     "execution_count": 48,
     "metadata": {},
     "output_type": "execute_result"
    }
   ],
   "source": [
    "np.std(arr4)"
   ]
  },
  {
   "cell_type": "code",
   "execution_count": 49,
   "id": "b7572092",
   "metadata": {},
   "outputs": [
    {
     "data": {
      "text/plain": [
       "array([51., 26., 23., 19., 78., 30., 15., 20., 39., 64., 34., 32., 25.,\n",
       "       42., 43., 28., 64., 82., 27., 23., 21., 77., 75., 36., 71., 15.,\n",
       "       14., 74., 22., 27., 61., 44., 17., 50., 50., 50., 50., 17., 82.,\n",
       "       38., 57., 40., 66., 50., 50., 50., 50., 39., 21., 40., 39., 36.,\n",
       "       23., 50., 50., 50., 50., 71., 52., 22., 46., 48., 24., 50., 50.,\n",
       "       50., 50., 60., 46., 37., 69., 79., 17., 50., 50., 50., 50., 16.,\n",
       "       35., 21., 57., 34., 44., 50., 21., 59., 82., 71., 27., 24., 37.,\n",
       "       21., 38., 34., 46., 26., 79., 74., 38., 16.])"
      ]
     },
     "execution_count": 49,
     "metadata": {},
     "output_type": "execute_result"
    }
   ],
   "source": [
    "np.floor(arr4)"
   ]
  },
  {
   "cell_type": "code",
   "execution_count": 50,
   "id": "73eed7e0",
   "metadata": {},
   "outputs": [
    {
     "data": {
      "text/plain": [
       "array([59, 43, 54, 49, 25, 69, 47, 56, 33, 37, 21, 17, 22, 54, 63, 69, 30,\n",
       "       20, 32, 57, 35, 69, 63, 37, 52, 28, 64, 65, 48, 68, 35, 25, 47, 70,\n",
       "       71, 40, 36, 54, 47, 72, 34, 40, 64, 29, 28, 35, 67, 58, 21, 28, 71,\n",
       "       74, 30, 39, 74, 24, 17, 22, 68, 20, 51, 52, 71, 36, 55, 28, 42, 64,\n",
       "       64, 62, 28, 55, 29, 60, 38, 31, 43, 57, 60, 18, 67, 17, 29, 61, 15,\n",
       "       44, 26, 50, 68, 44, 48, 17, 35, 34, 63, 69, 47, 43, 70, 33, 46, 43,\n",
       "       45, 25, 23, 60, 50, 47, 23, 35, 28, 65, 30, 56, 15, 59, 34, 39, 64,\n",
       "       57, 35, 59, 30, 45, 42, 29, 66, 34, 74, 41, 58, 37, 22, 50, 68, 62,\n",
       "       61, 66, 49, 51, 51, 47, 34, 18, 39, 34, 52, 45, 53, 62])"
      ]
     },
     "execution_count": 50,
     "metadata": {},
     "output_type": "execute_result"
    }
   ],
   "source": [
    "#EXERCISE\n",
    "arr5 = np.random.randint(15,75, size = 150)\n",
    "arr5"
   ]
  },
  {
   "cell_type": "code",
   "execution_count": 52,
   "id": "1cc3550f",
   "metadata": {},
   "outputs": [
    {
     "data": {
      "text/plain": [
       "array([[59, 43, 54, 49, 25, 69, 47, 56, 33, 37],\n",
       "       [21, 17, 22, 54, 63, 69, 30, 20, 32, 57],\n",
       "       [35, 69, 63, 37, 52, 28, 64, 65, 48, 68],\n",
       "       [35, 25, 47, 70, 71, 40, 36, 54, 47, 72],\n",
       "       [34, 40, 64, 29, 28, 35, 67, 58, 21, 28],\n",
       "       [71, 74, 30, 39, 74, 24, 17, 22, 68, 20],\n",
       "       [51, 52, 71, 36, 55, 28, 42, 64, 64, 62],\n",
       "       [28, 55, 29, 60, 38, 31, 43, 57, 60, 18],\n",
       "       [67, 17, 29, 61, 15, 44, 26, 50, 68, 44],\n",
       "       [48, 17, 35, 34, 63, 69, 47, 43, 70, 33],\n",
       "       [46, 43, 45, 25, 23, 60, 50, 47, 23, 35],\n",
       "       [28, 65, 30, 56, 15, 59, 34, 39, 64, 57],\n",
       "       [35, 59, 30, 45, 42, 29, 66, 34, 74, 41],\n",
       "       [58, 37, 22, 50, 68, 62, 61, 66, 49, 51],\n",
       "       [51, 47, 34, 18, 39, 34, 52, 45, 53, 62]])"
      ]
     },
     "execution_count": 52,
     "metadata": {},
     "output_type": "execute_result"
    }
   ],
   "source": [
    "arr5 = arr5.reshape(15, 10)\n",
    "arr5"
   ]
  },
  {
   "cell_type": "code",
   "execution_count": 55,
   "id": "99fe9efa",
   "metadata": {},
   "outputs": [
    {
     "data": {
      "text/plain": [
       "array([[74, 24, 17, 22, 68],\n",
       "       [55, 28, 42, 64, 64],\n",
       "       [38, 31, 43, 57, 60],\n",
       "       [15, 44, 26, 50, 68]])"
      ]
     },
     "execution_count": 55,
     "metadata": {},
     "output_type": "execute_result"
    }
   ],
   "source": [
    "arr5[5:9, 4:9] "
   ]
  },
  {
   "cell_type": "code",
   "execution_count": 57,
   "id": "60bab547",
   "metadata": {},
   "outputs": [
    {
     "data": {
      "text/plain": [
       "array([[59, 43, 54, 49, 25, 69, 47, 56, 33, 37],\n",
       "       [21, 17, 22, 54, 63, 69, 30, 20, 32, 57],\n",
       "       [35, 69, 63, 37, 52, 28, 64, 65, 48, 68],\n",
       "       [35, 25, 47, 70, 71, 40, 36, 54, 47, 72],\n",
       "       [34, 40, 64, 29, 28, 35, 67, 58, 21, 28],\n",
       "       [71, 74, 30, 39, 45, 45, 45, 45, 45, 20],\n",
       "       [51, 52, 71, 36, 45, 45, 45, 45, 45, 62],\n",
       "       [28, 55, 29, 60, 45, 45, 45, 45, 45, 18],\n",
       "       [67, 17, 29, 61, 45, 45, 45, 45, 45, 44],\n",
       "       [48, 17, 35, 34, 63, 69, 47, 43, 70, 33],\n",
       "       [46, 43, 45, 25, 23, 60, 50, 47, 23, 35],\n",
       "       [28, 65, 30, 56, 15, 59, 34, 39, 64, 57],\n",
       "       [35, 59, 30, 45, 42, 29, 66, 34, 74, 41],\n",
       "       [58, 37, 22, 50, 68, 62, 61, 66, 49, 51],\n",
       "       [51, 47, 34, 18, 39, 34, 52, 45, 53, 62]])"
      ]
     },
     "execution_count": 57,
     "metadata": {},
     "output_type": "execute_result"
    }
   ],
   "source": [
    "arr5[5:9, 4:9] = 45\n",
    "arr5"
   ]
  },
  {
   "cell_type": "code",
   "execution_count": 58,
   "id": "378a41f4",
   "metadata": {},
   "outputs": [
    {
     "data": {
      "text/plain": [
       "6818"
      ]
     },
     "execution_count": 58,
     "metadata": {},
     "output_type": "execute_result"
    }
   ],
   "source": [
    "np.sum(arr5)"
   ]
  },
  {
   "cell_type": "code",
   "execution_count": 59,
   "id": "f62f36d8",
   "metadata": {},
   "outputs": [
    {
     "data": {
      "text/plain": [
       "45.45333333333333"
      ]
     },
     "execution_count": 59,
     "metadata": {},
     "output_type": "execute_result"
    }
   ],
   "source": [
    "np.mean(arr5)"
   ]
  },
  {
   "cell_type": "code",
   "execution_count": 60,
   "id": "e2a3bbce",
   "metadata": {},
   "outputs": [
    {
     "data": {
      "text/plain": [
       "45.0"
      ]
     },
     "execution_count": 60,
     "metadata": {},
     "output_type": "execute_result"
    }
   ],
   "source": [
    "np.median(arr5)"
   ]
  },
  {
   "cell_type": "code",
   "execution_count": 61,
   "id": "171cb732",
   "metadata": {},
   "outputs": [
    {
     "data": {
      "text/plain": [
       "51"
      ]
     },
     "execution_count": 61,
     "metadata": {},
     "output_type": "execute_result"
    }
   ],
   "source": [
    "np.argmax(arr5) #location of the max value"
   ]
  },
  {
   "cell_type": "code",
   "execution_count": 62,
   "id": "6f0c8dcf",
   "metadata": {},
   "outputs": [
    {
     "data": {
      "text/plain": [
       "114"
      ]
     },
     "execution_count": 62,
     "metadata": {},
     "output_type": "execute_result"
    }
   ],
   "source": [
    "np.argmin(arr5) #location of the min value"
   ]
  },
  {
   "cell_type": "code",
   "execution_count": 63,
   "id": "d2970716",
   "metadata": {},
   "outputs": [
    {
     "data": {
      "text/plain": [
       "34.0"
      ]
     },
     "execution_count": 63,
     "metadata": {},
     "output_type": "execute_result"
    }
   ],
   "source": [
    "np.percentile(arr5, 25)"
   ]
  },
  {
   "cell_type": "code",
   "execution_count": 64,
   "id": "5343905c",
   "metadata": {},
   "outputs": [
    {
     "data": {
      "text/plain": [
       "45.0"
      ]
     },
     "execution_count": 64,
     "metadata": {},
     "output_type": "execute_result"
    }
   ],
   "source": [
    "np.percentile(arr5, 50)"
   ]
  },
  {
   "cell_type": "code",
   "execution_count": 65,
   "id": "9133b367",
   "metadata": {},
   "outputs": [
    {
     "data": {
      "text/plain": [
       "15.01935935902579"
      ]
     },
     "execution_count": 65,
     "metadata": {},
     "output_type": "execute_result"
    }
   ],
   "source": [
    "np.std(arr5)"
   ]
  },
  {
   "cell_type": "code",
   "execution_count": 66,
   "id": "bf72fa23",
   "metadata": {},
   "outputs": [
    {
     "data": {
      "text/plain": [
       "225.5811555555556"
      ]
     },
     "execution_count": 66,
     "metadata": {},
     "output_type": "execute_result"
    }
   ],
   "source": [
    "np.var(arr5)"
   ]
  },
  {
   "cell_type": "code",
   "execution_count": null,
   "id": "2e4c2d75",
   "metadata": {},
   "outputs": [],
   "source": []
  }
 ],
 "metadata": {
  "kernelspec": {
   "display_name": "Python 3 (ipykernel)",
   "language": "python",
   "name": "python3"
  },
  "language_info": {
   "codemirror_mode": {
    "name": "ipython",
    "version": 3
   },
   "file_extension": ".py",
   "mimetype": "text/x-python",
   "name": "python",
   "nbconvert_exporter": "python",
   "pygments_lexer": "ipython3",
   "version": "3.9.12"
  }
 },
 "nbformat": 4,
 "nbformat_minor": 5
}
