{
 "cells": [
  {
   "cell_type": "code",
   "execution_count": 1,
   "id": "f707d25a",
   "metadata": {},
   "outputs": [],
   "source": [
    "class simulation1:\n",
    "    def __init__(self, brand, model, colour, year, speed):\n",
    "        self.brand = brand\n",
    "        self.model = model\n",
    "        self.colour = colour\n",
    "        self.year = year\n",
    "        self.speed = speed\n",
    "    def start(self):\n",
    "        start = input(f'{self.brand} {self.model} starting number')\n",
    "        print (f'{self.brand} {self.model} starting')\n",
    "    def gear(self):\n",
    "        option = input('enter gear option')\n",
    "        if option == '1':\n",
    "            print('gear chnage to 1')\n",
    "        elif option =='2':\n",
    "            print ('gear change to 2')\n",
    "        elif option =='3':\n",
    "            print ('gear change to 3')\n",
    "        elif option =='R':\n",
    "            print (f'{self.brand} {self.model} is on reverse')\n",
    "bike1 = simulation1('yamaha', 'gl3000', 'black', 2007, 560)"
   ]
  },
  {
   "cell_type": "code",
   "execution_count": 2,
   "id": "874e5d50",
   "metadata": {},
   "outputs": [
    {
     "name": "stdout",
     "output_type": "stream",
     "text": [
      "yamaha gl3000 starting number0\n",
      "yamaha gl3000 starting\n"
     ]
    }
   ],
   "source": [
    "bike1.start()"
   ]
  },
  {
   "cell_type": "code",
   "execution_count": 3,
   "id": "501542e2",
   "metadata": {},
   "outputs": [
    {
     "name": "stdout",
     "output_type": "stream",
     "text": [
      "enter gear option3\n",
      "gear change to 3\n"
     ]
    }
   ],
   "source": [
    "bike1.gear()"
   ]
  },
  {
   "cell_type": "code",
   "execution_count": 4,
   "id": "e83cf5d8",
   "metadata": {},
   "outputs": [],
   "source": [
    "class simulation2(simulation1):\n",
    "    def acceleration(self,accelerate):\n",
    "        acceleration = input('enter km')\n",
    "        if acceleration <= '3000':\n",
    "            print('new speed level')\n",
    "        elif milage >= '5000':\n",
    "            print ('high speed')\n",
    "bike2 = simulation2('yamaha', 'gl3000', 'black', 2007, 560)"
   ]
  },
  {
   "cell_type": "code",
   "execution_count": 6,
   "id": "503b185a",
   "metadata": {},
   "outputs": [
    {
     "name": "stdout",
     "output_type": "stream",
     "text": [
      "enter km3000\n",
      "new speed level\n"
     ]
    }
   ],
   "source": [
    "bike2.acceleration(50)"
   ]
  },
  {
   "cell_type": "code",
   "execution_count": null,
   "id": "15961a53",
   "metadata": {},
   "outputs": [],
   "source": []
  }
 ],
 "metadata": {
  "kernelspec": {
   "display_name": "Python 3 (ipykernel)",
   "language": "python",
   "name": "python3"
  },
  "language_info": {
   "codemirror_mode": {
    "name": "ipython",
    "version": 3
   },
   "file_extension": ".py",
   "mimetype": "text/x-python",
   "name": "python",
   "nbconvert_exporter": "python",
   "pygments_lexer": "ipython3",
   "version": "3.9.12"
  }
 },
 "nbformat": 4,
 "nbformat_minor": 5
}
