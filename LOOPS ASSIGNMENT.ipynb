{
 "cells": [
  {
   "cell_type": "code",
   "execution_count": 4,
   "id": "d33f8a50",
   "metadata": {
    "scrolled": true
   },
   "outputs": [
    {
     "name": "stdout",
     "output_type": "stream",
     "text": [
      "please enter customer's namealice\n",
      "customer checkout list  \n",
      "name:alice\n",
      "EGGS:950\n",
      "BREAD:820\n",
      "BISCUITS:750\n",
      "WATER:780\n",
      "TOTAL BILL: 3300\n",
      "\n",
      "customer checkout list  \n",
      "name:bob\n",
      "EGGS:800\n",
      "BREAD:770\n",
      "BISCUITS:850\n",
      "WATER:850\n",
      "TOTAL BILL: 3270\n",
      "\n",
      "customer checkout list  \n",
      "name:mary\n",
      "EGGS:750\n",
      "BREAD:920\n",
      "BISCUITS:700\n",
      "WATER:600\n",
      "TOTAL BILL: 2970\n",
      "\n",
      "customer checkout list  \n",
      "name:hope\n",
      "EGGS:790\n",
      "BREAD:520\n",
      "BISCUITS:760\n",
      "WATER:550\n",
      "TOTAL BILL: 2620\n",
      "\n",
      "customer checkout list  \n",
      "name:samuel\n",
      "EGGS:900\n",
      "BREAD:620\n",
      "BISCUITS:750\n",
      "WATER:900\n",
      "TOTAL BILL: 3170\n",
      "\n"
     ]
    }
   ],
   "source": [
    "customers = ['alice', 'bob', 'mary', 'hope', 'samuel']\n",
    "price = {\n",
    "    'alice':{'eggs': 950, 'bread': 820, 'biscuits': 750, 'water':780}, \n",
    "    'bob':{'eggs': 800, 'bread': 770, 'biscuits': 850, 'water':850}, \n",
    "    'mary':{'eggs': 750, 'bread': 920, 'biscuits': 700, 'water':600}, \n",
    "    'hope':{'eggs': 790, 'bread': 520, 'biscuits': 760, 'water':550}, \n",
    "    'samuel':{'eggs': 900, 'bread': 620, 'biscuits': 750, 'water':900}, \n",
    "}\n",
    "customers_name = input('please enter customer\\'s name')\n",
    "for customer in customers:\n",
    "    print(f'''customer checkout list  \n",
    "name:{customer}\n",
    "EGGS:{price[customer]['eggs']}\n",
    "BREAD:{price[customer]['bread']}\n",
    "BISCUITS:{price[customer]['biscuits']}\n",
    "WATER:{price[customer]['water']}\n",
    "TOTAL BILL: {price[customer]['eggs']+price[customer]['bread']+price[customer]['biscuits']+price[customer]['water']}\n",
    "''')"
   ]
  },
  {
   "cell_type": "code",
   "execution_count": 6,
   "id": "7218966b",
   "metadata": {},
   "outputs": [
    {
     "name": "stdout",
     "output_type": "stream",
     "text": [
      "please enter customer's namebob\n",
      "_____customer checkout list____\n",
      "name:bob\n",
      "EGGS:800\n",
      "BREAD:770\n",
      "BISCUITS:850\n",
      "WATER:850\n",
      "TOTAL BILL: 3270\n",
      "\n"
     ]
    }
   ],
   "source": [
    "customers = ['alice', 'bob', 'mary', 'hope', 'samuel']\n",
    "price = {\n",
    "    'alice':{'eggs': 950, 'bread': 820, 'biscuits': 750, 'water':780}, \n",
    "    'bob':{'eggs': 800, 'bread': 770, 'biscuits': 850, 'water':850}, \n",
    "    'mary':{'eggs': 750, 'bread': 920, 'biscuits': 700, 'water':600}, \n",
    "    'hope':{'eggs': 790, 'bread': 520, 'biscuits': 760, 'water':550}, \n",
    "    'samuel':{'eggs': 900, 'bread': 620, 'biscuits': 750, 'water':900}, \n",
    "}\n",
    "customers_name = input('please enter customer\\'s name')\n",
    "for customer in customers:\n",
    "    if customer ==customers_name:\n",
    "        print(f'''_____customer checkout list____\n",
    "name:{customer}\n",
    "EGGS:{price[customer]['eggs']}\n",
    "BREAD:{price[customer]['bread']}\n",
    "BISCUITS:{price[customer]['biscuits']}\n",
    "WATER:{price[customer]['water']}\n",
    "TOTAL BILL: {price[customer]['eggs']+price[customer]['bread']+price[customer]['biscuits']+price[customer]['water']}\n",
    "''')"
   ]
  },
  {
   "cell_type": "code",
   "execution_count": 5,
   "id": "ae7d0ef8",
   "metadata": {},
   "outputs": [
    {
     "name": "stdout",
     "output_type": "stream",
     "text": [
      "please enter customer's namealice\n",
      "customer checkout list  \n",
      "name:alice\n",
      "EGGS:950\n",
      "BREAD:820\n",
      "BISCUITS:750\n",
      "WATER:780\n",
      "TOTAL BILL: 3300\n",
      "\n"
     ]
    }
   ],
   "source": [
    "customers = ['alice']\n",
    "price = {\n",
    "    'alice':{'eggs': 950, 'bread': 820, 'biscuits': 750, 'water':780},   \n",
    "}\n",
    "customers_name = input('please enter customer\\'s name')\n",
    "for customer in customers:\n",
    "    if customer ==customers_name:\n",
    "        print(f'''customer checkout list  \n",
    "name:{customer}\n",
    "EGGS:{price[customer]['eggs']}\n",
    "BREAD:{price[customer]['bread']}\n",
    "BISCUITS:{price[customer]['biscuits']}\n",
    "WATER:{price[customer]['water']}\n",
    "TOTAL BILL: {price[customer]['eggs']+price[customer]['bread']+price[customer]['biscuits']+price[customer]['water']}\n",
    "''')"
   ]
  },
  {
   "cell_type": "code",
   "execution_count": 2,
   "id": "022eef6a",
   "metadata": {},
   "outputs": [
    {
     "name": "stdout",
     "output_type": "stream",
     "text": [
      "please enter user's namealice\n",
      "please input action numberaction1\n",
      "Dear user, you are being recommended to make more connections on our app\n"
     ]
    }
   ],
   "source": [
    "users = ['alice','bob', 'mary','samuel']\n",
    "action = {\n",
    "          'action1':{'active user', 'high engagement','product management'},\n",
    "          'action2': {'active user', 'high engagement'},\n",
    "          'action3': {'active user,' 'uncensored words','high engagement'},\n",
    "          'action4': {'uncensored words', 'violent posts' 'high engagement'},    \n",
    "}\n",
    "users_name = input ('please enter user\\'s name')\n",
    "action_type = input('please input action number')\n",
    "for user in users:\n",
    "    if user == users_name and action_type =='action1':\n",
    "        print ('Dear user, you are being recommended to make more connections on our app')\n",
    "        break\n",
    "    elif user == users_name and action_type =='action2':\n",
    "        print ('Dear user, you are being recommended to make more connections on our app')\n",
    "        break\n",
    "    elif user == users_name and action_type == 'action3':\n",
    "        print ('Dear user, your account is being flagged for suspicious activities')\n",
    "        break\n",
    "    elif user == users_name and action_type=='action4':\n",
    "        print ('Dear user, your account is being flagged for suspicious activities')\n",
    "        break\n",
    "\n",
    "#why dis it iterate every single condition? #correction: use break after every condidtion if you dont want it to keep repeating\n"
   ]
  },
  {
   "cell_type": "markdown",
   "id": "dced0c73",
   "metadata": {},
   "source": [
    "#WHILE LOOP"
   ]
  },
  {
   "cell_type": "code",
   "execution_count": 7,
   "id": "186baaa4",
   "metadata": {},
   "outputs": [
    {
     "name": "stdout",
     "output_type": "stream",
     "text": [
      "enter the correct answer: \n",
      "                             '5*20=35\n",
      "wrong answer, try again\n",
      "enter the correct answer: \n",
      "                             '5*20=120\n",
      "wrong answer, try again\n",
      "enter the correct answer: \n",
      "                             '5*20=60\n",
      "wrong answer, try again\n",
      "enter the correct answer: \n",
      "                             '5*20=45\n",
      "wrong answer, try again\n",
      "sorry, you have exhausted your options\n"
     ]
    }
   ],
   "source": [
    "answer = 100\n",
    "counter = 1 \n",
    "limit = 5\n",
    "while counter < limit:\n",
    "    final_answer = int(input('''enter the correct answer: \n",
    "                             '5*20='''))\n",
    "    counter = counter + 1\n",
    "    if final_answer == answer:\n",
    "        print('correct answer')\n",
    "    elif final_answer < answer:\n",
    "        print('wrong answer, try again')\n",
    "    elif final_answer > answer:\n",
    "        print('wrong answer, try again')\n",
    "        \n",
    "else:\n",
    "    print('sorry, you have exhausted your options')\n",
    "#why did it iterate only 4 times, i thought the limit was 5? #correction: put the counter to 0 if you want it to run all the 5 times"
   ]
  },
  {
   "cell_type": "code",
   "execution_count": 12,
   "id": "75376c2a",
   "metadata": {},
   "outputs": [
    {
     "name": "stdout",
     "output_type": "stream",
     "text": [
      "enter state of the room:untidy\n",
      "enter state of the room:clean room\n",
      "room is ready for guest arrival\n",
      "room is not ready for guest arrival\n"
     ]
    }
   ],
   "source": [
    "condition = 'clean room'\n",
    "counter = 1\n",
    "limit = 3\n",
    "while counter < limit:\n",
    "    task = input('enter state of the room:')\n",
    "    counter = counter + 1\n",
    "    if task == condition:\n",
    "        print('room is ready for guest arrival')   \n"
   ]
  },
  {
   "cell_type": "code",
   "execution_count": 10,
   "id": "d210ac9a",
   "metadata": {},
   "outputs": [
    {
     "name": "stdout",
     "output_type": "stream",
     "text": [
      "enter state of the room:clean room\n",
      "room is ready for guest arrival\n"
     ]
    }
   ],
   "source": [
    "condition = 'clean room'\n",
    "counter = 1\n",
    "limit = 2\n",
    "while counter < limit:\n",
    "    task = input('enter state of the room:')\n",
    "    counter = counter + 1\n",
    "    if task == condition:\n",
    "        print('room is ready for guest arrival')\n",
    "    elif  task != condition:\n",
    "        print('room is not ready for guest arrival')\n"
   ]
  },
  {
   "cell_type": "code",
   "execution_count": 13,
   "id": "41d314b4",
   "metadata": {},
   "outputs": [
    {
     "name": "stdout",
     "output_type": "stream",
     "text": [
      "enter state of the room:untidy\n",
      "room is not ready for guest arrival\n"
     ]
    }
   ],
   "source": [
    "condition = 'clean room'\n",
    "counter = 1\n",
    "limit = 2\n",
    "while counter < limit:\n",
    "    task = input('enter state of the room:')\n",
    "    counter = counter + 1\n",
    "    if task == condition:\n",
    "        print('room is ready for guest arrival')\n",
    "    elif  task != condition:\n",
    "        print('room is not ready for guest arrival')\n"
   ]
  },
  {
   "cell_type": "code",
   "execution_count": null,
   "id": "4ae15ee9",
   "metadata": {},
   "outputs": [],
   "source": []
  }
 ],
 "metadata": {
  "kernelspec": {
   "display_name": "Python 3 (ipykernel)",
   "language": "python",
   "name": "python3"
  },
  "language_info": {
   "codemirror_mode": {
    "name": "ipython",
    "version": 3
   },
   "file_extension": ".py",
   "mimetype": "text/x-python",
   "name": "python",
   "nbconvert_exporter": "python",
   "pygments_lexer": "ipython3",
   "version": "3.9.12"
  }
 },
 "nbformat": 4,
 "nbformat_minor": 5
}
