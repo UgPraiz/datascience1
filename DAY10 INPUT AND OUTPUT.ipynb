{
 "cells": [
  {
   "cell_type": "code",
   "execution_count": 5,
   "id": "64147680",
   "metadata": {},
   "outputs": [
    {
     "name": "stdout",
     "output_type": "stream",
     "text": [
      "enter staff ID:JT002\n",
      "STAFF POSTING\n",
      "name:Precious\n",
      "dob:23/04/1995\n",
      "address:Gwarimpa\n",
      "phone no:2345986865\n",
      "email address:precious@gmail.com\n",
      "CONGRATULATIONS, YOU HAVE BEEN POSTED TO:'Osun\n"
     ]
    }
   ],
   "source": [
    "def JTECH (): \n",
    "    import random \n",
    "    staffrecords ={'JT001':{'staff name': 'Ayo','DOB': '23/03/1999','Address': 'Kubwa','Phone_no': '23456234865',\n",
    "                                'email':'ayo@gmail.com'},\n",
    "                       'JT002':{'staff name': 'Precious','DOB': '23/04/1995','Address': 'Gwarimpa','Phone_no': '2345986865',\n",
    "                               'email':'precious@gmail.com'},\n",
    "                       'JT003':{'staff name': 'Ada','DOB': '23/04/1995','Address': 'Wuse','Phone_no': '2345981235',\n",
    "                               'email':'ada@gmail.com'},\n",
    "                       'JT004':{'staff name': 'Samuel','DOB': '23/04/1995','Address': 'Gwarimpa','Phone_no': '2345986865',\n",
    "                               'email':'sam@gmail.com'},\n",
    "                       'JT005':{'staff name': 'Davis','DOB': '23/04/1995','Address': 'Gwarimpa','Phone_no': '2345986865',\n",
    "                               'email':'davis@gmail.com'}}\n",
    "    branch_location =['Abia','Kaduna','Kano','Delta','Gombe','Akwa-Ibom','Oyo','Osun','Kwara']\n",
    "    staff_ID = input('enter staff ID:')\n",
    "    for key in staffrecords:\n",
    "        if staff_ID == key:\n",
    "            print (f'''STAFF POSTING\n",
    "name:{staffrecords[key]['staff name']}\n",
    "dob:{staffrecords[key]['DOB']}\n",
    "address:{staffrecords[key]['Address']}\n",
    "phone no:{staffrecords[key]['Phone_no']}\n",
    "email address:{staffrecords[key]['email']}\n",
    "CONGRATULATIONS, YOU HAVE BEEN POSTED TO:'{random.choice(branch_location)}''')\n",
    "            break\n",
    "JTECH() \n",
    "    "
   ]
  },
  {
   "cell_type": "markdown",
   "id": "78695173",
   "metadata": {},
   "source": [
    "FILE INPUT AND OUTPUT\n"
   ]
  },
  {
   "cell_type": "code",
   "execution_count": null,
   "id": "e67efee3",
   "metadata": {},
   "outputs": [],
   "source": [
    "#w : write\n",
    "#r: read\n",
    "#a: append\n",
    "#r+: read and append"
   ]
  },
  {
   "cell_type": "code",
   "execution_count": 59,
   "id": "3e244380",
   "metadata": {},
   "outputs": [],
   "source": [
    "file = open('demo.doc', 'w') #you can save it with .txt for test, and .pdf for pdf\n",
    "file.write('''you have been employed to jtech ltd, you are asked to create a simple posting program for staff to any of our branches \n",
    "'abia, kano, delta, gombe, akwa-ibom, oyo, osun, kwara]\n",
    "create a dictionary ''')\n",
    "file.close()\n",
    "#dont forget to run it\n",
    "#all the doc files will open in ms word but will be in ugpython folder"
   ]
  },
  {
   "cell_type": "code",
   "execution_count": 60,
   "id": "ed1485a7",
   "metadata": {},
   "outputs": [
    {
     "name": "stdout",
     "output_type": "stream",
     "text": [
      "you have been employed to jtech ltd, you are asked to create a simple posting program for staff to any of our branches \n",
      "'abia, kano, delta, gombe, akwa-ibom, oyo, osun, kwara]\n",
      "create a dictionary \n"
     ]
    }
   ],
   "source": [
    "file = open('demo.doc', 'r')\n",
    "print(file.read())\n",
    "file.close()"
   ]
  },
  {
   "cell_type": "code",
   "execution_count": 65,
   "id": "90acf03f",
   "metadata": {},
   "outputs": [],
   "source": [
    "file = open('demo.doc', 'a')\n",
    "file.write('as a database with staff ID as the key with the following values staff name, DOB, address, phone no, and email')\n",
    "file.close()\n"
   ]
  },
  {
   "cell_type": "code",
   "execution_count": 66,
   "id": "e1d35811",
   "metadata": {},
   "outputs": [
    {
     "name": "stdout",
     "output_type": "stream",
     "text": [
      "you have been employed to jtech ltd, you are asked to create a simple posting program for staff to any of our branches \n",
      "'abia, kano, delta, gombe, akwa-ibom, oyo, osun, kwara]\n",
      "create a dictionary as a database with staff ID as the key with the following values staff name, DOB, address, phone no, and emailas a database with staff ID as the key with the following values staff name, DOB, address, phone no, and emailas a database with staff ID as the key with the following values staff name, DOB, address, phone no, and email\n"
     ]
    }
   ],
   "source": [
    "file = open('demo.doc', 'r+')\n",
    "print(file.read())\n",
    "file.write('python is fun')\n",
    "file.close()"
   ]
  },
  {
   "cell_type": "code",
   "execution_count": 68,
   "id": "9e96db63",
   "metadata": {},
   "outputs": [
    {
     "name": "stdout",
     "output_type": "stream",
     "text": [
      " the highest word is percent-and-a-half\n",
      "the lowest word is a\n",
      "end of program\n"
     ]
    }
   ],
   "source": [
    "try:\n",
    "    file = open('news.txt', 'r', encoding = 'utf-8')\n",
    "    content = file.read()\n",
    "    word = content.split()\n",
    "except FileNotFoundError:\n",
    "    print('the file you are trying to trying to read does not exist in this directory')\n",
    "else:\n",
    "    highest = max(word, key=len)\n",
    "    lowest = min(word, key= len)\n",
    "finally:\n",
    "    print(f' the highest word is {highest}')\n",
    "    print (f'the lowest word is {lowest}')\n",
    "    print ('end of program')"
   ]
  },
  {
   "cell_type": "code",
   "execution_count": 72,
   "id": "dbbc9cfe",
   "metadata": {},
   "outputs": [
    {
     "name": "stdout",
     "output_type": "stream",
     "text": [
      "1\n",
      " the highest word is percent-and-a-half\n",
      "the lowest word is a\n",
      "end of program\n"
     ]
    }
   ],
   "source": [
    "try:\n",
    "    file = open('news.txt', 'r', encoding = 'utf-8')\n",
    "    content = file.read()\n",
    "    word = content.split()\n",
    "except FileNotFoundError:\n",
    "    print('the file you are trying to trying to read does not exist in this directory')\n",
    "else:\n",
    "    print(word.count('percent-and-a-half'))\n",
    "finally:\n",
    "    print(f' the highest word is {highest}')\n",
    "    print (f'the lowest word is {lowest}')\n",
    "    print ('end of program')"
   ]
  },
  {
   "cell_type": "code",
   "execution_count": 74,
   "id": "b70dfdbd",
   "metadata": {},
   "outputs": [
    {
     "name": "stdout",
     "output_type": "stream",
     "text": [
      " the word count for percent-and-a-half is 1\n",
      "end of program\n"
     ]
    }
   ],
   "source": [
    "try:\n",
    "    file = open('news.txt', 'r', encoding = 'utf-8')\n",
    "    content = file.read()\n",
    "    word = content.split()\n",
    "except FileNotFoundError:\n",
    "    print('the file you are trying to trying to read does not exist in this directory')\n",
    "else:\n",
    "    countoutcome = word.count ('percent-and-a-half')\n",
    "finally:\n",
    "    print(f' the word count for percent-and-a-half is {countoutcome}')\n",
    "    print ('end of program')"
   ]
  },
  {
   "cell_type": "code",
   "execution_count": null,
   "id": "d881ee1f",
   "metadata": {},
   "outputs": [],
   "source": []
  }
 ],
 "metadata": {
  "kernelspec": {
   "display_name": "Python 3 (ipykernel)",
   "language": "python",
   "name": "python3"
  },
  "language_info": {
   "codemirror_mode": {
    "name": "ipython",
    "version": 3
   },
   "file_extension": ".py",
   "mimetype": "text/x-python",
   "name": "python",
   "nbconvert_exporter": "python",
   "pygments_lexer": "ipython3",
   "version": "3.9.12"
  }
 },
 "nbformat": 4,
 "nbformat_minor": 5
}
