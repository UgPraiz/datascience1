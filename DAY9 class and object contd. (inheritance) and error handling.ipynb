{
 "cells": [
  {
   "cell_type": "code",
   "execution_count": 11,
   "id": "46bc6aa0",
   "metadata": {},
   "outputs": [],
   "source": [
    "class simulation1:\n",
    "    def __init__(self, brand, model, colour, year, speed):\n",
    "        self.brand = brand\n",
    "        self.model = model\n",
    "        self.colour = colour\n",
    "        self.year = year\n",
    "        self.speed = speed\n",
    "    def start(self):\n",
    "        start = input(f'{self.brand} {self.model} starting number')\n",
    "        print (f'{self.brand} {self.model} starting')\n",
    "    def gear(self):\n",
    "        option = input('enter gear option')\n",
    "        if option == '1':\n",
    "            print('gear chnage to 1')\n",
    "        elif option =='2':\n",
    "            print ('gear change to 2')\n",
    "        elif option =='3':\n",
    "            print ('gear change to 3')\n",
    "        elif option =='4':\n",
    "            print ('gear change to 4')\n",
    "        elif option =='5':\n",
    "            print ('gear change to 5')\n",
    "        elif option =='R':\n",
    "            print (f'{self.brand} {self.model} is on reverse')\n",
    "car1 = simulation1('mercedes', 'gl450', 'black', 2007, 560)"
   ]
  },
  {
   "cell_type": "code",
   "execution_count": 12,
   "id": "c42eedcb",
   "metadata": {},
   "outputs": [
    {
     "name": "stdout",
     "output_type": "stream",
     "text": [
      "mercedes gl450 starting number0\n",
      "mercedes gl450 starting\n"
     ]
    }
   ],
   "source": [
    "car1.start()"
   ]
  },
  {
   "cell_type": "code",
   "execution_count": 36,
   "id": "ad3dfd5b",
   "metadata": {},
   "outputs": [],
   "source": [
    "class simulation2(simulation1):\n",
    "    def acceleration(self,milage):\n",
    "        milage = input('enter km')\n",
    "        if milage == '1000':\n",
    "            print('new vehicle')\n",
    "        elif milage >= '25000':\n",
    "            print ('fairly used vehicle')\n",
    "car2 = simulation2('mercedes', 'gl450', 'black', 2007, 560)"
   ]
  },
  {
   "cell_type": "code",
   "execution_count": 29,
   "id": "32df10c7",
   "metadata": {},
   "outputs": [
    {
     "name": "stdout",
     "output_type": "stream",
     "text": [
      "mercedes gl450 starting number7\n",
      "mercedes gl450 starting\n"
     ]
    }
   ],
   "source": [
    "car2.start()"
   ]
  },
  {
   "cell_type": "code",
   "execution_count": 37,
   "id": "9ccd6e72",
   "metadata": {},
   "outputs": [
    {
     "name": "stdout",
     "output_type": "stream",
     "text": [
      "enter km25000\n",
      "fairly used vehicle\n"
     ]
    }
   ],
   "source": [
    "car2.acceleration(45)"
   ]
  },
  {
   "cell_type": "markdown",
   "id": "e6509a29",
   "metadata": {},
   "source": [
    "ERROR HANDLING"
   ]
  },
  {
   "cell_type": "markdown",
   "id": "b2a80d12",
   "metadata": {},
   "source": [
    "attribute error: the function you're trying to execute does not exist with the type of values \n",
    "value error:\n",
    "type error:\n",
    "syntax error:\n",
    "logical error: \n",
    "long time error:\n"
   ]
  },
  {
   "cell_type": "code",
   "execution_count": 38,
   "id": "8b469220",
   "metadata": {},
   "outputs": [
    {
     "name": "stdout",
     "output_type": "stream",
     "text": [
      "enter number90\n",
      "enter number90\n",
      "choose operation [+,-,*,/]-\n",
      "90-90 = 0\n"
     ]
    }
   ],
   "source": [
    "#try,except, else and finally\n",
    "try:\n",
    "    num1 = int(input('enter number'))\n",
    "    num2 = int(input('enter number'))\n",
    "    option = input('choose operation [+,-,*,/]')\n",
    "    if option == '+':\n",
    "        print (f'{num1}+{num2} = {num1+num2}')\n",
    "    elif option == '-':\n",
    "        print (f'{num1}-{num2} = {num1-num2}')\n",
    "    elif option == '*':\n",
    "        print (f'{num1}*{num2} = {num1*num2}')\n",
    "    elif option == '/':\n",
    "        print (f'{num1}/{num2} = {num1/num2}')\n",
    "except:\n",
    "    print('you have encountered an error')"
   ]
  },
  {
   "cell_type": "code",
   "execution_count": 45,
   "id": "a36b1de4",
   "metadata": {},
   "outputs": [
    {
     "name": "stdout",
     "output_type": "stream",
     "text": [
      "enter number70\n",
      "enter numbero\n",
      "invalid value, only whole numbers needed\n"
     ]
    }
   ],
   "source": [
    "try:\n",
    "    num1 = int(input('enter number'))\n",
    "    num2 = int(input('enter number'))\n",
    "    option = input('choose operation [+,-,*,/]')\n",
    "    if option == '+':\n",
    "        print (f'{num1}+{num2} = {num1+num2}')\n",
    "    elif option == '-':\n",
    "        print (f'{num1}-{num2} = {num1-num2}')\n",
    "    elif option == '*':\n",
    "        print (f'{num1}*{num2} = {num1*num2}')\n",
    "    elif option == '/':\n",
    "        print (f'{num1}/{num2} = {num1/num2}')\n",
    "except ValueError:\n",
    "    print('invalid value, only whole numbers needed')\n",
    "except ZeroDivisionError:\n",
    "    print('cannot perform this operation')\n",
    "except:\n",
    "    print('you have encountered an error')"
   ]
  },
  {
   "cell_type": "code",
   "execution_count": 46,
   "id": "68587a77",
   "metadata": {},
   "outputs": [
    {
     "name": "stdout",
     "output_type": "stream",
     "text": [
      "enter number40\n",
      "enter number45\n",
      "choose operation [+,-,*,/]\n",
      "1237940039285380274899124224000000000000000000000000000000000000000000000\n"
     ]
    }
   ],
   "source": [
    "try:\n",
    "    num1 = int(input('enter number'))\n",
    "    num2 = int(input('enter number'))\n",
    "    option = input('choose operation [+,-,*,/]')\n",
    "    if option == '+':\n",
    "        print (f'{num1}+{num2} = {num1+num2}')\n",
    "    elif option == '-':\n",
    "        print (f'{num1}-{num2} = {num1-num2}')\n",
    "    elif option == '*':\n",
    "        print (f'{num1}*{num2} = {num1*num2}')\n",
    "    elif option == '/':\n",
    "        print (f'{num1}/{num2} = {num1/num2}')\n",
    "except ValueError:\n",
    "    print('invalid value, only whole numbers needed')\n",
    "except ZeroDivisionError:\n",
    "    print('cannot perform this operation')\n",
    "except:\n",
    "    print('you have encountered an error')\n",
    "else:\n",
    "    print(num1**num2)\n",
    "    #** means raise to power"
   ]
  },
  {
   "cell_type": "code",
   "execution_count": 47,
   "id": "26ddaddd",
   "metadata": {},
   "outputs": [
    {
     "name": "stdout",
     "output_type": "stream",
     "text": [
      "enter number45\n",
      "enter number45\n",
      "choose operation [+,-,*,/]*\n",
      "45*45 = 2025\n",
      "248063644451341145494649182395412689744530581492654164321720600128173828125\n",
      "end of program\n"
     ]
    }
   ],
   "source": [
    " #finally: whether or not there is an exception, finally will still execute\n",
    "try:\n",
    "    num1 = int(input('enter number'))\n",
    "    num2 = int(input('enter number'))\n",
    "    option = input('choose operation [+,-,*,/]')\n",
    "    if option == '+':\n",
    "        print (f'{num1}+{num2} = {num1+num2}')\n",
    "    elif option == '-':\n",
    "        print (f'{num1}-{num2} = {num1-num2}')\n",
    "    elif option == '*':\n",
    "        print (f'{num1}*{num2} = {num1*num2}')\n",
    "    elif option == '/':\n",
    "        print (f'{num1}/{num2} = {num1/num2}')\n",
    "except ValueError:\n",
    "    print('invalid value, only whole numbers needed')\n",
    "except ZeroDivisionError:\n",
    "    print('cannot perform this operation')\n",
    "except:\n",
    "    print('you have encountered an error')\n",
    "else:\n",
    "    print(num1**num2)\n",
    "finally:\n",
    "    print('end of program')"
   ]
  },
  {
   "cell_type": "code",
   "execution_count": 13,
   "id": "22d57714",
   "metadata": {},
   "outputs": [
    {
     "name": "stdout",
     "output_type": "stream",
     "text": [
      "provide salary:1500\n",
      "provide transport percentage:6\n",
      "cannot perform this operation\n"
     ]
    }
   ],
   "source": [
    "try:\n",
    "    salary = float(input('provide salary:'))\n",
    "    transport_percentage = float(input('provide transport percentage:'))\n",
    "    if transport_percentage >0 and transport_percentage<=5:\n",
    "        bonus = (0.07*transport_percentage) * salary\n",
    "        print(f'your bonus is {bonus}')\n",
    "    elif transport_percentage >6 and transport_percentage<=10:\n",
    "        bonus = (0.07*transport_percentage) * salary\n",
    "        print(f'your bonus is {bonus}')\n",
    "    elif transport_percentage >11 and transport_percentage<=15:\n",
    "        bonus = (0.07*transport_percentage) * salary\n",
    "        print(f'your bonus is {bonus}')\n",
    "    elif transport_percentage >16 and transport_percentage<=20:\n",
    "        bonus = (0.07*transport_percentage) * salary\n",
    "        print(f'your bonus is {bonus}')\n",
    "    elif transport_percentage >20:\n",
    "        bonus = (0.07*transport_percentage) * salary\n",
    "        print(f'your bonus is {bonus}')\n",
    "except ValueError:\n",
    "    print('error, invalid value provided')\n",
    "except TypeError:\n",
    "    print('you have encountered an error')\n",
    "except FloatingPointError:\n",
    "    print('error')\n",
    "else:\n",
    "    print('cannot perform this operation')"
   ]
  },
  {
   "cell_type": "code",
   "execution_count": 6,
   "id": "37431b53",
   "metadata": {},
   "outputs": [
    {
     "name": "stdout",
     "output_type": "stream",
     "text": [
      "provide salary:1500\n",
      "provide transport percentage:4\n",
      "error\n"
     ]
    }
   ],
   "source": [
    "try:\n",
    "    salary = float(input('provide salary:'))\n",
    "    transport_percentage = int(input('provide transport percentage:'))\n",
    "    if transportper >0 and transportper<=5:\n",
    "        bonus = (0.07*transportper) * salary\n",
    "        print(f'you bonus is {bonus}')\n",
    "except:\n",
    "    print('error')"
   ]
  },
  {
   "cell_type": "code",
   "execution_count": 14,
   "id": "fddc028e",
   "metadata": {},
   "outputs": [
    {
     "name": "stdout",
     "output_type": "stream",
     "text": [
      "provide salary:13458\n",
      "provide transport percentage:6.5\n",
      "your bonus is 6123.390000000001\n",
      "cannot perform this operation\n"
     ]
    }
   ],
   "source": [
    "try:\n",
    "    salary = float(input('provide salary:'))\n",
    "    transport_percentage = float(input('provide transport percentage:'))\n",
    "    if transport_percentage >0 and transport_percentage<=5:\n",
    "        bonus = (0.07*transport_percentage) * salary\n",
    "        print(f'your bonus is {bonus}')\n",
    "    elif transport_percentage >6 and transport_percentage<=10:\n",
    "        bonus = (0.07*transport_percentage) * salary\n",
    "        print(f'your bonus is {bonus}')\n",
    "    elif transport_percentage >11 and transport_percentage<=15:\n",
    "        bonus = (0.07*transport_percentage) * salary\n",
    "        print(f'your bonus is {bonus}')\n",
    "    elif transport_percentage >16 and transport_percentage<=20:\n",
    "        bonus = (0.07*transport_percentage) * salary\n",
    "        print(f'your bonus is {bonus}')\n",
    "    elif transport_percentage >20:\n",
    "        bonus = (0.07*transport_percentage) * salary\n",
    "        print(f'your bonus is {bonus}')\n",
    "except ValueError:\n",
    "    print('error, invalid value provided')\n",
    "except TypeError:\n",
    "    print('you have encountered an error')\n",
    "except FloatingPointError:\n",
    "    print('error')\n",
    "else:\n",
    "    print('cannot perform this operation')"
   ]
  },
  {
   "cell_type": "code",
   "execution_count": null,
   "id": "02b30f62",
   "metadata": {},
   "outputs": [],
   "source": []
  }
 ],
 "metadata": {
  "kernelspec": {
   "display_name": "Python 3 (ipykernel)",
   "language": "python",
   "name": "python3"
  },
  "language_info": {
   "codemirror_mode": {
    "name": "ipython",
    "version": 3
   },
   "file_extension": ".py",
   "mimetype": "text/x-python",
   "name": "python",
   "nbconvert_exporter": "python",
   "pygments_lexer": "ipython3",
   "version": "3.9.12"
  }
 },
 "nbformat": 4,
 "nbformat_minor": 5
}
