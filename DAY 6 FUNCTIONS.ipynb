{
 "cells": [
  {
   "cell_type": "markdown",
   "id": "b7618b89",
   "metadata": {},
   "source": [
    "FUNCTIONS"
   ]
  },
  {
   "cell_type": "markdown",
   "id": "ba93b048",
   "metadata": {},
   "source": [
    "in a resturant, how can you use a function to calculate the total cost of a customer's meal, including tax?"
   ]
  },
  {
   "cell_type": "code",
   "execution_count": 5,
   "id": "60f53134",
   "metadata": {},
   "outputs": [
    {
     "name": "stdout",
     "output_type": "stream",
     "text": [
      "enter customer bill:4365465\n",
      "enter tip:45677\n",
      "BILL RECEIPT:\n",
      "MEAL BILL: 4365465.0\n",
      "tax: 327409.875\n",
      "total:4738551.875\n"
     ]
    }
   ],
   "source": [
    "#function without a parameter\n",
    "def billcalculator1():\n",
    "    customer_meal_bill = float(input('enter customer bill:'))\n",
    "    tax = 7.5/100\n",
    "    tip = float(input('enter tip:'))\n",
    "    totaltax = tax*customer_meal_bill\n",
    "    print (f'''BILL RECEIPT:\n",
    "MEAL BILL: {customer_meal_bill}\n",
    "tax: {totaltax}\n",
    "total:{customer_meal_bill + totaltax+tip}''')\n",
    "billcalculator1()"
   ]
  },
  {
   "cell_type": "code",
   "execution_count": 10,
   "id": "9fe20f34",
   "metadata": {},
   "outputs": [
    {
     "name": "stdout",
     "output_type": "stream",
     "text": [
      "BILL RECEIPT:\n",
      "MEAL BILL: 50000\n",
      "tax: 375000.0\n",
      "total:428000.0\n"
     ]
    }
   ],
   "source": [
    "#function with a parameter: this means that usually all the values shld be given at the print stage\n",
    "def billcalculator2(customer_meal_bill, tip, tax ):\n",
    "    totaltax = tax*customer_meal_bill\n",
    "    print (f'''BILL RECEIPT:\n",
    "MEAL BILL: {customer_meal_bill}\n",
    "tax: {totaltax}\n",
    "total:{customer_meal_bill + totaltax+tip}''')\n",
    "billcalculator2(50000, 3000, 7.5)"
   ]
  },
  {
   "cell_type": "code",
   "execution_count": 13,
   "id": "21cd3125",
   "metadata": {},
   "outputs": [
    {
     "name": "stdout",
     "output_type": "stream",
     "text": [
      "__________BILL RECEIPT:__________\n",
      "MEAL BILL: 50000\n",
      "tax: 375000.0\n",
      "total:428000.0\n",
      "\n"
     ]
    }
   ],
   "source": [
    "#however the value can also be changed and the new value will override the initial value\n",
    "#it is also important to change or indicate the difference in the function definitions or else the new values will override the old ones\n",
    "def billcalculator2(customer_meal_bill, tip, tax=5 ):\n",
    "    totaltax = tax*customer_meal_bill\n",
    "    print (f'''__________BILL RECEIPT:__________\n",
    "MEAL BILL: {customer_meal_bill}\n",
    "tax: {totaltax}\n",
    "total:{customer_meal_bill + totaltax+tip}\n",
    "''')\n",
    "billcalculator2(50000, 3000, 7.5)"
   ]
  },
  {
   "cell_type": "code",
   "execution_count": 21,
   "id": "5ee286c5",
   "metadata": {},
   "outputs": [
    {
     "name": "stdout",
     "output_type": "stream",
     "text": [
      "enter optionrice\n",
      "enter type of rice:fried rice\n",
      "number of spoons:8\n",
      "enter type of protein:chicken\n",
      "number of protein:4\n",
      "enter type of drink:fanta\n",
      "number of drinks:1\n",
      "tip given by customer:500\n",
      "__________BILL RECEIPT:__________\n",
      "RICE: 2000.0\n",
      "PROTEIN: 1400.0\n",
      "DRINKS: 250\n",
      "tax: 97.5\n",
      "total:3847.5\n",
      "\n"
     ]
    }
   ],
   "source": [
    "def ricedepartment():\n",
    "    rice = input('enter type of rice:')\n",
    "    no_spoon = float(input('number of spoons:'))\n",
    "    protein = input('enter type of protein:')\n",
    "    no_protein = float(input('number of protein:'))\n",
    "    drinks = input('enter type of drink:')\n",
    "    no_drinks = int(input('number of drinks:'))\n",
    "    tax = 3\n",
    "    tip = float(input('tip given by customer:'))\n",
    "    total_meal_bill = (no_spoon*200) + (no_protein*350) + (no_drinks*250)\n",
    "    totaltax = (tax/100) *total_meal_bill\n",
    "    print(f'''__________BILL RECEIPT:__________\n",
    "RICE: {no_spoon*250}\n",
    "PROTEIN: {no_protein*350}\n",
    "DRINKS: {no_drinks*250}\n",
    "tax: {totaltax}\n",
    "total:{total_meal_bill + totaltax+tip}\n",
    "''')\n",
    "    \n",
    "def swallowdepartment():\n",
    "    swallow = input('enter type of swallow:')\n",
    "    no_wraps = float(input('number of wraps:'))\n",
    "    protein = input('enter type of protein:')\n",
    "    no_protein = float(input('number of protein:'))\n",
    "    drinks = input('enter type of drink:')\n",
    "    no_drinks = int(input('number of drinks:'))\n",
    "    tax = 3\n",
    "    tip = float(input('tip given by customer:'))\n",
    "    total_meal_bill = (no_spoon*200) + (no_protein*350) + (no_drinks*250)\n",
    "    totaltax = (tax/100) *total_meal_bill\n",
    "    print(f'''__________BILL RECEIPT:__________\n",
    "SWALLOW: {no_wraps*250}\n",
    "PROTEIN: {no_protein*350}\n",
    "DRINKS: {no_drinks*250}\n",
    "tax: {totaltax}\n",
    "total:{total_meal_bill + totaltax+tip}\n",
    "''')\n",
    "    \n",
    "def snacksdepartment():\n",
    "    swallow = input('enter type of snacks:')\n",
    "    no_snacks = float(input('number of snacks:'))\n",
    "    \n",
    "    drinks = input('enter type of drink:')\n",
    "    no_drinks = int(input('number of drinks:'))\n",
    "    tax = 3\n",
    "    tip = float(input('tip given by customer:'))\n",
    "    total_meal_bill = (no_spoon*200) + (no_protein*350) + (no_drinks*250)\n",
    "    totaltax = (tax/100) *total_meal_bill\n",
    "    print(f'''__________BILL RECEIPT:__________\n",
    "SNACKS: {no_wraps*250}\n",
    "DRINKS: {no_drinks*250}\n",
    "tax: {totaltax}\n",
    "total:{total_meal_bill + totaltax+tip}\n",
    "''')\n",
    "    \n",
    "def main():\n",
    "    option = input ('enter option')\n",
    "    if option == 'rice':\n",
    "        ricedepartment()\n",
    "    elif option == 'swallow':\n",
    "        swallowdepartment()\n",
    "    elif snacks == 'snacks':\n",
    "        snacksdepartment()\n",
    "main()"
   ]
  },
  {
   "cell_type": "code",
   "execution_count": 28,
   "id": "6bf1994e",
   "metadata": {},
   "outputs": [
    {
     "name": "stdout",
     "output_type": "stream",
     "text": [
      "enter optionrice\n",
      "enter type of rice:hgjg\n",
      "number of spoons:5\n",
      "enter type of protein:gjf\n",
      "number of protein:5\n",
      "enter type of drink:fjgh\n",
      "number of drinks:4\n",
      "tip given by customer:566\n",
      "__________BILL RECEIPT:__________\n",
      "RICE: 1250.0\n",
      "PROTEIN: 1750.0\n",
      "DRINKS: 1000\n",
      "tax: 112.5\n",
      "total:4428.5\n",
      "\n",
      "['__builtins__', '__cached__', '__doc__', '__file__', '__loader__', '__name__', '__package__', '__spec__', 'main', 'ricedepartment', 'snacksdepartment', 'swallowdepartment']\n"
     ]
    }
   ],
   "source": [
    "import mymodule\n",
    "print(dir(mymodule))"
   ]
  },
  {
   "cell_type": "code",
   "execution_count": null,
   "id": "eae2ab14",
   "metadata": {},
   "outputs": [],
   "source": [
    "print( mymodule.ricedepartment())"
   ]
  },
  {
   "cell_type": "code",
   "execution_count": null,
   "id": "ef4375e1",
   "metadata": {},
   "outputs": [],
   "source": []
  }
 ],
 "metadata": {
  "kernelspec": {
   "display_name": "Python 3 (ipykernel)",
   "language": "python",
   "name": "python3"
  },
  "language_info": {
   "codemirror_mode": {
    "name": "ipython",
    "version": 3
   },
   "file_extension": ".py",
   "mimetype": "text/x-python",
   "name": "python",
   "nbconvert_exporter": "python",
   "pygments_lexer": "ipython3",
   "version": "3.9.12"
  }
 },
 "nbformat": 4,
 "nbformat_minor": 5
}
