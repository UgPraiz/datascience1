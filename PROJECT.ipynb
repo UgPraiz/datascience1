{
 "cells": [
  {
   "cell_type": "code",
   "execution_count": 4,
   "id": "8572c621",
   "metadata": {},
   "outputs": [],
   "source": [
    "import mysql.connector"
   ]
  },
  {
   "cell_type": "code",
   "execution_count": 5,
   "id": "b078ce61",
   "metadata": {},
   "outputs": [],
   "source": [
    "database = mysql.connector.connect(\n",
    "    host = 'localhost',\n",
    "    user = 'root',\n",
    "    password = 'praiseugochukwu',\n",
    ")\n",
    "db = database.cursor()"
   ]
  },
  {
   "cell_type": "code",
   "execution_count": 6,
   "id": "8131b468",
   "metadata": {},
   "outputs": [
    {
     "ename": "DatabaseError",
     "evalue": "1007 (HY000): Can't create database 'phones'; database exists",
     "output_type": "error",
     "traceback": [
      "\u001b[1;31m---------------------------------------------------------------------------\u001b[0m",
      "\u001b[1;31mMySQLInterfaceError\u001b[0m                       Traceback (most recent call last)",
      "File \u001b[1;32m~\\anaconda3\\lib\\site-packages\\mysql\\connector\\connection_cext.py:535\u001b[0m, in \u001b[0;36mCMySQLConnection.cmd_query\u001b[1;34m(self, query, raw, buffered, raw_as_string)\u001b[0m\n\u001b[0;32m    534\u001b[0m         query \u001b[38;5;241m=\u001b[39m query\u001b[38;5;241m.\u001b[39mencode(\u001b[38;5;124m'\u001b[39m\u001b[38;5;124mutf-8\u001b[39m\u001b[38;5;124m'\u001b[39m)\n\u001b[1;32m--> 535\u001b[0m     \u001b[38;5;28;43mself\u001b[39;49m\u001b[38;5;241;43m.\u001b[39;49m\u001b[43m_cmysql\u001b[49m\u001b[38;5;241;43m.\u001b[39;49m\u001b[43mquery\u001b[49m\u001b[43m(\u001b[49m\u001b[43mquery\u001b[49m\u001b[43m,\u001b[49m\n\u001b[0;32m    536\u001b[0m \u001b[43m                       \u001b[49m\u001b[43mraw\u001b[49m\u001b[38;5;241;43m=\u001b[39;49m\u001b[43mraw\u001b[49m\u001b[43m,\u001b[49m\u001b[43m \u001b[49m\u001b[43mbuffered\u001b[49m\u001b[38;5;241;43m=\u001b[39;49m\u001b[43mbuffered\u001b[49m\u001b[43m,\u001b[49m\n\u001b[0;32m    537\u001b[0m \u001b[43m                       \u001b[49m\u001b[43mraw_as_string\u001b[49m\u001b[38;5;241;43m=\u001b[39;49m\u001b[43mraw_as_string\u001b[49m\u001b[43m,\u001b[49m\n\u001b[0;32m    538\u001b[0m \u001b[43m                       \u001b[49m\u001b[43mquery_attrs\u001b[49m\u001b[38;5;241;43m=\u001b[39;49m\u001b[38;5;28;43mself\u001b[39;49m\u001b[38;5;241;43m.\u001b[39;49m\u001b[43m_query_attrs\u001b[49m\u001b[43m)\u001b[49m\n\u001b[0;32m    539\u001b[0m \u001b[38;5;28;01mexcept\u001b[39;00m MySQLInterfaceError \u001b[38;5;28;01mas\u001b[39;00m exc:\n",
      "\u001b[1;31mMySQLInterfaceError\u001b[0m: Can't create database 'phones'; database exists",
      "\nDuring handling of the above exception, another exception occurred:\n",
      "\u001b[1;31mDatabaseError\u001b[0m                             Traceback (most recent call last)",
      "Input \u001b[1;32mIn [6]\u001b[0m, in \u001b[0;36m<cell line: 1>\u001b[1;34m()\u001b[0m\n\u001b[1;32m----> 1\u001b[0m \u001b[43mdb\u001b[49m\u001b[38;5;241;43m.\u001b[39;49m\u001b[43mexecute\u001b[49m\u001b[43m(\u001b[49m\u001b[38;5;124;43m'\u001b[39;49m\u001b[38;5;124;43mcreate database phones\u001b[39;49m\u001b[38;5;124;43m'\u001b[39;49m\u001b[43m)\u001b[49m\n\u001b[0;32m      2\u001b[0m db\u001b[38;5;241m.\u001b[39mexecute(\u001b[38;5;124m'\u001b[39m\u001b[38;5;124mshow databases\u001b[39m\u001b[38;5;124m'\u001b[39m)\n\u001b[0;32m      3\u001b[0m \u001b[38;5;28;01mfor\u001b[39;00m x \u001b[38;5;129;01min\u001b[39;00m db:\n",
      "File \u001b[1;32m~\\anaconda3\\lib\\site-packages\\mysql\\connector\\cursor_cext.py:269\u001b[0m, in \u001b[0;36mCMySQLCursor.execute\u001b[1;34m(self, operation, params, multi)\u001b[0m\n\u001b[0;32m    265\u001b[0m             \u001b[38;5;28;01mraise\u001b[39;00m errors\u001b[38;5;241m.\u001b[39mProgrammingError(\n\u001b[0;32m    266\u001b[0m                 \u001b[38;5;124m\"\u001b[39m\u001b[38;5;124mNot all parameters were used in the SQL statement\u001b[39m\u001b[38;5;124m\"\u001b[39m)\n\u001b[0;32m    268\u001b[0m \u001b[38;5;28;01mtry\u001b[39;00m:\n\u001b[1;32m--> 269\u001b[0m     result \u001b[38;5;241m=\u001b[39m \u001b[38;5;28;43mself\u001b[39;49m\u001b[38;5;241;43m.\u001b[39;49m\u001b[43m_cnx\u001b[49m\u001b[38;5;241;43m.\u001b[39;49m\u001b[43mcmd_query\u001b[49m\u001b[43m(\u001b[49m\u001b[43mstmt\u001b[49m\u001b[43m,\u001b[49m\u001b[43m \u001b[49m\u001b[43mraw\u001b[49m\u001b[38;5;241;43m=\u001b[39;49m\u001b[38;5;28;43mself\u001b[39;49m\u001b[38;5;241;43m.\u001b[39;49m\u001b[43m_raw\u001b[49m\u001b[43m,\u001b[49m\n\u001b[0;32m    270\u001b[0m \u001b[43m                                 \u001b[49m\u001b[43mbuffered\u001b[49m\u001b[38;5;241;43m=\u001b[39;49m\u001b[38;5;28;43mself\u001b[39;49m\u001b[38;5;241;43m.\u001b[39;49m\u001b[43m_buffered\u001b[49m\u001b[43m,\u001b[49m\n\u001b[0;32m    271\u001b[0m \u001b[43m                                 \u001b[49m\u001b[43mraw_as_string\u001b[49m\u001b[38;5;241;43m=\u001b[39;49m\u001b[38;5;28;43mself\u001b[39;49m\u001b[38;5;241;43m.\u001b[39;49m\u001b[43m_raw_as_string\u001b[49m\u001b[43m)\u001b[49m\n\u001b[0;32m    272\u001b[0m \u001b[38;5;28;01mexcept\u001b[39;00m MySQLInterfaceError \u001b[38;5;28;01mas\u001b[39;00m exc:\n\u001b[0;32m    273\u001b[0m     \u001b[38;5;28;01mraise\u001b[39;00m errors\u001b[38;5;241m.\u001b[39mget_mysql_exception(msg\u001b[38;5;241m=\u001b[39mexc\u001b[38;5;241m.\u001b[39mmsg, errno\u001b[38;5;241m=\u001b[39mexc\u001b[38;5;241m.\u001b[39merrno,\n\u001b[0;32m    274\u001b[0m                                      sqlstate\u001b[38;5;241m=\u001b[39mexc\u001b[38;5;241m.\u001b[39msqlstate)\n",
      "File \u001b[1;32m~\\anaconda3\\lib\\site-packages\\mysql\\connector\\connection_cext.py:540\u001b[0m, in \u001b[0;36mCMySQLConnection.cmd_query\u001b[1;34m(self, query, raw, buffered, raw_as_string)\u001b[0m\n\u001b[0;32m    535\u001b[0m     \u001b[38;5;28mself\u001b[39m\u001b[38;5;241m.\u001b[39m_cmysql\u001b[38;5;241m.\u001b[39mquery(query,\n\u001b[0;32m    536\u001b[0m                        raw\u001b[38;5;241m=\u001b[39mraw, buffered\u001b[38;5;241m=\u001b[39mbuffered,\n\u001b[0;32m    537\u001b[0m                        raw_as_string\u001b[38;5;241m=\u001b[39mraw_as_string,\n\u001b[0;32m    538\u001b[0m                        query_attrs\u001b[38;5;241m=\u001b[39m\u001b[38;5;28mself\u001b[39m\u001b[38;5;241m.\u001b[39m_query_attrs)\n\u001b[0;32m    539\u001b[0m \u001b[38;5;28;01mexcept\u001b[39;00m MySQLInterfaceError \u001b[38;5;28;01mas\u001b[39;00m exc:\n\u001b[1;32m--> 540\u001b[0m     \u001b[38;5;28;01mraise\u001b[39;00m errors\u001b[38;5;241m.\u001b[39mget_mysql_exception(exc\u001b[38;5;241m.\u001b[39merrno, msg\u001b[38;5;241m=\u001b[39mexc\u001b[38;5;241m.\u001b[39mmsg,\n\u001b[0;32m    541\u001b[0m                                      sqlstate\u001b[38;5;241m=\u001b[39mexc\u001b[38;5;241m.\u001b[39msqlstate)\n\u001b[0;32m    542\u001b[0m \u001b[38;5;28;01mexcept\u001b[39;00m \u001b[38;5;167;01mAttributeError\u001b[39;00m:\n\u001b[0;32m    543\u001b[0m     \u001b[38;5;28;01mif\u001b[39;00m \u001b[38;5;28mself\u001b[39m\u001b[38;5;241m.\u001b[39m_unix_socket:\n",
      "\u001b[1;31mDatabaseError\u001b[0m: 1007 (HY000): Can't create database 'phones'; database exists"
     ]
    }
   ],
   "source": [
    "db.execute('create database phones')\n",
    "db.execute('show databases')\n",
    "for x in db:\n",
    "    print(x)"
   ]
  },
  {
   "cell_type": "code",
   "execution_count": 10,
   "id": "ae7c88d7",
   "metadata": {},
   "outputs": [],
   "source": [
    "database = mysql.connector.connect(\n",
    "    host = 'localhost',\n",
    "    user = 'root',\n",
    "    password = 'praiseugochukwu',\n",
    "    database='phones'\n",
    ")\n",
    "db = database.cursor()"
   ]
  },
  {
   "cell_type": "code",
   "execution_count": 2,
   "id": "2515e4e5",
   "metadata": {},
   "outputs": [
    {
     "ename": "NameError",
     "evalue": "name 'db' is not defined",
     "output_type": "error",
     "traceback": [
      "\u001b[1;31m---------------------------------------------------------------------------\u001b[0m",
      "\u001b[1;31mNameError\u001b[0m                                 Traceback (most recent call last)",
      "Input \u001b[1;32mIn [2]\u001b[0m, in \u001b[0;36m<cell line: 1>\u001b[1;34m()\u001b[0m\n\u001b[1;32m----> 1\u001b[0m \u001b[43mdb\u001b[49m\u001b[38;5;241m.\u001b[39mexecute(\u001b[38;5;124m'\u001b[39m\u001b[38;5;124mcreate table phonestorage(ID int not null primary key, BRAND text not null, MODEL text not null,\u001b[39m\u001b[38;5;130;01m\\\u001b[39;00m\n\u001b[0;32m      2\u001b[0m \u001b[38;5;124m           COLOUR text not null, QUALITY text not null, RAM text not null, ROM text not null, CAMERA_QUALITY text not null)\u001b[39m\u001b[38;5;124m'\u001b[39m)\n\u001b[0;32m      3\u001b[0m db\u001b[38;5;241m.\u001b[39mexecute(\u001b[38;5;124m'\u001b[39m\u001b[38;5;124mshow tables\u001b[39m\u001b[38;5;124m'\u001b[39m)\n\u001b[0;32m      4\u001b[0m \u001b[38;5;28;01mfor\u001b[39;00m x \u001b[38;5;129;01min\u001b[39;00m db:\n",
      "\u001b[1;31mNameError\u001b[0m: name 'db' is not defined"
     ]
    }
   ],
   "source": [
    "db.execute('create table phonestorage(ID int not null primary key, BRAND text not null, MODEL text not null,\\\n",
    "           COLOUR text not null, QUALITY text not null, RAM text not null, ROM text not null, CAMERA_QUALITY text not null)')\n",
    "db.execute('show tables')\n",
    "for x in db:\n",
    "    print(x)"
   ]
  },
  {
   "cell_type": "code",
   "execution_count": null,
   "id": "a09f1748",
   "metadata": {},
   "outputs": [
    {
     "name": "stdout",
     "output_type": "stream",
     "text": [
      "enter admin to login and quit to logout of the system:admin\n",
      "pick your operation [accept, display, search, update, delete]:accept\n",
      "ID2\n",
      "brand nameInfinix\n",
      "phone model3oI\n",
      "phone colourBlack\n",
      "phone quality56\n",
      "RAM8\n",
      "ROM256\n",
      "camera quality55\n",
      "do you want to perform another operation? enter admin to login and quit to logout of the system:admin\n",
      "pick your operation [accept, display, search, update, delete]:display\n",
      "(1, 'SAMSUNG', 'A13', 'PEACH', 'NEW', '4GB', '64GB', '13AMP')\n",
      "(2, 'Infinix', '3oI', 'Black', '56', '8', '256', '55')\n"
     ]
    }
   ],
   "source": [
    "class phonestore:\n",
    "    def accept(self):\n",
    "        ID = input ('ID')\n",
    "        BRAND = input ('brand name')\n",
    "        MODEL = input ('phone model')\n",
    "        COLOUR = input ('phone colour')\n",
    "        QUALITY = input ('phone quality')\n",
    "        RAM = input ('RAM')\n",
    "        ROM= input ('ROM')\n",
    "        CAMERA_QUALITY = input ('camera quality')\n",
    "        \n",
    "        sql = 'insert into phonestorage (ID, BRAND, MODEL, COLOUR, QUALITY, RAM, ROM,CAMERA_QUALITY ) values (%s, %s, %s, %s, %s, %s, %s, %s)'\n",
    "        val = [(int (ID), BRAND,MODEL, COLOUR, QUALITY, RAM, ROM,CAMERA_QUALITY)]\n",
    "        db.executemany(sql,val) \n",
    "        database.commit() \n",
    "        \n",
    "    def display(self):\n",
    "        db.execute('select * from phonestorage')\n",
    "        for x in db:\n",
    "            print(x)\n",
    "            \n",
    "    def search(self):\n",
    "        ID= input ('enter phone ID to search:')\n",
    "        db.execute('select * from phonestorage where ID like \"{}\"'.format(ID))\n",
    "        for x in db:\n",
    "            print(x)\n",
    "    def update(self):\n",
    "        ID = input ('enter ID to update:')\n",
    "        column = input ('enter the column:')\n",
    "        value = input('enter the new value:')\n",
    "        db.execute('update phonestorage set {} = \"{}\" where ID = {}'. format(column, value, ID))\n",
    "        database.commit()\n",
    "        db.execute('select * from phonestorage')\n",
    "        for x in db:\n",
    "            print(x)\n",
    "    def delete(self):\n",
    "        ID = input ('enter ID to delete:')\n",
    "        database.execute('update from phonestorage where ID = {}'. format(ID))\n",
    "        db.commit()\n",
    "        db.execute('select * from phonestorage')\n",
    "        for x in db:\n",
    "            print(x)\n",
    "\n",
    "program = phonestore()\n",
    "counter = 1\n",
    "operation = input ('enter admin to login and quit to logout of the system:')\n",
    "while operation == 'admin':\n",
    "    option = input ('pick your operation [accept, display, search, update, delete]:')\n",
    "    if option == 'accept':\n",
    "        program.accept()\n",
    "    elif option == 'display':\n",
    "        program.display()\n",
    "    elif option == 'search':\n",
    "        program.search()\n",
    "    elif option == 'update':\n",
    "        program.update()\n",
    "    elif option == 'delete':\n",
    "        program.delete()\n",
    "    operation = input ('do you want to perform another operation? enter admin to login and quit to logout of the system:')\n",
    "    counter +=1"
   ]
  },
  {
   "cell_type": "code",
   "execution_count": null,
   "id": "68f55fec",
   "metadata": {},
   "outputs": [],
   "source": []
  }
 ],
 "metadata": {
  "kernelspec": {
   "display_name": "Python 3 (ipykernel)",
   "language": "python",
   "name": "python3"
  },
  "language_info": {
   "codemirror_mode": {
    "name": "ipython",
    "version": 3
   },
   "file_extension": ".py",
   "mimetype": "text/x-python",
   "name": "python",
   "nbconvert_exporter": "python",
   "pygments_lexer": "ipython3",
   "version": "3.9.12"
  }
 },
 "nbformat": 4,
 "nbformat_minor": 5
}
